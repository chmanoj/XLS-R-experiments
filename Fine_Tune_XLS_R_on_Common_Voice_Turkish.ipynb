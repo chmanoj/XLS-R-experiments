{
  "nbformat": 4,
  "nbformat_minor": 0,
  "metadata": {
    "accelerator": "GPU",
    "colab": {
      "name": "Fine-Tune XLS-R on Common Voice.ipynb",
      "provenance": [],
      "collapsed_sections": [],
      "machine_shape": "hm",
      "include_colab_link": true
    },
    "kernelspec": {
      "display_name": "Python 3",
      "name": "python3"
    },
    "widgets": {
      "application/vnd.jupyter.widget-state+json": {
        "d8b3d0b34e3c477c817f5b3fd8fe508e": {
          "model_module": "@jupyter-widgets/controls",
          "model_name": "VBoxModel",
          "model_module_version": "1.5.0",
          "state": {
            "_view_name": "VBoxView",
            "_dom_classes": [],
            "_model_name": "VBoxModel",
            "_view_module": "@jupyter-widgets/controls",
            "_model_module_version": "1.5.0",
            "_view_count": null,
            "_view_module_version": "1.5.0",
            "box_style": "",
            "layout": "IPY_MODEL_c52b68836ea44904a89e888960d00a56",
            "_model_module": "@jupyter-widgets/controls",
            "children": [
              "IPY_MODEL_4231e176d7df44419b470be682ff042a",
              "IPY_MODEL_cbb34a8828224d618b6e14e1c61b6352",
              "IPY_MODEL_a6627a8ca05b4da2aaf5a600157531a1"
            ]
          }
        },
        "c52b68836ea44904a89e888960d00a56": {
          "model_module": "@jupyter-widgets/base",
          "model_name": "LayoutModel",
          "model_module_version": "1.2.0",
          "state": {
            "_view_name": "LayoutView",
            "grid_template_rows": null,
            "right": null,
            "justify_content": null,
            "_view_module": "@jupyter-widgets/base",
            "overflow": null,
            "_model_module_version": "1.2.0",
            "_view_count": null,
            "flex_flow": "column",
            "width": "50%",
            "min_width": null,
            "border": null,
            "align_items": "center",
            "bottom": null,
            "_model_module": "@jupyter-widgets/base",
            "top": null,
            "grid_column": null,
            "overflow_y": null,
            "overflow_x": null,
            "grid_auto_flow": null,
            "grid_area": null,
            "grid_template_columns": null,
            "flex": null,
            "_model_name": "LayoutModel",
            "justify_items": null,
            "grid_row": null,
            "max_height": null,
            "align_content": null,
            "visibility": null,
            "align_self": null,
            "height": null,
            "min_height": null,
            "padding": null,
            "grid_auto_rows": null,
            "grid_gap": null,
            "max_width": null,
            "order": null,
            "_view_module_version": "1.2.0",
            "grid_template_areas": null,
            "object_position": null,
            "object_fit": null,
            "grid_auto_columns": null,
            "margin": null,
            "display": "flex",
            "left": null
          }
        },
        "4231e176d7df44419b470be682ff042a": {
          "model_module": "@jupyter-widgets/controls",
          "model_name": "HTMLModel",
          "model_module_version": "1.5.0",
          "state": {
            "_view_name": "HTMLView",
            "style": "IPY_MODEL_93c3f770f08a48729681541e28669df1",
            "_dom_classes": [],
            "description": "",
            "_model_name": "HTMLModel",
            "placeholder": "​",
            "_view_module": "@jupyter-widgets/controls",
            "_model_module_version": "1.5.0",
            "value": "<center>\n<img src=https://huggingface.co/front/assets/huggingface_logo-noborder.svg alt='Hugging Face'>\n<br>\n<b>The AI community building the future</b>\n<br>\nImmediately click login after typing your password or it might be stored in plain text in this notebook file.\n</center>",
            "_view_count": null,
            "_view_module_version": "1.5.0",
            "description_tooltip": null,
            "_model_module": "@jupyter-widgets/controls",
            "layout": "IPY_MODEL_949fac0088a0446d9398775a671bc33c"
          }
        },
        "cbb34a8828224d618b6e14e1c61b6352": {
          "model_module": "@jupyter-widgets/controls",
          "model_name": "HBoxModel",
          "model_module_version": "1.5.0",
          "state": {
            "_view_name": "HBoxView",
            "_dom_classes": [],
            "_model_name": "HBoxModel",
            "_view_module": "@jupyter-widgets/controls",
            "_model_module_version": "1.5.0",
            "_view_count": null,
            "_view_module_version": "1.5.0",
            "box_style": "",
            "layout": "IPY_MODEL_4a4510ec252640898482cb5d4439056c",
            "_model_module": "@jupyter-widgets/controls",
            "children": [
              "IPY_MODEL_ebbe7ee460c544b2b56d8f075b06d13c",
              "IPY_MODEL_8e0d0791ee364bcc98cdd1ece5144733"
            ]
          }
        },
        "a6627a8ca05b4da2aaf5a600157531a1": {
          "model_module": "@jupyter-widgets/controls",
          "model_name": "ButtonModel",
          "model_module_version": "1.5.0",
          "state": {
            "_view_name": "ButtonView",
            "style": "IPY_MODEL_0a09708797dd4c6dbacbc422578a873c",
            "_dom_classes": [],
            "description": "Login",
            "_model_name": "ButtonModel",
            "button_style": "",
            "_view_module": "@jupyter-widgets/controls",
            "_model_module_version": "1.5.0",
            "tooltip": "",
            "_view_count": null,
            "disabled": false,
            "_view_module_version": "1.5.0",
            "layout": "IPY_MODEL_2fc6d5b6e37149b1bcda0d17a7c5b904",
            "_model_module": "@jupyter-widgets/controls",
            "icon": ""
          }
        },
        "93c3f770f08a48729681541e28669df1": {
          "model_module": "@jupyter-widgets/controls",
          "model_name": "DescriptionStyleModel",
          "model_module_version": "1.5.0",
          "state": {
            "_view_name": "StyleView",
            "_model_name": "DescriptionStyleModel",
            "description_width": "",
            "_view_module": "@jupyter-widgets/base",
            "_model_module_version": "1.5.0",
            "_view_count": null,
            "_view_module_version": "1.2.0",
            "_model_module": "@jupyter-widgets/controls"
          }
        },
        "949fac0088a0446d9398775a671bc33c": {
          "model_module": "@jupyter-widgets/base",
          "model_name": "LayoutModel",
          "model_module_version": "1.2.0",
          "state": {
            "_view_name": "LayoutView",
            "grid_template_rows": null,
            "right": null,
            "justify_content": null,
            "_view_module": "@jupyter-widgets/base",
            "overflow": null,
            "_model_module_version": "1.2.0",
            "_view_count": null,
            "flex_flow": null,
            "width": null,
            "min_width": null,
            "border": null,
            "align_items": null,
            "bottom": null,
            "_model_module": "@jupyter-widgets/base",
            "top": null,
            "grid_column": null,
            "overflow_y": null,
            "overflow_x": null,
            "grid_auto_flow": null,
            "grid_area": null,
            "grid_template_columns": null,
            "flex": null,
            "_model_name": "LayoutModel",
            "justify_items": null,
            "grid_row": null,
            "max_height": null,
            "align_content": null,
            "visibility": null,
            "align_self": null,
            "height": null,
            "min_height": null,
            "padding": null,
            "grid_auto_rows": null,
            "grid_gap": null,
            "max_width": null,
            "order": null,
            "_view_module_version": "1.2.0",
            "grid_template_areas": null,
            "object_position": null,
            "object_fit": null,
            "grid_auto_columns": null,
            "margin": null,
            "display": null,
            "left": null
          }
        },
        "4a4510ec252640898482cb5d4439056c": {
          "model_module": "@jupyter-widgets/base",
          "model_name": "LayoutModel",
          "model_module_version": "1.2.0",
          "state": {
            "_view_name": "LayoutView",
            "grid_template_rows": null,
            "right": null,
            "justify_content": null,
            "_view_module": "@jupyter-widgets/base",
            "overflow": null,
            "_model_module_version": "1.2.0",
            "_view_count": null,
            "flex_flow": null,
            "width": null,
            "min_width": null,
            "border": null,
            "align_items": null,
            "bottom": null,
            "_model_module": "@jupyter-widgets/base",
            "top": null,
            "grid_column": null,
            "overflow_y": null,
            "overflow_x": null,
            "grid_auto_flow": null,
            "grid_area": null,
            "grid_template_columns": null,
            "flex": null,
            "_model_name": "LayoutModel",
            "justify_items": null,
            "grid_row": null,
            "max_height": null,
            "align_content": null,
            "visibility": null,
            "align_self": null,
            "height": null,
            "min_height": null,
            "padding": null,
            "grid_auto_rows": null,
            "grid_gap": null,
            "max_width": null,
            "order": null,
            "_view_module_version": "1.2.0",
            "grid_template_areas": null,
            "object_position": null,
            "object_fit": null,
            "grid_auto_columns": null,
            "margin": null,
            "display": null,
            "left": null
          }
        },
        "ebbe7ee460c544b2b56d8f075b06d13c": {
          "model_module": "@jupyter-widgets/controls",
          "model_name": "TextModel",
          "model_module_version": "1.5.0",
          "state": {
            "_view_name": "TextView",
            "style": "IPY_MODEL_bc17dc4fe95d4436b08547bff5b0c3ba",
            "_dom_classes": [],
            "description": "Username:",
            "_model_name": "TextModel",
            "placeholder": "​",
            "_view_module": "@jupyter-widgets/controls",
            "_model_module_version": "1.5.0",
            "value": "mcherukumalli0@gmail.com",
            "_view_count": null,
            "disabled": false,
            "_view_module_version": "1.5.0",
            "continuous_update": true,
            "description_tooltip": null,
            "_model_module": "@jupyter-widgets/controls",
            "layout": "IPY_MODEL_108e77fded43463a98071987f50e9c08"
          }
        },
        "8e0d0791ee364bcc98cdd1ece5144733": {
          "model_module": "@jupyter-widgets/controls",
          "model_name": "PasswordModel",
          "model_module_version": "1.5.0",
          "state": {
            "_view_name": "PasswordView",
            "style": "IPY_MODEL_af04236e434e435b9e955d12fd0f9a62",
            "_dom_classes": [],
            "description": "Password:",
            "_model_name": "PasswordModel",
            "placeholder": "​",
            "_view_module": "@jupyter-widgets/controls",
            "_model_module_version": "1.5.0",
            "value": "",
            "_view_count": null,
            "disabled": false,
            "_view_module_version": "1.5.0",
            "continuous_update": true,
            "description_tooltip": null,
            "_model_module": "@jupyter-widgets/controls",
            "layout": "IPY_MODEL_b0901effec424f4eba8a82213c0f157b"
          }
        },
        "0a09708797dd4c6dbacbc422578a873c": {
          "model_module": "@jupyter-widgets/controls",
          "model_name": "ButtonStyleModel",
          "model_module_version": "1.5.0",
          "state": {
            "_view_name": "StyleView",
            "_model_name": "ButtonStyleModel",
            "_view_module": "@jupyter-widgets/base",
            "_model_module_version": "1.5.0",
            "_view_count": null,
            "button_color": null,
            "font_weight": "",
            "_view_module_version": "1.2.0",
            "_model_module": "@jupyter-widgets/controls"
          }
        },
        "2fc6d5b6e37149b1bcda0d17a7c5b904": {
          "model_module": "@jupyter-widgets/base",
          "model_name": "LayoutModel",
          "model_module_version": "1.2.0",
          "state": {
            "_view_name": "LayoutView",
            "grid_template_rows": null,
            "right": null,
            "justify_content": null,
            "_view_module": "@jupyter-widgets/base",
            "overflow": null,
            "_model_module_version": "1.2.0",
            "_view_count": null,
            "flex_flow": null,
            "width": null,
            "min_width": null,
            "border": null,
            "align_items": null,
            "bottom": null,
            "_model_module": "@jupyter-widgets/base",
            "top": null,
            "grid_column": null,
            "overflow_y": null,
            "overflow_x": null,
            "grid_auto_flow": null,
            "grid_area": null,
            "grid_template_columns": null,
            "flex": null,
            "_model_name": "LayoutModel",
            "justify_items": null,
            "grid_row": null,
            "max_height": null,
            "align_content": null,
            "visibility": null,
            "align_self": null,
            "height": null,
            "min_height": null,
            "padding": null,
            "grid_auto_rows": null,
            "grid_gap": null,
            "max_width": null,
            "order": null,
            "_view_module_version": "1.2.0",
            "grid_template_areas": null,
            "object_position": null,
            "object_fit": null,
            "grid_auto_columns": null,
            "margin": null,
            "display": null,
            "left": null
          }
        },
        "bc17dc4fe95d4436b08547bff5b0c3ba": {
          "model_module": "@jupyter-widgets/controls",
          "model_name": "DescriptionStyleModel",
          "model_module_version": "1.5.0",
          "state": {
            "_view_name": "StyleView",
            "_model_name": "DescriptionStyleModel",
            "description_width": "",
            "_view_module": "@jupyter-widgets/base",
            "_model_module_version": "1.5.0",
            "_view_count": null,
            "_view_module_version": "1.2.0",
            "_model_module": "@jupyter-widgets/controls"
          }
        },
        "108e77fded43463a98071987f50e9c08": {
          "model_module": "@jupyter-widgets/base",
          "model_name": "LayoutModel",
          "model_module_version": "1.2.0",
          "state": {
            "_view_name": "LayoutView",
            "grid_template_rows": null,
            "right": null,
            "justify_content": null,
            "_view_module": "@jupyter-widgets/base",
            "overflow": null,
            "_model_module_version": "1.2.0",
            "_view_count": null,
            "flex_flow": null,
            "width": null,
            "min_width": null,
            "border": null,
            "align_items": null,
            "bottom": null,
            "_model_module": "@jupyter-widgets/base",
            "top": null,
            "grid_column": null,
            "overflow_y": null,
            "overflow_x": null,
            "grid_auto_flow": null,
            "grid_area": null,
            "grid_template_columns": null,
            "flex": null,
            "_model_name": "LayoutModel",
            "justify_items": null,
            "grid_row": null,
            "max_height": null,
            "align_content": null,
            "visibility": null,
            "align_self": null,
            "height": null,
            "min_height": null,
            "padding": null,
            "grid_auto_rows": null,
            "grid_gap": null,
            "max_width": null,
            "order": null,
            "_view_module_version": "1.2.0",
            "grid_template_areas": null,
            "object_position": null,
            "object_fit": null,
            "grid_auto_columns": null,
            "margin": null,
            "display": null,
            "left": null
          }
        },
        "af04236e434e435b9e955d12fd0f9a62": {
          "model_module": "@jupyter-widgets/controls",
          "model_name": "DescriptionStyleModel",
          "model_module_version": "1.5.0",
          "state": {
            "_view_name": "StyleView",
            "_model_name": "DescriptionStyleModel",
            "description_width": "",
            "_view_module": "@jupyter-widgets/base",
            "_model_module_version": "1.5.0",
            "_view_count": null,
            "_view_module_version": "1.2.0",
            "_model_module": "@jupyter-widgets/controls"
          }
        },
        "b0901effec424f4eba8a82213c0f157b": {
          "model_module": "@jupyter-widgets/base",
          "model_name": "LayoutModel",
          "model_module_version": "1.2.0",
          "state": {
            "_view_name": "LayoutView",
            "grid_template_rows": null,
            "right": null,
            "justify_content": null,
            "_view_module": "@jupyter-widgets/base",
            "overflow": null,
            "_model_module_version": "1.2.0",
            "_view_count": null,
            "flex_flow": null,
            "width": null,
            "min_width": null,
            "border": null,
            "align_items": null,
            "bottom": null,
            "_model_module": "@jupyter-widgets/base",
            "top": null,
            "grid_column": null,
            "overflow_y": null,
            "overflow_x": null,
            "grid_auto_flow": null,
            "grid_area": null,
            "grid_template_columns": null,
            "flex": null,
            "_model_name": "LayoutModel",
            "justify_items": null,
            "grid_row": null,
            "max_height": null,
            "align_content": null,
            "visibility": null,
            "align_self": null,
            "height": null,
            "min_height": null,
            "padding": null,
            "grid_auto_rows": null,
            "grid_gap": null,
            "max_width": null,
            "order": null,
            "_view_module_version": "1.2.0",
            "grid_template_areas": null,
            "object_position": null,
            "object_fit": null,
            "grid_auto_columns": null,
            "margin": null,
            "display": null,
            "left": null
          }
        },
        "d2ee1f51814249f786140a2f8f54295e": {
          "model_module": "@jupyter-widgets/controls",
          "model_name": "HBoxModel",
          "model_module_version": "1.5.0",
          "state": {
            "_view_name": "HBoxView",
            "_dom_classes": [],
            "_model_name": "HBoxModel",
            "_view_module": "@jupyter-widgets/controls",
            "_model_module_version": "1.5.0",
            "_view_count": null,
            "_view_module_version": "1.5.0",
            "box_style": "",
            "layout": "IPY_MODEL_95cf29f9e39b4e9abce48e47ab7b9e5e",
            "_model_module": "@jupyter-widgets/controls",
            "children": [
              "IPY_MODEL_bcbeae8f8cdc4696bb52a4e663d17b78",
              "IPY_MODEL_1d9aaa30624e4fa2b8a3b3eb3916fee7",
              "IPY_MODEL_4b0ace1e3a98481891516774a464a94b"
            ]
          }
        },
        "95cf29f9e39b4e9abce48e47ab7b9e5e": {
          "model_module": "@jupyter-widgets/base",
          "model_name": "LayoutModel",
          "model_module_version": "1.2.0",
          "state": {
            "_view_name": "LayoutView",
            "grid_template_rows": null,
            "right": null,
            "justify_content": null,
            "_view_module": "@jupyter-widgets/base",
            "overflow": null,
            "_model_module_version": "1.2.0",
            "_view_count": null,
            "flex_flow": null,
            "width": null,
            "min_width": null,
            "border": null,
            "align_items": null,
            "bottom": null,
            "_model_module": "@jupyter-widgets/base",
            "top": null,
            "grid_column": null,
            "overflow_y": null,
            "overflow_x": null,
            "grid_auto_flow": null,
            "grid_area": null,
            "grid_template_columns": null,
            "flex": null,
            "_model_name": "LayoutModel",
            "justify_items": null,
            "grid_row": null,
            "max_height": null,
            "align_content": null,
            "visibility": null,
            "align_self": null,
            "height": null,
            "min_height": null,
            "padding": null,
            "grid_auto_rows": null,
            "grid_gap": null,
            "max_width": null,
            "order": null,
            "_view_module_version": "1.2.0",
            "grid_template_areas": null,
            "object_position": null,
            "object_fit": null,
            "grid_auto_columns": null,
            "margin": null,
            "display": null,
            "left": null
          }
        },
        "bcbeae8f8cdc4696bb52a4e663d17b78": {
          "model_module": "@jupyter-widgets/controls",
          "model_name": "HTMLModel",
          "model_module_version": "1.5.0",
          "state": {
            "_view_name": "HTMLView",
            "style": "IPY_MODEL_b7a724e50acd4914b913b437747a0a9e",
            "_dom_classes": [],
            "description": "",
            "_model_name": "HTMLModel",
            "placeholder": "​",
            "_view_module": "@jupyter-widgets/controls",
            "_model_module_version": "1.5.0",
            "value": "100%",
            "_view_count": null,
            "_view_module_version": "1.5.0",
            "description_tooltip": null,
            "_model_module": "@jupyter-widgets/controls",
            "layout": "IPY_MODEL_b3647776e1dc4ddb87b356a6a32599ae"
          }
        },
        "1d9aaa30624e4fa2b8a3b3eb3916fee7": {
          "model_module": "@jupyter-widgets/controls",
          "model_name": "FloatProgressModel",
          "model_module_version": "1.5.0",
          "state": {
            "_view_name": "ProgressView",
            "style": "IPY_MODEL_981204fc4a5a4859b90a8ace59c76d1d",
            "_dom_classes": [],
            "description": "",
            "_model_name": "FloatProgressModel",
            "bar_style": "success",
            "max": 3478,
            "_view_module": "@jupyter-widgets/controls",
            "_model_module_version": "1.5.0",
            "value": 3478,
            "_view_count": null,
            "_view_module_version": "1.5.0",
            "orientation": "horizontal",
            "min": 0,
            "description_tooltip": null,
            "_model_module": "@jupyter-widgets/controls",
            "layout": "IPY_MODEL_94f998985403449084df717d7e7d77df"
          }
        },
        "4b0ace1e3a98481891516774a464a94b": {
          "model_module": "@jupyter-widgets/controls",
          "model_name": "HTMLModel",
          "model_module_version": "1.5.0",
          "state": {
            "_view_name": "HTMLView",
            "style": "IPY_MODEL_dc1e632a00694333a937f395d25bb21b",
            "_dom_classes": [],
            "description": "",
            "_model_name": "HTMLModel",
            "placeholder": "​",
            "_view_module": "@jupyter-widgets/controls",
            "_model_module_version": "1.5.0",
            "value": " 3478/3478 [00:00&lt;00:00, 9538.30ex/s]",
            "_view_count": null,
            "_view_module_version": "1.5.0",
            "description_tooltip": null,
            "_model_module": "@jupyter-widgets/controls",
            "layout": "IPY_MODEL_482688a1ebd1414e9c6c0049a8a1146e"
          }
        },
        "b7a724e50acd4914b913b437747a0a9e": {
          "model_module": "@jupyter-widgets/controls",
          "model_name": "DescriptionStyleModel",
          "model_module_version": "1.5.0",
          "state": {
            "_view_name": "StyleView",
            "_model_name": "DescriptionStyleModel",
            "description_width": "",
            "_view_module": "@jupyter-widgets/base",
            "_model_module_version": "1.5.0",
            "_view_count": null,
            "_view_module_version": "1.2.0",
            "_model_module": "@jupyter-widgets/controls"
          }
        },
        "b3647776e1dc4ddb87b356a6a32599ae": {
          "model_module": "@jupyter-widgets/base",
          "model_name": "LayoutModel",
          "model_module_version": "1.2.0",
          "state": {
            "_view_name": "LayoutView",
            "grid_template_rows": null,
            "right": null,
            "justify_content": null,
            "_view_module": "@jupyter-widgets/base",
            "overflow": null,
            "_model_module_version": "1.2.0",
            "_view_count": null,
            "flex_flow": null,
            "width": null,
            "min_width": null,
            "border": null,
            "align_items": null,
            "bottom": null,
            "_model_module": "@jupyter-widgets/base",
            "top": null,
            "grid_column": null,
            "overflow_y": null,
            "overflow_x": null,
            "grid_auto_flow": null,
            "grid_area": null,
            "grid_template_columns": null,
            "flex": null,
            "_model_name": "LayoutModel",
            "justify_items": null,
            "grid_row": null,
            "max_height": null,
            "align_content": null,
            "visibility": null,
            "align_self": null,
            "height": null,
            "min_height": null,
            "padding": null,
            "grid_auto_rows": null,
            "grid_gap": null,
            "max_width": null,
            "order": null,
            "_view_module_version": "1.2.0",
            "grid_template_areas": null,
            "object_position": null,
            "object_fit": null,
            "grid_auto_columns": null,
            "margin": null,
            "display": null,
            "left": null
          }
        },
        "981204fc4a5a4859b90a8ace59c76d1d": {
          "model_module": "@jupyter-widgets/controls",
          "model_name": "ProgressStyleModel",
          "model_module_version": "1.5.0",
          "state": {
            "_view_name": "StyleView",
            "_model_name": "ProgressStyleModel",
            "description_width": "",
            "_view_module": "@jupyter-widgets/base",
            "_model_module_version": "1.5.0",
            "_view_count": null,
            "_view_module_version": "1.2.0",
            "bar_color": null,
            "_model_module": "@jupyter-widgets/controls"
          }
        },
        "94f998985403449084df717d7e7d77df": {
          "model_module": "@jupyter-widgets/base",
          "model_name": "LayoutModel",
          "model_module_version": "1.2.0",
          "state": {
            "_view_name": "LayoutView",
            "grid_template_rows": null,
            "right": null,
            "justify_content": null,
            "_view_module": "@jupyter-widgets/base",
            "overflow": null,
            "_model_module_version": "1.2.0",
            "_view_count": null,
            "flex_flow": null,
            "width": null,
            "min_width": null,
            "border": null,
            "align_items": null,
            "bottom": null,
            "_model_module": "@jupyter-widgets/base",
            "top": null,
            "grid_column": null,
            "overflow_y": null,
            "overflow_x": null,
            "grid_auto_flow": null,
            "grid_area": null,
            "grid_template_columns": null,
            "flex": null,
            "_model_name": "LayoutModel",
            "justify_items": null,
            "grid_row": null,
            "max_height": null,
            "align_content": null,
            "visibility": null,
            "align_self": null,
            "height": null,
            "min_height": null,
            "padding": null,
            "grid_auto_rows": null,
            "grid_gap": null,
            "max_width": null,
            "order": null,
            "_view_module_version": "1.2.0",
            "grid_template_areas": null,
            "object_position": null,
            "object_fit": null,
            "grid_auto_columns": null,
            "margin": null,
            "display": null,
            "left": null
          }
        },
        "dc1e632a00694333a937f395d25bb21b": {
          "model_module": "@jupyter-widgets/controls",
          "model_name": "DescriptionStyleModel",
          "model_module_version": "1.5.0",
          "state": {
            "_view_name": "StyleView",
            "_model_name": "DescriptionStyleModel",
            "description_width": "",
            "_view_module": "@jupyter-widgets/base",
            "_model_module_version": "1.5.0",
            "_view_count": null,
            "_view_module_version": "1.2.0",
            "_model_module": "@jupyter-widgets/controls"
          }
        },
        "482688a1ebd1414e9c6c0049a8a1146e": {
          "model_module": "@jupyter-widgets/base",
          "model_name": "LayoutModel",
          "model_module_version": "1.2.0",
          "state": {
            "_view_name": "LayoutView",
            "grid_template_rows": null,
            "right": null,
            "justify_content": null,
            "_view_module": "@jupyter-widgets/base",
            "overflow": null,
            "_model_module_version": "1.2.0",
            "_view_count": null,
            "flex_flow": null,
            "width": null,
            "min_width": null,
            "border": null,
            "align_items": null,
            "bottom": null,
            "_model_module": "@jupyter-widgets/base",
            "top": null,
            "grid_column": null,
            "overflow_y": null,
            "overflow_x": null,
            "grid_auto_flow": null,
            "grid_area": null,
            "grid_template_columns": null,
            "flex": null,
            "_model_name": "LayoutModel",
            "justify_items": null,
            "grid_row": null,
            "max_height": null,
            "align_content": null,
            "visibility": null,
            "align_self": null,
            "height": null,
            "min_height": null,
            "padding": null,
            "grid_auto_rows": null,
            "grid_gap": null,
            "max_width": null,
            "order": null,
            "_view_module_version": "1.2.0",
            "grid_template_areas": null,
            "object_position": null,
            "object_fit": null,
            "grid_auto_columns": null,
            "margin": null,
            "display": null,
            "left": null
          }
        },
        "50f4ef70ec2d41749d886d617b80c3b3": {
          "model_module": "@jupyter-widgets/controls",
          "model_name": "HBoxModel",
          "model_module_version": "1.5.0",
          "state": {
            "_view_name": "HBoxView",
            "_dom_classes": [],
            "_model_name": "HBoxModel",
            "_view_module": "@jupyter-widgets/controls",
            "_model_module_version": "1.5.0",
            "_view_count": null,
            "_view_module_version": "1.5.0",
            "box_style": "",
            "layout": "IPY_MODEL_3647ffc117e74a0baeb4ebf18bda1f2d",
            "_model_module": "@jupyter-widgets/controls",
            "children": [
              "IPY_MODEL_aa1eaea3ac9d416c98b9925799130660",
              "IPY_MODEL_ad5ae156430c4b6a98aabef510a06d5e",
              "IPY_MODEL_32379c1ad9fc41f29b3b9d46187bbab3"
            ]
          }
        },
        "3647ffc117e74a0baeb4ebf18bda1f2d": {
          "model_module": "@jupyter-widgets/base",
          "model_name": "LayoutModel",
          "model_module_version": "1.2.0",
          "state": {
            "_view_name": "LayoutView",
            "grid_template_rows": null,
            "right": null,
            "justify_content": null,
            "_view_module": "@jupyter-widgets/base",
            "overflow": null,
            "_model_module_version": "1.2.0",
            "_view_count": null,
            "flex_flow": null,
            "width": null,
            "min_width": null,
            "border": null,
            "align_items": null,
            "bottom": null,
            "_model_module": "@jupyter-widgets/base",
            "top": null,
            "grid_column": null,
            "overflow_y": null,
            "overflow_x": null,
            "grid_auto_flow": null,
            "grid_area": null,
            "grid_template_columns": null,
            "flex": null,
            "_model_name": "LayoutModel",
            "justify_items": null,
            "grid_row": null,
            "max_height": null,
            "align_content": null,
            "visibility": null,
            "align_self": null,
            "height": null,
            "min_height": null,
            "padding": null,
            "grid_auto_rows": null,
            "grid_gap": null,
            "max_width": null,
            "order": null,
            "_view_module_version": "1.2.0",
            "grid_template_areas": null,
            "object_position": null,
            "object_fit": null,
            "grid_auto_columns": null,
            "margin": null,
            "display": null,
            "left": null
          }
        },
        "aa1eaea3ac9d416c98b9925799130660": {
          "model_module": "@jupyter-widgets/controls",
          "model_name": "HTMLModel",
          "model_module_version": "1.5.0",
          "state": {
            "_view_name": "HTMLView",
            "style": "IPY_MODEL_e6bfc622ea78473a91e06c737950097b",
            "_dom_classes": [],
            "description": "",
            "_model_name": "HTMLModel",
            "placeholder": "​",
            "_view_module": "@jupyter-widgets/controls",
            "_model_module_version": "1.5.0",
            "value": "100%",
            "_view_count": null,
            "_view_module_version": "1.5.0",
            "description_tooltip": null,
            "_model_module": "@jupyter-widgets/controls",
            "layout": "IPY_MODEL_278553fb6ba94efb8eb02ebd991a3df4"
          }
        },
        "ad5ae156430c4b6a98aabef510a06d5e": {
          "model_module": "@jupyter-widgets/controls",
          "model_name": "FloatProgressModel",
          "model_module_version": "1.5.0",
          "state": {
            "_view_name": "ProgressView",
            "style": "IPY_MODEL_7e2378fd077345af83e1db2995060524",
            "_dom_classes": [],
            "description": "",
            "_model_name": "FloatProgressModel",
            "bar_style": "success",
            "max": 3478,
            "_view_module": "@jupyter-widgets/controls",
            "_model_module_version": "1.5.0",
            "value": 3478,
            "_view_count": null,
            "_view_module_version": "1.5.0",
            "orientation": "horizontal",
            "min": 0,
            "description_tooltip": null,
            "_model_module": "@jupyter-widgets/controls",
            "layout": "IPY_MODEL_3838569521d24256a3fbe4c4909d031d"
          }
        },
        "32379c1ad9fc41f29b3b9d46187bbab3": {
          "model_module": "@jupyter-widgets/controls",
          "model_name": "HTMLModel",
          "model_module_version": "1.5.0",
          "state": {
            "_view_name": "HTMLView",
            "style": "IPY_MODEL_41b85d93880b48aa9161e2f79fca6e86",
            "_dom_classes": [],
            "description": "",
            "_model_name": "HTMLModel",
            "placeholder": "​",
            "_view_module": "@jupyter-widgets/controls",
            "_model_module_version": "1.5.0",
            "value": " 3478/3478 [00:00&lt;00:00, 8278.17ex/s]",
            "_view_count": null,
            "_view_module_version": "1.5.0",
            "description_tooltip": null,
            "_model_module": "@jupyter-widgets/controls",
            "layout": "IPY_MODEL_fc8fda17c3b847988b9f4fcf370389cb"
          }
        },
        "e6bfc622ea78473a91e06c737950097b": {
          "model_module": "@jupyter-widgets/controls",
          "model_name": "DescriptionStyleModel",
          "model_module_version": "1.5.0",
          "state": {
            "_view_name": "StyleView",
            "_model_name": "DescriptionStyleModel",
            "description_width": "",
            "_view_module": "@jupyter-widgets/base",
            "_model_module_version": "1.5.0",
            "_view_count": null,
            "_view_module_version": "1.2.0",
            "_model_module": "@jupyter-widgets/controls"
          }
        },
        "278553fb6ba94efb8eb02ebd991a3df4": {
          "model_module": "@jupyter-widgets/base",
          "model_name": "LayoutModel",
          "model_module_version": "1.2.0",
          "state": {
            "_view_name": "LayoutView",
            "grid_template_rows": null,
            "right": null,
            "justify_content": null,
            "_view_module": "@jupyter-widgets/base",
            "overflow": null,
            "_model_module_version": "1.2.0",
            "_view_count": null,
            "flex_flow": null,
            "width": null,
            "min_width": null,
            "border": null,
            "align_items": null,
            "bottom": null,
            "_model_module": "@jupyter-widgets/base",
            "top": null,
            "grid_column": null,
            "overflow_y": null,
            "overflow_x": null,
            "grid_auto_flow": null,
            "grid_area": null,
            "grid_template_columns": null,
            "flex": null,
            "_model_name": "LayoutModel",
            "justify_items": null,
            "grid_row": null,
            "max_height": null,
            "align_content": null,
            "visibility": null,
            "align_self": null,
            "height": null,
            "min_height": null,
            "padding": null,
            "grid_auto_rows": null,
            "grid_gap": null,
            "max_width": null,
            "order": null,
            "_view_module_version": "1.2.0",
            "grid_template_areas": null,
            "object_position": null,
            "object_fit": null,
            "grid_auto_columns": null,
            "margin": null,
            "display": null,
            "left": null
          }
        },
        "7e2378fd077345af83e1db2995060524": {
          "model_module": "@jupyter-widgets/controls",
          "model_name": "ProgressStyleModel",
          "model_module_version": "1.5.0",
          "state": {
            "_view_name": "StyleView",
            "_model_name": "ProgressStyleModel",
            "description_width": "",
            "_view_module": "@jupyter-widgets/base",
            "_model_module_version": "1.5.0",
            "_view_count": null,
            "_view_module_version": "1.2.0",
            "bar_color": null,
            "_model_module": "@jupyter-widgets/controls"
          }
        },
        "3838569521d24256a3fbe4c4909d031d": {
          "model_module": "@jupyter-widgets/base",
          "model_name": "LayoutModel",
          "model_module_version": "1.2.0",
          "state": {
            "_view_name": "LayoutView",
            "grid_template_rows": null,
            "right": null,
            "justify_content": null,
            "_view_module": "@jupyter-widgets/base",
            "overflow": null,
            "_model_module_version": "1.2.0",
            "_view_count": null,
            "flex_flow": null,
            "width": null,
            "min_width": null,
            "border": null,
            "align_items": null,
            "bottom": null,
            "_model_module": "@jupyter-widgets/base",
            "top": null,
            "grid_column": null,
            "overflow_y": null,
            "overflow_x": null,
            "grid_auto_flow": null,
            "grid_area": null,
            "grid_template_columns": null,
            "flex": null,
            "_model_name": "LayoutModel",
            "justify_items": null,
            "grid_row": null,
            "max_height": null,
            "align_content": null,
            "visibility": null,
            "align_self": null,
            "height": null,
            "min_height": null,
            "padding": null,
            "grid_auto_rows": null,
            "grid_gap": null,
            "max_width": null,
            "order": null,
            "_view_module_version": "1.2.0",
            "grid_template_areas": null,
            "object_position": null,
            "object_fit": null,
            "grid_auto_columns": null,
            "margin": null,
            "display": null,
            "left": null
          }
        },
        "41b85d93880b48aa9161e2f79fca6e86": {
          "model_module": "@jupyter-widgets/controls",
          "model_name": "DescriptionStyleModel",
          "model_module_version": "1.5.0",
          "state": {
            "_view_name": "StyleView",
            "_model_name": "DescriptionStyleModel",
            "description_width": "",
            "_view_module": "@jupyter-widgets/base",
            "_model_module_version": "1.5.0",
            "_view_count": null,
            "_view_module_version": "1.2.0",
            "_model_module": "@jupyter-widgets/controls"
          }
        },
        "fc8fda17c3b847988b9f4fcf370389cb": {
          "model_module": "@jupyter-widgets/base",
          "model_name": "LayoutModel",
          "model_module_version": "1.2.0",
          "state": {
            "_view_name": "LayoutView",
            "grid_template_rows": null,
            "right": null,
            "justify_content": null,
            "_view_module": "@jupyter-widgets/base",
            "overflow": null,
            "_model_module_version": "1.2.0",
            "_view_count": null,
            "flex_flow": null,
            "width": null,
            "min_width": null,
            "border": null,
            "align_items": null,
            "bottom": null,
            "_model_module": "@jupyter-widgets/base",
            "top": null,
            "grid_column": null,
            "overflow_y": null,
            "overflow_x": null,
            "grid_auto_flow": null,
            "grid_area": null,
            "grid_template_columns": null,
            "flex": null,
            "_model_name": "LayoutModel",
            "justify_items": null,
            "grid_row": null,
            "max_height": null,
            "align_content": null,
            "visibility": null,
            "align_self": null,
            "height": null,
            "min_height": null,
            "padding": null,
            "grid_auto_rows": null,
            "grid_gap": null,
            "max_width": null,
            "order": null,
            "_view_module_version": "1.2.0",
            "grid_template_areas": null,
            "object_position": null,
            "object_fit": null,
            "grid_auto_columns": null,
            "margin": null,
            "display": null,
            "left": null
          }
        },
        "e8fb1c18ddd941f3a88f8b01021e0154": {
          "model_module": "@jupyter-widgets/controls",
          "model_name": "HBoxModel",
          "model_module_version": "1.5.0",
          "state": {
            "_view_name": "HBoxView",
            "_dom_classes": [],
            "_model_name": "HBoxModel",
            "_view_module": "@jupyter-widgets/controls",
            "_model_module_version": "1.5.0",
            "_view_count": null,
            "_view_module_version": "1.5.0",
            "box_style": "",
            "layout": "IPY_MODEL_256c59e06bc24ce6b7a01bb05cff6f27",
            "_model_module": "@jupyter-widgets/controls",
            "children": [
              "IPY_MODEL_6aa16f66645b4e528bdff5dbe9c63a3b",
              "IPY_MODEL_11458226c1434b8b98bdc30bb09620cb",
              "IPY_MODEL_7c95528f82c044539266fc35652ed7fe"
            ]
          }
        },
        "256c59e06bc24ce6b7a01bb05cff6f27": {
          "model_module": "@jupyter-widgets/base",
          "model_name": "LayoutModel",
          "model_module_version": "1.2.0",
          "state": {
            "_view_name": "LayoutView",
            "grid_template_rows": null,
            "right": null,
            "justify_content": null,
            "_view_module": "@jupyter-widgets/base",
            "overflow": null,
            "_model_module_version": "1.2.0",
            "_view_count": null,
            "flex_flow": null,
            "width": null,
            "min_width": null,
            "border": null,
            "align_items": null,
            "bottom": null,
            "_model_module": "@jupyter-widgets/base",
            "top": null,
            "grid_column": null,
            "overflow_y": null,
            "overflow_x": null,
            "grid_auto_flow": null,
            "grid_area": null,
            "grid_template_columns": null,
            "flex": null,
            "_model_name": "LayoutModel",
            "justify_items": null,
            "grid_row": null,
            "max_height": null,
            "align_content": null,
            "visibility": null,
            "align_self": null,
            "height": null,
            "min_height": null,
            "padding": null,
            "grid_auto_rows": null,
            "grid_gap": null,
            "max_width": null,
            "order": null,
            "_view_module_version": "1.2.0",
            "grid_template_areas": null,
            "object_position": null,
            "object_fit": null,
            "grid_auto_columns": null,
            "margin": null,
            "display": null,
            "left": null
          }
        },
        "6aa16f66645b4e528bdff5dbe9c63a3b": {
          "model_module": "@jupyter-widgets/controls",
          "model_name": "HTMLModel",
          "model_module_version": "1.5.0",
          "state": {
            "_view_name": "HTMLView",
            "style": "IPY_MODEL_de096d14db244bae812cdb40da713e87",
            "_dom_classes": [],
            "description": "",
            "_model_name": "HTMLModel",
            "placeholder": "​",
            "_view_module": "@jupyter-widgets/controls",
            "_model_module_version": "1.5.0",
            "value": "100%",
            "_view_count": null,
            "_view_module_version": "1.5.0",
            "description_tooltip": null,
            "_model_module": "@jupyter-widgets/controls",
            "layout": "IPY_MODEL_d4889353e9ca44918e6b2f04072055c2"
          }
        },
        "11458226c1434b8b98bdc30bb09620cb": {
          "model_module": "@jupyter-widgets/controls",
          "model_name": "FloatProgressModel",
          "model_module_version": "1.5.0",
          "state": {
            "_view_name": "ProgressView",
            "style": "IPY_MODEL_af09ef9bf4a941ccb27eaa89ff1f9a56",
            "_dom_classes": [],
            "description": "",
            "_model_name": "FloatProgressModel",
            "bar_style": "success",
            "max": 1,
            "_view_module": "@jupyter-widgets/controls",
            "_model_module_version": "1.5.0",
            "value": 1,
            "_view_count": null,
            "_view_module_version": "1.5.0",
            "orientation": "horizontal",
            "min": 0,
            "description_tooltip": null,
            "_model_module": "@jupyter-widgets/controls",
            "layout": "IPY_MODEL_3cf8833181f24b0f92aaaa1e048319e0"
          }
        },
        "7c95528f82c044539266fc35652ed7fe": {
          "model_module": "@jupyter-widgets/controls",
          "model_name": "HTMLModel",
          "model_module_version": "1.5.0",
          "state": {
            "_view_name": "HTMLView",
            "style": "IPY_MODEL_3810aba016da41ef8b6da72bd09fb60b",
            "_dom_classes": [],
            "description": "",
            "_model_name": "HTMLModel",
            "placeholder": "​",
            "_view_module": "@jupyter-widgets/controls",
            "_model_module_version": "1.5.0",
            "value": " 1/1 [00:00&lt;00:00, 14.57ba/s]",
            "_view_count": null,
            "_view_module_version": "1.5.0",
            "description_tooltip": null,
            "_model_module": "@jupyter-widgets/controls",
            "layout": "IPY_MODEL_d664d77a7b0a412dbaa838c1ff85b1fb"
          }
        },
        "de096d14db244bae812cdb40da713e87": {
          "model_module": "@jupyter-widgets/controls",
          "model_name": "DescriptionStyleModel",
          "model_module_version": "1.5.0",
          "state": {
            "_view_name": "StyleView",
            "_model_name": "DescriptionStyleModel",
            "description_width": "",
            "_view_module": "@jupyter-widgets/base",
            "_model_module_version": "1.5.0",
            "_view_count": null,
            "_view_module_version": "1.2.0",
            "_model_module": "@jupyter-widgets/controls"
          }
        },
        "d4889353e9ca44918e6b2f04072055c2": {
          "model_module": "@jupyter-widgets/base",
          "model_name": "LayoutModel",
          "model_module_version": "1.2.0",
          "state": {
            "_view_name": "LayoutView",
            "grid_template_rows": null,
            "right": null,
            "justify_content": null,
            "_view_module": "@jupyter-widgets/base",
            "overflow": null,
            "_model_module_version": "1.2.0",
            "_view_count": null,
            "flex_flow": null,
            "width": null,
            "min_width": null,
            "border": null,
            "align_items": null,
            "bottom": null,
            "_model_module": "@jupyter-widgets/base",
            "top": null,
            "grid_column": null,
            "overflow_y": null,
            "overflow_x": null,
            "grid_auto_flow": null,
            "grid_area": null,
            "grid_template_columns": null,
            "flex": null,
            "_model_name": "LayoutModel",
            "justify_items": null,
            "grid_row": null,
            "max_height": null,
            "align_content": null,
            "visibility": null,
            "align_self": null,
            "height": null,
            "min_height": null,
            "padding": null,
            "grid_auto_rows": null,
            "grid_gap": null,
            "max_width": null,
            "order": null,
            "_view_module_version": "1.2.0",
            "grid_template_areas": null,
            "object_position": null,
            "object_fit": null,
            "grid_auto_columns": null,
            "margin": null,
            "display": null,
            "left": null
          }
        },
        "af09ef9bf4a941ccb27eaa89ff1f9a56": {
          "model_module": "@jupyter-widgets/controls",
          "model_name": "ProgressStyleModel",
          "model_module_version": "1.5.0",
          "state": {
            "_view_name": "StyleView",
            "_model_name": "ProgressStyleModel",
            "description_width": "",
            "_view_module": "@jupyter-widgets/base",
            "_model_module_version": "1.5.0",
            "_view_count": null,
            "_view_module_version": "1.2.0",
            "bar_color": null,
            "_model_module": "@jupyter-widgets/controls"
          }
        },
        "3cf8833181f24b0f92aaaa1e048319e0": {
          "model_module": "@jupyter-widgets/base",
          "model_name": "LayoutModel",
          "model_module_version": "1.2.0",
          "state": {
            "_view_name": "LayoutView",
            "grid_template_rows": null,
            "right": null,
            "justify_content": null,
            "_view_module": "@jupyter-widgets/base",
            "overflow": null,
            "_model_module_version": "1.2.0",
            "_view_count": null,
            "flex_flow": null,
            "width": null,
            "min_width": null,
            "border": null,
            "align_items": null,
            "bottom": null,
            "_model_module": "@jupyter-widgets/base",
            "top": null,
            "grid_column": null,
            "overflow_y": null,
            "overflow_x": null,
            "grid_auto_flow": null,
            "grid_area": null,
            "grid_template_columns": null,
            "flex": null,
            "_model_name": "LayoutModel",
            "justify_items": null,
            "grid_row": null,
            "max_height": null,
            "align_content": null,
            "visibility": null,
            "align_self": null,
            "height": null,
            "min_height": null,
            "padding": null,
            "grid_auto_rows": null,
            "grid_gap": null,
            "max_width": null,
            "order": null,
            "_view_module_version": "1.2.0",
            "grid_template_areas": null,
            "object_position": null,
            "object_fit": null,
            "grid_auto_columns": null,
            "margin": null,
            "display": null,
            "left": null
          }
        },
        "3810aba016da41ef8b6da72bd09fb60b": {
          "model_module": "@jupyter-widgets/controls",
          "model_name": "DescriptionStyleModel",
          "model_module_version": "1.5.0",
          "state": {
            "_view_name": "StyleView",
            "_model_name": "DescriptionStyleModel",
            "description_width": "",
            "_view_module": "@jupyter-widgets/base",
            "_model_module_version": "1.5.0",
            "_view_count": null,
            "_view_module_version": "1.2.0",
            "_model_module": "@jupyter-widgets/controls"
          }
        },
        "d664d77a7b0a412dbaa838c1ff85b1fb": {
          "model_module": "@jupyter-widgets/base",
          "model_name": "LayoutModel",
          "model_module_version": "1.2.0",
          "state": {
            "_view_name": "LayoutView",
            "grid_template_rows": null,
            "right": null,
            "justify_content": null,
            "_view_module": "@jupyter-widgets/base",
            "overflow": null,
            "_model_module_version": "1.2.0",
            "_view_count": null,
            "flex_flow": null,
            "width": null,
            "min_width": null,
            "border": null,
            "align_items": null,
            "bottom": null,
            "_model_module": "@jupyter-widgets/base",
            "top": null,
            "grid_column": null,
            "overflow_y": null,
            "overflow_x": null,
            "grid_auto_flow": null,
            "grid_area": null,
            "grid_template_columns": null,
            "flex": null,
            "_model_name": "LayoutModel",
            "justify_items": null,
            "grid_row": null,
            "max_height": null,
            "align_content": null,
            "visibility": null,
            "align_self": null,
            "height": null,
            "min_height": null,
            "padding": null,
            "grid_auto_rows": null,
            "grid_gap": null,
            "max_width": null,
            "order": null,
            "_view_module_version": "1.2.0",
            "grid_template_areas": null,
            "object_position": null,
            "object_fit": null,
            "grid_auto_columns": null,
            "margin": null,
            "display": null,
            "left": null
          }
        },
        "dc1d6a656a434da2bb3d80f639e20589": {
          "model_module": "@jupyter-widgets/controls",
          "model_name": "HBoxModel",
          "model_module_version": "1.5.0",
          "state": {
            "_view_name": "HBoxView",
            "_dom_classes": [],
            "_model_name": "HBoxModel",
            "_view_module": "@jupyter-widgets/controls",
            "_model_module_version": "1.5.0",
            "_view_count": null,
            "_view_module_version": "1.5.0",
            "box_style": "",
            "layout": "IPY_MODEL_3b0ed274c6ea4bbd98f4d745cd17d42c",
            "_model_module": "@jupyter-widgets/controls",
            "children": [
              "IPY_MODEL_c27bd7bc376e4c998d31f82d8660b2a4",
              "IPY_MODEL_f11eccfef9a144d6bbbadfd84dd5cbd9",
              "IPY_MODEL_1fc573a8eb5443a9b4ba57f39877f356"
            ]
          }
        },
        "3b0ed274c6ea4bbd98f4d745cd17d42c": {
          "model_module": "@jupyter-widgets/base",
          "model_name": "LayoutModel",
          "model_module_version": "1.2.0",
          "state": {
            "_view_name": "LayoutView",
            "grid_template_rows": null,
            "right": null,
            "justify_content": null,
            "_view_module": "@jupyter-widgets/base",
            "overflow": null,
            "_model_module_version": "1.2.0",
            "_view_count": null,
            "flex_flow": null,
            "width": null,
            "min_width": null,
            "border": null,
            "align_items": null,
            "bottom": null,
            "_model_module": "@jupyter-widgets/base",
            "top": null,
            "grid_column": null,
            "overflow_y": null,
            "overflow_x": null,
            "grid_auto_flow": null,
            "grid_area": null,
            "grid_template_columns": null,
            "flex": null,
            "_model_name": "LayoutModel",
            "justify_items": null,
            "grid_row": null,
            "max_height": null,
            "align_content": null,
            "visibility": null,
            "align_self": null,
            "height": null,
            "min_height": null,
            "padding": null,
            "grid_auto_rows": null,
            "grid_gap": null,
            "max_width": null,
            "order": null,
            "_view_module_version": "1.2.0",
            "grid_template_areas": null,
            "object_position": null,
            "object_fit": null,
            "grid_auto_columns": null,
            "margin": null,
            "display": null,
            "left": null
          }
        },
        "c27bd7bc376e4c998d31f82d8660b2a4": {
          "model_module": "@jupyter-widgets/controls",
          "model_name": "HTMLModel",
          "model_module_version": "1.5.0",
          "state": {
            "_view_name": "HTMLView",
            "style": "IPY_MODEL_0dbb51bdd7be4bda99d2c2b23f54c974",
            "_dom_classes": [],
            "description": "",
            "_model_name": "HTMLModel",
            "placeholder": "​",
            "_view_module": "@jupyter-widgets/controls",
            "_model_module_version": "1.5.0",
            "value": "100%",
            "_view_count": null,
            "_view_module_version": "1.5.0",
            "description_tooltip": null,
            "_model_module": "@jupyter-widgets/controls",
            "layout": "IPY_MODEL_56f6b1cc4b6341a39ab3c77623afdb43"
          }
        },
        "f11eccfef9a144d6bbbadfd84dd5cbd9": {
          "model_module": "@jupyter-widgets/controls",
          "model_name": "FloatProgressModel",
          "model_module_version": "1.5.0",
          "state": {
            "_view_name": "ProgressView",
            "style": "IPY_MODEL_3d77ff0a156d4f0c858dfe3a34a6d594",
            "_dom_classes": [],
            "description": "",
            "_model_name": "FloatProgressModel",
            "bar_style": "success",
            "max": 1,
            "_view_module": "@jupyter-widgets/controls",
            "_model_module_version": "1.5.0",
            "value": 1,
            "_view_count": null,
            "_view_module_version": "1.5.0",
            "orientation": "horizontal",
            "min": 0,
            "description_tooltip": null,
            "_model_module": "@jupyter-widgets/controls",
            "layout": "IPY_MODEL_5fc7ef9c26354e378d42a5f61c6b1327"
          }
        },
        "1fc573a8eb5443a9b4ba57f39877f356": {
          "model_module": "@jupyter-widgets/controls",
          "model_name": "HTMLModel",
          "model_module_version": "1.5.0",
          "state": {
            "_view_name": "HTMLView",
            "style": "IPY_MODEL_6cd8606fc2e24b96b4ead69b070a9993",
            "_dom_classes": [],
            "description": "",
            "_model_name": "HTMLModel",
            "placeholder": "​",
            "_view_module": "@jupyter-widgets/controls",
            "_model_module_version": "1.5.0",
            "value": " 1/1 [00:00&lt;00:00, 17.50ba/s]",
            "_view_count": null,
            "_view_module_version": "1.5.0",
            "description_tooltip": null,
            "_model_module": "@jupyter-widgets/controls",
            "layout": "IPY_MODEL_b284727fd8a642fc87bdc33902ba80c9"
          }
        },
        "0dbb51bdd7be4bda99d2c2b23f54c974": {
          "model_module": "@jupyter-widgets/controls",
          "model_name": "DescriptionStyleModel",
          "model_module_version": "1.5.0",
          "state": {
            "_view_name": "StyleView",
            "_model_name": "DescriptionStyleModel",
            "description_width": "",
            "_view_module": "@jupyter-widgets/base",
            "_model_module_version": "1.5.0",
            "_view_count": null,
            "_view_module_version": "1.2.0",
            "_model_module": "@jupyter-widgets/controls"
          }
        },
        "56f6b1cc4b6341a39ab3c77623afdb43": {
          "model_module": "@jupyter-widgets/base",
          "model_name": "LayoutModel",
          "model_module_version": "1.2.0",
          "state": {
            "_view_name": "LayoutView",
            "grid_template_rows": null,
            "right": null,
            "justify_content": null,
            "_view_module": "@jupyter-widgets/base",
            "overflow": null,
            "_model_module_version": "1.2.0",
            "_view_count": null,
            "flex_flow": null,
            "width": null,
            "min_width": null,
            "border": null,
            "align_items": null,
            "bottom": null,
            "_model_module": "@jupyter-widgets/base",
            "top": null,
            "grid_column": null,
            "overflow_y": null,
            "overflow_x": null,
            "grid_auto_flow": null,
            "grid_area": null,
            "grid_template_columns": null,
            "flex": null,
            "_model_name": "LayoutModel",
            "justify_items": null,
            "grid_row": null,
            "max_height": null,
            "align_content": null,
            "visibility": null,
            "align_self": null,
            "height": null,
            "min_height": null,
            "padding": null,
            "grid_auto_rows": null,
            "grid_gap": null,
            "max_width": null,
            "order": null,
            "_view_module_version": "1.2.0",
            "grid_template_areas": null,
            "object_position": null,
            "object_fit": null,
            "grid_auto_columns": null,
            "margin": null,
            "display": null,
            "left": null
          }
        },
        "3d77ff0a156d4f0c858dfe3a34a6d594": {
          "model_module": "@jupyter-widgets/controls",
          "model_name": "ProgressStyleModel",
          "model_module_version": "1.5.0",
          "state": {
            "_view_name": "StyleView",
            "_model_name": "ProgressStyleModel",
            "description_width": "",
            "_view_module": "@jupyter-widgets/base",
            "_model_module_version": "1.5.0",
            "_view_count": null,
            "_view_module_version": "1.2.0",
            "bar_color": null,
            "_model_module": "@jupyter-widgets/controls"
          }
        },
        "5fc7ef9c26354e378d42a5f61c6b1327": {
          "model_module": "@jupyter-widgets/base",
          "model_name": "LayoutModel",
          "model_module_version": "1.2.0",
          "state": {
            "_view_name": "LayoutView",
            "grid_template_rows": null,
            "right": null,
            "justify_content": null,
            "_view_module": "@jupyter-widgets/base",
            "overflow": null,
            "_model_module_version": "1.2.0",
            "_view_count": null,
            "flex_flow": null,
            "width": null,
            "min_width": null,
            "border": null,
            "align_items": null,
            "bottom": null,
            "_model_module": "@jupyter-widgets/base",
            "top": null,
            "grid_column": null,
            "overflow_y": null,
            "overflow_x": null,
            "grid_auto_flow": null,
            "grid_area": null,
            "grid_template_columns": null,
            "flex": null,
            "_model_name": "LayoutModel",
            "justify_items": null,
            "grid_row": null,
            "max_height": null,
            "align_content": null,
            "visibility": null,
            "align_self": null,
            "height": null,
            "min_height": null,
            "padding": null,
            "grid_auto_rows": null,
            "grid_gap": null,
            "max_width": null,
            "order": null,
            "_view_module_version": "1.2.0",
            "grid_template_areas": null,
            "object_position": null,
            "object_fit": null,
            "grid_auto_columns": null,
            "margin": null,
            "display": null,
            "left": null
          }
        },
        "6cd8606fc2e24b96b4ead69b070a9993": {
          "model_module": "@jupyter-widgets/controls",
          "model_name": "DescriptionStyleModel",
          "model_module_version": "1.5.0",
          "state": {
            "_view_name": "StyleView",
            "_model_name": "DescriptionStyleModel",
            "description_width": "",
            "_view_module": "@jupyter-widgets/base",
            "_model_module_version": "1.5.0",
            "_view_count": null,
            "_view_module_version": "1.2.0",
            "_model_module": "@jupyter-widgets/controls"
          }
        },
        "b284727fd8a642fc87bdc33902ba80c9": {
          "model_module": "@jupyter-widgets/base",
          "model_name": "LayoutModel",
          "model_module_version": "1.2.0",
          "state": {
            "_view_name": "LayoutView",
            "grid_template_rows": null,
            "right": null,
            "justify_content": null,
            "_view_module": "@jupyter-widgets/base",
            "overflow": null,
            "_model_module_version": "1.2.0",
            "_view_count": null,
            "flex_flow": null,
            "width": null,
            "min_width": null,
            "border": null,
            "align_items": null,
            "bottom": null,
            "_model_module": "@jupyter-widgets/base",
            "top": null,
            "grid_column": null,
            "overflow_y": null,
            "overflow_x": null,
            "grid_auto_flow": null,
            "grid_area": null,
            "grid_template_columns": null,
            "flex": null,
            "_model_name": "LayoutModel",
            "justify_items": null,
            "grid_row": null,
            "max_height": null,
            "align_content": null,
            "visibility": null,
            "align_self": null,
            "height": null,
            "min_height": null,
            "padding": null,
            "grid_auto_rows": null,
            "grid_gap": null,
            "max_width": null,
            "order": null,
            "_view_module_version": "1.2.0",
            "grid_template_areas": null,
            "object_position": null,
            "object_fit": null,
            "grid_auto_columns": null,
            "margin": null,
            "display": null,
            "left": null
          }
        },
        "b3c28e644f7642598e809d76bfd82de5": {
          "model_module": "@jupyter-widgets/controls",
          "model_name": "HBoxModel",
          "model_module_version": "1.5.0",
          "state": {
            "_view_name": "HBoxView",
            "_dom_classes": [],
            "_model_name": "HBoxModel",
            "_view_module": "@jupyter-widgets/controls",
            "_model_module_version": "1.5.0",
            "_view_count": null,
            "_view_module_version": "1.5.0",
            "box_style": "",
            "layout": "IPY_MODEL_e0bcf7be4efc41e590d1b93b997324e4",
            "_model_module": "@jupyter-widgets/controls",
            "children": [
              "IPY_MODEL_a56a6d542d0d4cc0926b27735ceb65fd",
              "IPY_MODEL_9ca0711f06154b78aabf72e759808eb2",
              "IPY_MODEL_d6d9b0c3896d4f50b9a56057a5c9dd3e"
            ]
          }
        },
        "e0bcf7be4efc41e590d1b93b997324e4": {
          "model_module": "@jupyter-widgets/base",
          "model_name": "LayoutModel",
          "model_module_version": "1.2.0",
          "state": {
            "_view_name": "LayoutView",
            "grid_template_rows": null,
            "right": null,
            "justify_content": null,
            "_view_module": "@jupyter-widgets/base",
            "overflow": null,
            "_model_module_version": "1.2.0",
            "_view_count": null,
            "flex_flow": null,
            "width": null,
            "min_width": null,
            "border": null,
            "align_items": null,
            "bottom": null,
            "_model_module": "@jupyter-widgets/base",
            "top": null,
            "grid_column": null,
            "overflow_y": null,
            "overflow_x": null,
            "grid_auto_flow": null,
            "grid_area": null,
            "grid_template_columns": null,
            "flex": null,
            "_model_name": "LayoutModel",
            "justify_items": null,
            "grid_row": null,
            "max_height": null,
            "align_content": null,
            "visibility": null,
            "align_self": null,
            "height": null,
            "min_height": null,
            "padding": null,
            "grid_auto_rows": null,
            "grid_gap": null,
            "max_width": null,
            "order": null,
            "_view_module_version": "1.2.0",
            "grid_template_areas": null,
            "object_position": null,
            "object_fit": null,
            "grid_auto_columns": null,
            "margin": null,
            "display": null,
            "left": null
          }
        },
        "a56a6d542d0d4cc0926b27735ceb65fd": {
          "model_module": "@jupyter-widgets/controls",
          "model_name": "HTMLModel",
          "model_module_version": "1.5.0",
          "state": {
            "_view_name": "HTMLView",
            "style": "IPY_MODEL_6e2f0a929bac40b7a8181c2ec50b5a12",
            "_dom_classes": [],
            "description": "",
            "_model_name": "HTMLModel",
            "placeholder": "​",
            "_view_module": "@jupyter-widgets/controls",
            "_model_module_version": "1.5.0",
            "value": "100%",
            "_view_count": null,
            "_view_module_version": "1.5.0",
            "description_tooltip": null,
            "_model_module": "@jupyter-widgets/controls",
            "layout": "IPY_MODEL_7067959dad384d24be0fc32a00174ff3"
          }
        },
        "9ca0711f06154b78aabf72e759808eb2": {
          "model_module": "@jupyter-widgets/controls",
          "model_name": "FloatProgressModel",
          "model_module_version": "1.5.0",
          "state": {
            "_view_name": "ProgressView",
            "style": "IPY_MODEL_74825f297b784b4e86733afc05eae40b",
            "_dom_classes": [],
            "description": "",
            "_model_name": "FloatProgressModel",
            "bar_style": "success",
            "max": 3478,
            "_view_module": "@jupyter-widgets/controls",
            "_model_module_version": "1.5.0",
            "value": 3478,
            "_view_count": null,
            "_view_module_version": "1.5.0",
            "orientation": "horizontal",
            "min": 0,
            "description_tooltip": null,
            "_model_module": "@jupyter-widgets/controls",
            "layout": "IPY_MODEL_83958bd8b68a43c694416ee3e9c1fb22"
          }
        },
        "d6d9b0c3896d4f50b9a56057a5c9dd3e": {
          "model_module": "@jupyter-widgets/controls",
          "model_name": "HTMLModel",
          "model_module_version": "1.5.0",
          "state": {
            "_view_name": "HTMLView",
            "style": "IPY_MODEL_8c74fbfb9ef64360a1cfa5670b5dafaa",
            "_dom_classes": [],
            "description": "",
            "_model_name": "HTMLModel",
            "placeholder": "​",
            "_view_module": "@jupyter-widgets/controls",
            "_model_module_version": "1.5.0",
            "value": " 3478/3478 [00:35&lt;00:00, 108.26ex/s]",
            "_view_count": null,
            "_view_module_version": "1.5.0",
            "description_tooltip": null,
            "_model_module": "@jupyter-widgets/controls",
            "layout": "IPY_MODEL_a872e4b0bcc34025b393b208600e47bd"
          }
        },
        "6e2f0a929bac40b7a8181c2ec50b5a12": {
          "model_module": "@jupyter-widgets/controls",
          "model_name": "DescriptionStyleModel",
          "model_module_version": "1.5.0",
          "state": {
            "_view_name": "StyleView",
            "_model_name": "DescriptionStyleModel",
            "description_width": "",
            "_view_module": "@jupyter-widgets/base",
            "_model_module_version": "1.5.0",
            "_view_count": null,
            "_view_module_version": "1.2.0",
            "_model_module": "@jupyter-widgets/controls"
          }
        },
        "7067959dad384d24be0fc32a00174ff3": {
          "model_module": "@jupyter-widgets/base",
          "model_name": "LayoutModel",
          "model_module_version": "1.2.0",
          "state": {
            "_view_name": "LayoutView",
            "grid_template_rows": null,
            "right": null,
            "justify_content": null,
            "_view_module": "@jupyter-widgets/base",
            "overflow": null,
            "_model_module_version": "1.2.0",
            "_view_count": null,
            "flex_flow": null,
            "width": null,
            "min_width": null,
            "border": null,
            "align_items": null,
            "bottom": null,
            "_model_module": "@jupyter-widgets/base",
            "top": null,
            "grid_column": null,
            "overflow_y": null,
            "overflow_x": null,
            "grid_auto_flow": null,
            "grid_area": null,
            "grid_template_columns": null,
            "flex": null,
            "_model_name": "LayoutModel",
            "justify_items": null,
            "grid_row": null,
            "max_height": null,
            "align_content": null,
            "visibility": null,
            "align_self": null,
            "height": null,
            "min_height": null,
            "padding": null,
            "grid_auto_rows": null,
            "grid_gap": null,
            "max_width": null,
            "order": null,
            "_view_module_version": "1.2.0",
            "grid_template_areas": null,
            "object_position": null,
            "object_fit": null,
            "grid_auto_columns": null,
            "margin": null,
            "display": null,
            "left": null
          }
        },
        "74825f297b784b4e86733afc05eae40b": {
          "model_module": "@jupyter-widgets/controls",
          "model_name": "ProgressStyleModel",
          "model_module_version": "1.5.0",
          "state": {
            "_view_name": "StyleView",
            "_model_name": "ProgressStyleModel",
            "description_width": "",
            "_view_module": "@jupyter-widgets/base",
            "_model_module_version": "1.5.0",
            "_view_count": null,
            "_view_module_version": "1.2.0",
            "bar_color": null,
            "_model_module": "@jupyter-widgets/controls"
          }
        },
        "83958bd8b68a43c694416ee3e9c1fb22": {
          "model_module": "@jupyter-widgets/base",
          "model_name": "LayoutModel",
          "model_module_version": "1.2.0",
          "state": {
            "_view_name": "LayoutView",
            "grid_template_rows": null,
            "right": null,
            "justify_content": null,
            "_view_module": "@jupyter-widgets/base",
            "overflow": null,
            "_model_module_version": "1.2.0",
            "_view_count": null,
            "flex_flow": null,
            "width": null,
            "min_width": null,
            "border": null,
            "align_items": null,
            "bottom": null,
            "_model_module": "@jupyter-widgets/base",
            "top": null,
            "grid_column": null,
            "overflow_y": null,
            "overflow_x": null,
            "grid_auto_flow": null,
            "grid_area": null,
            "grid_template_columns": null,
            "flex": null,
            "_model_name": "LayoutModel",
            "justify_items": null,
            "grid_row": null,
            "max_height": null,
            "align_content": null,
            "visibility": null,
            "align_self": null,
            "height": null,
            "min_height": null,
            "padding": null,
            "grid_auto_rows": null,
            "grid_gap": null,
            "max_width": null,
            "order": null,
            "_view_module_version": "1.2.0",
            "grid_template_areas": null,
            "object_position": null,
            "object_fit": null,
            "grid_auto_columns": null,
            "margin": null,
            "display": null,
            "left": null
          }
        },
        "8c74fbfb9ef64360a1cfa5670b5dafaa": {
          "model_module": "@jupyter-widgets/controls",
          "model_name": "DescriptionStyleModel",
          "model_module_version": "1.5.0",
          "state": {
            "_view_name": "StyleView",
            "_model_name": "DescriptionStyleModel",
            "description_width": "",
            "_view_module": "@jupyter-widgets/base",
            "_model_module_version": "1.5.0",
            "_view_count": null,
            "_view_module_version": "1.2.0",
            "_model_module": "@jupyter-widgets/controls"
          }
        },
        "a872e4b0bcc34025b393b208600e47bd": {
          "model_module": "@jupyter-widgets/base",
          "model_name": "LayoutModel",
          "model_module_version": "1.2.0",
          "state": {
            "_view_name": "LayoutView",
            "grid_template_rows": null,
            "right": null,
            "justify_content": null,
            "_view_module": "@jupyter-widgets/base",
            "overflow": null,
            "_model_module_version": "1.2.0",
            "_view_count": null,
            "flex_flow": null,
            "width": null,
            "min_width": null,
            "border": null,
            "align_items": null,
            "bottom": null,
            "_model_module": "@jupyter-widgets/base",
            "top": null,
            "grid_column": null,
            "overflow_y": null,
            "overflow_x": null,
            "grid_auto_flow": null,
            "grid_area": null,
            "grid_template_columns": null,
            "flex": null,
            "_model_name": "LayoutModel",
            "justify_items": null,
            "grid_row": null,
            "max_height": null,
            "align_content": null,
            "visibility": null,
            "align_self": null,
            "height": null,
            "min_height": null,
            "padding": null,
            "grid_auto_rows": null,
            "grid_gap": null,
            "max_width": null,
            "order": null,
            "_view_module_version": "1.2.0",
            "grid_template_areas": null,
            "object_position": null,
            "object_fit": null,
            "grid_auto_columns": null,
            "margin": null,
            "display": null,
            "left": null
          }
        },
        "20ed994e18e440debda2836becd66b6e": {
          "model_module": "@jupyter-widgets/controls",
          "model_name": "HBoxModel",
          "model_module_version": "1.5.0",
          "state": {
            "_view_name": "HBoxView",
            "_dom_classes": [],
            "_model_name": "HBoxModel",
            "_view_module": "@jupyter-widgets/controls",
            "_model_module_version": "1.5.0",
            "_view_count": null,
            "_view_module_version": "1.5.0",
            "box_style": "",
            "layout": "IPY_MODEL_0da7c44bc2c242788b2656bdd34164bc",
            "_model_module": "@jupyter-widgets/controls",
            "children": [
              "IPY_MODEL_507ac925a9734161ab04bbe0b0a6b525",
              "IPY_MODEL_2219072df6e043228bf30033a402a4c5",
              "IPY_MODEL_fc709fe5649b43c1a84df7094136e98b"
            ]
          }
        },
        "0da7c44bc2c242788b2656bdd34164bc": {
          "model_module": "@jupyter-widgets/base",
          "model_name": "LayoutModel",
          "model_module_version": "1.2.0",
          "state": {
            "_view_name": "LayoutView",
            "grid_template_rows": null,
            "right": null,
            "justify_content": null,
            "_view_module": "@jupyter-widgets/base",
            "overflow": null,
            "_model_module_version": "1.2.0",
            "_view_count": null,
            "flex_flow": null,
            "width": null,
            "min_width": null,
            "border": null,
            "align_items": null,
            "bottom": null,
            "_model_module": "@jupyter-widgets/base",
            "top": null,
            "grid_column": null,
            "overflow_y": null,
            "overflow_x": null,
            "grid_auto_flow": null,
            "grid_area": null,
            "grid_template_columns": null,
            "flex": null,
            "_model_name": "LayoutModel",
            "justify_items": null,
            "grid_row": null,
            "max_height": null,
            "align_content": null,
            "visibility": null,
            "align_self": null,
            "height": null,
            "min_height": null,
            "padding": null,
            "grid_auto_rows": null,
            "grid_gap": null,
            "max_width": null,
            "order": null,
            "_view_module_version": "1.2.0",
            "grid_template_areas": null,
            "object_position": null,
            "object_fit": null,
            "grid_auto_columns": null,
            "margin": null,
            "display": null,
            "left": null
          }
        },
        "507ac925a9734161ab04bbe0b0a6b525": {
          "model_module": "@jupyter-widgets/controls",
          "model_name": "HTMLModel",
          "model_module_version": "1.5.0",
          "state": {
            "_view_name": "HTMLView",
            "style": "IPY_MODEL_7f88182294814d0ea9407e812063b9f6",
            "_dom_classes": [],
            "description": "",
            "_model_name": "HTMLModel",
            "placeholder": "​",
            "_view_module": "@jupyter-widgets/controls",
            "_model_module_version": "1.5.0",
            "value": "100%",
            "_view_count": null,
            "_view_module_version": "1.5.0",
            "description_tooltip": null,
            "_model_module": "@jupyter-widgets/controls",
            "layout": "IPY_MODEL_490c3bd81556447b986efee5d1849d04"
          }
        },
        "2219072df6e043228bf30033a402a4c5": {
          "model_module": "@jupyter-widgets/controls",
          "model_name": "FloatProgressModel",
          "model_module_version": "1.5.0",
          "state": {
            "_view_name": "ProgressView",
            "style": "IPY_MODEL_ecd6a29f3b674a70b7808a4fc21325a4",
            "_dom_classes": [],
            "description": "",
            "_model_name": "FloatProgressModel",
            "bar_style": "success",
            "max": 1647,
            "_view_module": "@jupyter-widgets/controls",
            "_model_module_version": "1.5.0",
            "value": 1647,
            "_view_count": null,
            "_view_module_version": "1.5.0",
            "orientation": "horizontal",
            "min": 0,
            "description_tooltip": null,
            "_model_module": "@jupyter-widgets/controls",
            "layout": "IPY_MODEL_2baafebca2244290800b1bd915a383f0"
          }
        },
        "fc709fe5649b43c1a84df7094136e98b": {
          "model_module": "@jupyter-widgets/controls",
          "model_name": "HTMLModel",
          "model_module_version": "1.5.0",
          "state": {
            "_view_name": "HTMLView",
            "style": "IPY_MODEL_301d50b8d7ac437b9a5836d881952125",
            "_dom_classes": [],
            "description": "",
            "_model_name": "HTMLModel",
            "placeholder": "​",
            "_view_module": "@jupyter-widgets/controls",
            "_model_module_version": "1.5.0",
            "value": " 1647/1647 [00:17&lt;00:00, 106.51ex/s]",
            "_view_count": null,
            "_view_module_version": "1.5.0",
            "description_tooltip": null,
            "_model_module": "@jupyter-widgets/controls",
            "layout": "IPY_MODEL_aa3443b4103f4d54b17e9c70e6e20f81"
          }
        },
        "7f88182294814d0ea9407e812063b9f6": {
          "model_module": "@jupyter-widgets/controls",
          "model_name": "DescriptionStyleModel",
          "model_module_version": "1.5.0",
          "state": {
            "_view_name": "StyleView",
            "_model_name": "DescriptionStyleModel",
            "description_width": "",
            "_view_module": "@jupyter-widgets/base",
            "_model_module_version": "1.5.0",
            "_view_count": null,
            "_view_module_version": "1.2.0",
            "_model_module": "@jupyter-widgets/controls"
          }
        },
        "490c3bd81556447b986efee5d1849d04": {
          "model_module": "@jupyter-widgets/base",
          "model_name": "LayoutModel",
          "model_module_version": "1.2.0",
          "state": {
            "_view_name": "LayoutView",
            "grid_template_rows": null,
            "right": null,
            "justify_content": null,
            "_view_module": "@jupyter-widgets/base",
            "overflow": null,
            "_model_module_version": "1.2.0",
            "_view_count": null,
            "flex_flow": null,
            "width": null,
            "min_width": null,
            "border": null,
            "align_items": null,
            "bottom": null,
            "_model_module": "@jupyter-widgets/base",
            "top": null,
            "grid_column": null,
            "overflow_y": null,
            "overflow_x": null,
            "grid_auto_flow": null,
            "grid_area": null,
            "grid_template_columns": null,
            "flex": null,
            "_model_name": "LayoutModel",
            "justify_items": null,
            "grid_row": null,
            "max_height": null,
            "align_content": null,
            "visibility": null,
            "align_self": null,
            "height": null,
            "min_height": null,
            "padding": null,
            "grid_auto_rows": null,
            "grid_gap": null,
            "max_width": null,
            "order": null,
            "_view_module_version": "1.2.0",
            "grid_template_areas": null,
            "object_position": null,
            "object_fit": null,
            "grid_auto_columns": null,
            "margin": null,
            "display": null,
            "left": null
          }
        },
        "ecd6a29f3b674a70b7808a4fc21325a4": {
          "model_module": "@jupyter-widgets/controls",
          "model_name": "ProgressStyleModel",
          "model_module_version": "1.5.0",
          "state": {
            "_view_name": "StyleView",
            "_model_name": "ProgressStyleModel",
            "description_width": "",
            "_view_module": "@jupyter-widgets/base",
            "_model_module_version": "1.5.0",
            "_view_count": null,
            "_view_module_version": "1.2.0",
            "bar_color": null,
            "_model_module": "@jupyter-widgets/controls"
          }
        },
        "2baafebca2244290800b1bd915a383f0": {
          "model_module": "@jupyter-widgets/base",
          "model_name": "LayoutModel",
          "model_module_version": "1.2.0",
          "state": {
            "_view_name": "LayoutView",
            "grid_template_rows": null,
            "right": null,
            "justify_content": null,
            "_view_module": "@jupyter-widgets/base",
            "overflow": null,
            "_model_module_version": "1.2.0",
            "_view_count": null,
            "flex_flow": null,
            "width": null,
            "min_width": null,
            "border": null,
            "align_items": null,
            "bottom": null,
            "_model_module": "@jupyter-widgets/base",
            "top": null,
            "grid_column": null,
            "overflow_y": null,
            "overflow_x": null,
            "grid_auto_flow": null,
            "grid_area": null,
            "grid_template_columns": null,
            "flex": null,
            "_model_name": "LayoutModel",
            "justify_items": null,
            "grid_row": null,
            "max_height": null,
            "align_content": null,
            "visibility": null,
            "align_self": null,
            "height": null,
            "min_height": null,
            "padding": null,
            "grid_auto_rows": null,
            "grid_gap": null,
            "max_width": null,
            "order": null,
            "_view_module_version": "1.2.0",
            "grid_template_areas": null,
            "object_position": null,
            "object_fit": null,
            "grid_auto_columns": null,
            "margin": null,
            "display": null,
            "left": null
          }
        },
        "301d50b8d7ac437b9a5836d881952125": {
          "model_module": "@jupyter-widgets/controls",
          "model_name": "DescriptionStyleModel",
          "model_module_version": "1.5.0",
          "state": {
            "_view_name": "StyleView",
            "_model_name": "DescriptionStyleModel",
            "description_width": "",
            "_view_module": "@jupyter-widgets/base",
            "_model_module_version": "1.5.0",
            "_view_count": null,
            "_view_module_version": "1.2.0",
            "_model_module": "@jupyter-widgets/controls"
          }
        },
        "aa3443b4103f4d54b17e9c70e6e20f81": {
          "model_module": "@jupyter-widgets/base",
          "model_name": "LayoutModel",
          "model_module_version": "1.2.0",
          "state": {
            "_view_name": "LayoutView",
            "grid_template_rows": null,
            "right": null,
            "justify_content": null,
            "_view_module": "@jupyter-widgets/base",
            "overflow": null,
            "_model_module_version": "1.2.0",
            "_view_count": null,
            "flex_flow": null,
            "width": null,
            "min_width": null,
            "border": null,
            "align_items": null,
            "bottom": null,
            "_model_module": "@jupyter-widgets/base",
            "top": null,
            "grid_column": null,
            "overflow_y": null,
            "overflow_x": null,
            "grid_auto_flow": null,
            "grid_area": null,
            "grid_template_columns": null,
            "flex": null,
            "_model_name": "LayoutModel",
            "justify_items": null,
            "grid_row": null,
            "max_height": null,
            "align_content": null,
            "visibility": null,
            "align_self": null,
            "height": null,
            "min_height": null,
            "padding": null,
            "grid_auto_rows": null,
            "grid_gap": null,
            "max_width": null,
            "order": null,
            "_view_module_version": "1.2.0",
            "grid_template_areas": null,
            "object_position": null,
            "object_fit": null,
            "grid_auto_columns": null,
            "margin": null,
            "display": null,
            "left": null
          }
        },
        "e687a3ae505f49a88fb56dbd369379ef": {
          "model_module": "@jupyter-widgets/controls",
          "model_name": "HBoxModel",
          "model_module_version": "1.5.0",
          "state": {
            "_view_name": "HBoxView",
            "_dom_classes": [],
            "_model_name": "HBoxModel",
            "_view_module": "@jupyter-widgets/controls",
            "_model_module_version": "1.5.0",
            "_view_count": null,
            "_view_module_version": "1.5.0",
            "box_style": "",
            "layout": "IPY_MODEL_92c8aacde8be4d509b6c657db41bfbd5",
            "_model_module": "@jupyter-widgets/controls",
            "children": [
              "IPY_MODEL_6bf57f0f7008477181db6cb8433da3e9",
              "IPY_MODEL_c632b8244a3a4cf7a8def3817ae52a8a",
              "IPY_MODEL_e5927507e05c4223939f891ca2f87788"
            ]
          }
        },
        "92c8aacde8be4d509b6c657db41bfbd5": {
          "model_module": "@jupyter-widgets/base",
          "model_name": "LayoutModel",
          "model_module_version": "1.2.0",
          "state": {
            "_view_name": "LayoutView",
            "grid_template_rows": null,
            "right": null,
            "justify_content": null,
            "_view_module": "@jupyter-widgets/base",
            "overflow": null,
            "_model_module_version": "1.2.0",
            "_view_count": null,
            "flex_flow": null,
            "width": null,
            "min_width": null,
            "border": null,
            "align_items": null,
            "bottom": null,
            "_model_module": "@jupyter-widgets/base",
            "top": null,
            "grid_column": null,
            "overflow_y": null,
            "overflow_x": null,
            "grid_auto_flow": null,
            "grid_area": null,
            "grid_template_columns": null,
            "flex": null,
            "_model_name": "LayoutModel",
            "justify_items": null,
            "grid_row": null,
            "max_height": null,
            "align_content": null,
            "visibility": null,
            "align_self": null,
            "height": null,
            "min_height": null,
            "padding": null,
            "grid_auto_rows": null,
            "grid_gap": null,
            "max_width": null,
            "order": null,
            "_view_module_version": "1.2.0",
            "grid_template_areas": null,
            "object_position": null,
            "object_fit": null,
            "grid_auto_columns": null,
            "margin": null,
            "display": null,
            "left": null
          }
        },
        "6bf57f0f7008477181db6cb8433da3e9": {
          "model_module": "@jupyter-widgets/controls",
          "model_name": "HTMLModel",
          "model_module_version": "1.5.0",
          "state": {
            "_view_name": "HTMLView",
            "style": "IPY_MODEL_640a39b0eec64a7e9e28c3073d050a8c",
            "_dom_classes": [],
            "description": "",
            "_model_name": "HTMLModel",
            "placeholder": "​",
            "_view_module": "@jupyter-widgets/controls",
            "_model_module_version": "1.5.0",
            "value": "100%",
            "_view_count": null,
            "_view_module_version": "1.5.0",
            "description_tooltip": null,
            "_model_module": "@jupyter-widgets/controls",
            "layout": "IPY_MODEL_374d81d022754225afc5725e555ce460"
          }
        },
        "c632b8244a3a4cf7a8def3817ae52a8a": {
          "model_module": "@jupyter-widgets/controls",
          "model_name": "FloatProgressModel",
          "model_module_version": "1.5.0",
          "state": {
            "_view_name": "ProgressView",
            "style": "IPY_MODEL_b3dfa24045c644e88ec26b437e75ea7b",
            "_dom_classes": [],
            "description": "",
            "_model_name": "FloatProgressModel",
            "bar_style": "success",
            "max": 4,
            "_view_module": "@jupyter-widgets/controls",
            "_model_module_version": "1.5.0",
            "value": 4,
            "_view_count": null,
            "_view_module_version": "1.5.0",
            "orientation": "horizontal",
            "min": 0,
            "description_tooltip": null,
            "_model_module": "@jupyter-widgets/controls",
            "layout": "IPY_MODEL_9f8d87c4f6244632979b4a7f7c65c367"
          }
        },
        "e5927507e05c4223939f891ca2f87788": {
          "model_module": "@jupyter-widgets/controls",
          "model_name": "HTMLModel",
          "model_module_version": "1.5.0",
          "state": {
            "_view_name": "HTMLView",
            "style": "IPY_MODEL_bb87f7aaa55e4512954b4b31d75b36c9",
            "_dom_classes": [],
            "description": "",
            "_model_name": "HTMLModel",
            "placeholder": "​",
            "_view_module": "@jupyter-widgets/controls",
            "_model_module_version": "1.5.0",
            "value": " 4/4 [00:00&lt;00:00, 96.05ba/s]",
            "_view_count": null,
            "_view_module_version": "1.5.0",
            "description_tooltip": null,
            "_model_module": "@jupyter-widgets/controls",
            "layout": "IPY_MODEL_661b47d24e794ec892a84fb2474009a1"
          }
        },
        "640a39b0eec64a7e9e28c3073d050a8c": {
          "model_module": "@jupyter-widgets/controls",
          "model_name": "DescriptionStyleModel",
          "model_module_version": "1.5.0",
          "state": {
            "_view_name": "StyleView",
            "_model_name": "DescriptionStyleModel",
            "description_width": "",
            "_view_module": "@jupyter-widgets/base",
            "_model_module_version": "1.5.0",
            "_view_count": null,
            "_view_module_version": "1.2.0",
            "_model_module": "@jupyter-widgets/controls"
          }
        },
        "374d81d022754225afc5725e555ce460": {
          "model_module": "@jupyter-widgets/base",
          "model_name": "LayoutModel",
          "model_module_version": "1.2.0",
          "state": {
            "_view_name": "LayoutView",
            "grid_template_rows": null,
            "right": null,
            "justify_content": null,
            "_view_module": "@jupyter-widgets/base",
            "overflow": null,
            "_model_module_version": "1.2.0",
            "_view_count": null,
            "flex_flow": null,
            "width": null,
            "min_width": null,
            "border": null,
            "align_items": null,
            "bottom": null,
            "_model_module": "@jupyter-widgets/base",
            "top": null,
            "grid_column": null,
            "overflow_y": null,
            "overflow_x": null,
            "grid_auto_flow": null,
            "grid_area": null,
            "grid_template_columns": null,
            "flex": null,
            "_model_name": "LayoutModel",
            "justify_items": null,
            "grid_row": null,
            "max_height": null,
            "align_content": null,
            "visibility": null,
            "align_self": null,
            "height": null,
            "min_height": null,
            "padding": null,
            "grid_auto_rows": null,
            "grid_gap": null,
            "max_width": null,
            "order": null,
            "_view_module_version": "1.2.0",
            "grid_template_areas": null,
            "object_position": null,
            "object_fit": null,
            "grid_auto_columns": null,
            "margin": null,
            "display": null,
            "left": null
          }
        },
        "b3dfa24045c644e88ec26b437e75ea7b": {
          "model_module": "@jupyter-widgets/controls",
          "model_name": "ProgressStyleModel",
          "model_module_version": "1.5.0",
          "state": {
            "_view_name": "StyleView",
            "_model_name": "ProgressStyleModel",
            "description_width": "",
            "_view_module": "@jupyter-widgets/base",
            "_model_module_version": "1.5.0",
            "_view_count": null,
            "_view_module_version": "1.2.0",
            "bar_color": null,
            "_model_module": "@jupyter-widgets/controls"
          }
        },
        "9f8d87c4f6244632979b4a7f7c65c367": {
          "model_module": "@jupyter-widgets/base",
          "model_name": "LayoutModel",
          "model_module_version": "1.2.0",
          "state": {
            "_view_name": "LayoutView",
            "grid_template_rows": null,
            "right": null,
            "justify_content": null,
            "_view_module": "@jupyter-widgets/base",
            "overflow": null,
            "_model_module_version": "1.2.0",
            "_view_count": null,
            "flex_flow": null,
            "width": null,
            "min_width": null,
            "border": null,
            "align_items": null,
            "bottom": null,
            "_model_module": "@jupyter-widgets/base",
            "top": null,
            "grid_column": null,
            "overflow_y": null,
            "overflow_x": null,
            "grid_auto_flow": null,
            "grid_area": null,
            "grid_template_columns": null,
            "flex": null,
            "_model_name": "LayoutModel",
            "justify_items": null,
            "grid_row": null,
            "max_height": null,
            "align_content": null,
            "visibility": null,
            "align_self": null,
            "height": null,
            "min_height": null,
            "padding": null,
            "grid_auto_rows": null,
            "grid_gap": null,
            "max_width": null,
            "order": null,
            "_view_module_version": "1.2.0",
            "grid_template_areas": null,
            "object_position": null,
            "object_fit": null,
            "grid_auto_columns": null,
            "margin": null,
            "display": null,
            "left": null
          }
        },
        "bb87f7aaa55e4512954b4b31d75b36c9": {
          "model_module": "@jupyter-widgets/controls",
          "model_name": "DescriptionStyleModel",
          "model_module_version": "1.5.0",
          "state": {
            "_view_name": "StyleView",
            "_model_name": "DescriptionStyleModel",
            "description_width": "",
            "_view_module": "@jupyter-widgets/base",
            "_model_module_version": "1.5.0",
            "_view_count": null,
            "_view_module_version": "1.2.0",
            "_model_module": "@jupyter-widgets/controls"
          }
        },
        "661b47d24e794ec892a84fb2474009a1": {
          "model_module": "@jupyter-widgets/base",
          "model_name": "LayoutModel",
          "model_module_version": "1.2.0",
          "state": {
            "_view_name": "LayoutView",
            "grid_template_rows": null,
            "right": null,
            "justify_content": null,
            "_view_module": "@jupyter-widgets/base",
            "overflow": null,
            "_model_module_version": "1.2.0",
            "_view_count": null,
            "flex_flow": null,
            "width": null,
            "min_width": null,
            "border": null,
            "align_items": null,
            "bottom": null,
            "_model_module": "@jupyter-widgets/base",
            "top": null,
            "grid_column": null,
            "overflow_y": null,
            "overflow_x": null,
            "grid_auto_flow": null,
            "grid_area": null,
            "grid_template_columns": null,
            "flex": null,
            "_model_name": "LayoutModel",
            "justify_items": null,
            "grid_row": null,
            "max_height": null,
            "align_content": null,
            "visibility": null,
            "align_self": null,
            "height": null,
            "min_height": null,
            "padding": null,
            "grid_auto_rows": null,
            "grid_gap": null,
            "max_width": null,
            "order": null,
            "_view_module_version": "1.2.0",
            "grid_template_areas": null,
            "object_position": null,
            "object_fit": null,
            "grid_auto_columns": null,
            "margin": null,
            "display": null,
            "left": null
          }
        },
        "0bc5ac9f8b264a6f8b56d53f33c3aab5": {
          "model_module": "@jupyter-widgets/controls",
          "model_name": "HBoxModel",
          "model_module_version": "1.5.0",
          "state": {
            "_view_name": "HBoxView",
            "_dom_classes": [],
            "_model_name": "HBoxModel",
            "_view_module": "@jupyter-widgets/controls",
            "_model_module_version": "1.5.0",
            "_view_count": null,
            "_view_module_version": "1.5.0",
            "box_style": "",
            "layout": "IPY_MODEL_d8b7507f1fac43e6877329d742c8e125",
            "_model_module": "@jupyter-widgets/controls",
            "children": [
              "IPY_MODEL_595a283d5e9a4747bb715bf96b20ba88",
              "IPY_MODEL_3c772bfda327413593f2d71fa03f5066",
              "IPY_MODEL_6bfa4126fa924568a2f067dbfc76ecee"
            ]
          }
        },
        "d8b7507f1fac43e6877329d742c8e125": {
          "model_module": "@jupyter-widgets/base",
          "model_name": "LayoutModel",
          "model_module_version": "1.2.0",
          "state": {
            "_view_name": "LayoutView",
            "grid_template_rows": null,
            "right": null,
            "justify_content": null,
            "_view_module": "@jupyter-widgets/base",
            "overflow": null,
            "_model_module_version": "1.2.0",
            "_view_count": null,
            "flex_flow": null,
            "width": null,
            "min_width": null,
            "border": null,
            "align_items": null,
            "bottom": null,
            "_model_module": "@jupyter-widgets/base",
            "top": null,
            "grid_column": null,
            "overflow_y": null,
            "overflow_x": null,
            "grid_auto_flow": null,
            "grid_area": null,
            "grid_template_columns": null,
            "flex": null,
            "_model_name": "LayoutModel",
            "justify_items": null,
            "grid_row": null,
            "max_height": null,
            "align_content": null,
            "visibility": null,
            "align_self": null,
            "height": null,
            "min_height": null,
            "padding": null,
            "grid_auto_rows": null,
            "grid_gap": null,
            "max_width": null,
            "order": null,
            "_view_module_version": "1.2.0",
            "grid_template_areas": null,
            "object_position": null,
            "object_fit": null,
            "grid_auto_columns": null,
            "margin": null,
            "display": null,
            "left": null
          }
        },
        "595a283d5e9a4747bb715bf96b20ba88": {
          "model_module": "@jupyter-widgets/controls",
          "model_name": "HTMLModel",
          "model_module_version": "1.5.0",
          "state": {
            "_view_name": "HTMLView",
            "style": "IPY_MODEL_993a38aef74649b1995e0bdc898a2469",
            "_dom_classes": [],
            "description": "",
            "_model_name": "HTMLModel",
            "placeholder": "​",
            "_view_module": "@jupyter-widgets/controls",
            "_model_module_version": "1.5.0",
            "value": "Downloading: ",
            "_view_count": null,
            "_view_module_version": "1.5.0",
            "description_tooltip": null,
            "_model_module": "@jupyter-widgets/controls",
            "layout": "IPY_MODEL_453b26f998f94e71ad4e4d3397887840"
          }
        },
        "3c772bfda327413593f2d71fa03f5066": {
          "model_module": "@jupyter-widgets/controls",
          "model_name": "FloatProgressModel",
          "model_module_version": "1.5.0",
          "state": {
            "_view_name": "ProgressView",
            "style": "IPY_MODEL_224ba68b09dc4b4eafd28c2a4cacc9d3",
            "_dom_classes": [],
            "description": "",
            "_model_name": "FloatProgressModel",
            "bar_style": "success",
            "max": 1947,
            "_view_module": "@jupyter-widgets/controls",
            "_model_module_version": "1.5.0",
            "value": 1947,
            "_view_count": null,
            "_view_module_version": "1.5.0",
            "orientation": "horizontal",
            "min": 0,
            "description_tooltip": null,
            "_model_module": "@jupyter-widgets/controls",
            "layout": "IPY_MODEL_44cda0c463e542eaa538612458c7e1bc"
          }
        },
        "6bfa4126fa924568a2f067dbfc76ecee": {
          "model_module": "@jupyter-widgets/controls",
          "model_name": "HTMLModel",
          "model_module_version": "1.5.0",
          "state": {
            "_view_name": "HTMLView",
            "style": "IPY_MODEL_e0293772c2754cda8347ec8a20c08026",
            "_dom_classes": [],
            "description": "",
            "_model_name": "HTMLModel",
            "placeholder": "​",
            "_view_module": "@jupyter-widgets/controls",
            "_model_module_version": "1.5.0",
            "value": " 4.55k/? [00:00&lt;00:00, 157kB/s]",
            "_view_count": null,
            "_view_module_version": "1.5.0",
            "description_tooltip": null,
            "_model_module": "@jupyter-widgets/controls",
            "layout": "IPY_MODEL_414766b9b12540b190c69fd1c9d896ec"
          }
        },
        "993a38aef74649b1995e0bdc898a2469": {
          "model_module": "@jupyter-widgets/controls",
          "model_name": "DescriptionStyleModel",
          "model_module_version": "1.5.0",
          "state": {
            "_view_name": "StyleView",
            "_model_name": "DescriptionStyleModel",
            "description_width": "",
            "_view_module": "@jupyter-widgets/base",
            "_model_module_version": "1.5.0",
            "_view_count": null,
            "_view_module_version": "1.2.0",
            "_model_module": "@jupyter-widgets/controls"
          }
        },
        "453b26f998f94e71ad4e4d3397887840": {
          "model_module": "@jupyter-widgets/base",
          "model_name": "LayoutModel",
          "model_module_version": "1.2.0",
          "state": {
            "_view_name": "LayoutView",
            "grid_template_rows": null,
            "right": null,
            "justify_content": null,
            "_view_module": "@jupyter-widgets/base",
            "overflow": null,
            "_model_module_version": "1.2.0",
            "_view_count": null,
            "flex_flow": null,
            "width": null,
            "min_width": null,
            "border": null,
            "align_items": null,
            "bottom": null,
            "_model_module": "@jupyter-widgets/base",
            "top": null,
            "grid_column": null,
            "overflow_y": null,
            "overflow_x": null,
            "grid_auto_flow": null,
            "grid_area": null,
            "grid_template_columns": null,
            "flex": null,
            "_model_name": "LayoutModel",
            "justify_items": null,
            "grid_row": null,
            "max_height": null,
            "align_content": null,
            "visibility": null,
            "align_self": null,
            "height": null,
            "min_height": null,
            "padding": null,
            "grid_auto_rows": null,
            "grid_gap": null,
            "max_width": null,
            "order": null,
            "_view_module_version": "1.2.0",
            "grid_template_areas": null,
            "object_position": null,
            "object_fit": null,
            "grid_auto_columns": null,
            "margin": null,
            "display": null,
            "left": null
          }
        },
        "224ba68b09dc4b4eafd28c2a4cacc9d3": {
          "model_module": "@jupyter-widgets/controls",
          "model_name": "ProgressStyleModel",
          "model_module_version": "1.5.0",
          "state": {
            "_view_name": "StyleView",
            "_model_name": "ProgressStyleModel",
            "description_width": "",
            "_view_module": "@jupyter-widgets/base",
            "_model_module_version": "1.5.0",
            "_view_count": null,
            "_view_module_version": "1.2.0",
            "bar_color": null,
            "_model_module": "@jupyter-widgets/controls"
          }
        },
        "44cda0c463e542eaa538612458c7e1bc": {
          "model_module": "@jupyter-widgets/base",
          "model_name": "LayoutModel",
          "model_module_version": "1.2.0",
          "state": {
            "_view_name": "LayoutView",
            "grid_template_rows": null,
            "right": null,
            "justify_content": null,
            "_view_module": "@jupyter-widgets/base",
            "overflow": null,
            "_model_module_version": "1.2.0",
            "_view_count": null,
            "flex_flow": null,
            "width": null,
            "min_width": null,
            "border": null,
            "align_items": null,
            "bottom": null,
            "_model_module": "@jupyter-widgets/base",
            "top": null,
            "grid_column": null,
            "overflow_y": null,
            "overflow_x": null,
            "grid_auto_flow": null,
            "grid_area": null,
            "grid_template_columns": null,
            "flex": null,
            "_model_name": "LayoutModel",
            "justify_items": null,
            "grid_row": null,
            "max_height": null,
            "align_content": null,
            "visibility": null,
            "align_self": null,
            "height": null,
            "min_height": null,
            "padding": null,
            "grid_auto_rows": null,
            "grid_gap": null,
            "max_width": null,
            "order": null,
            "_view_module_version": "1.2.0",
            "grid_template_areas": null,
            "object_position": null,
            "object_fit": null,
            "grid_auto_columns": null,
            "margin": null,
            "display": null,
            "left": null
          }
        },
        "e0293772c2754cda8347ec8a20c08026": {
          "model_module": "@jupyter-widgets/controls",
          "model_name": "DescriptionStyleModel",
          "model_module_version": "1.5.0",
          "state": {
            "_view_name": "StyleView",
            "_model_name": "DescriptionStyleModel",
            "description_width": "",
            "_view_module": "@jupyter-widgets/base",
            "_model_module_version": "1.5.0",
            "_view_count": null,
            "_view_module_version": "1.2.0",
            "_model_module": "@jupyter-widgets/controls"
          }
        },
        "414766b9b12540b190c69fd1c9d896ec": {
          "model_module": "@jupyter-widgets/base",
          "model_name": "LayoutModel",
          "model_module_version": "1.2.0",
          "state": {
            "_view_name": "LayoutView",
            "grid_template_rows": null,
            "right": null,
            "justify_content": null,
            "_view_module": "@jupyter-widgets/base",
            "overflow": null,
            "_model_module_version": "1.2.0",
            "_view_count": null,
            "flex_flow": null,
            "width": null,
            "min_width": null,
            "border": null,
            "align_items": null,
            "bottom": null,
            "_model_module": "@jupyter-widgets/base",
            "top": null,
            "grid_column": null,
            "overflow_y": null,
            "overflow_x": null,
            "grid_auto_flow": null,
            "grid_area": null,
            "grid_template_columns": null,
            "flex": null,
            "_model_name": "LayoutModel",
            "justify_items": null,
            "grid_row": null,
            "max_height": null,
            "align_content": null,
            "visibility": null,
            "align_self": null,
            "height": null,
            "min_height": null,
            "padding": null,
            "grid_auto_rows": null,
            "grid_gap": null,
            "max_width": null,
            "order": null,
            "_view_module_version": "1.2.0",
            "grid_template_areas": null,
            "object_position": null,
            "object_fit": null,
            "grid_auto_columns": null,
            "margin": null,
            "display": null,
            "left": null
          }
        },
        "04a8a44c8adf48219507912479f75cd4": {
          "model_module": "@jupyter-widgets/controls",
          "model_name": "HBoxModel",
          "model_module_version": "1.5.0",
          "state": {
            "_view_name": "HBoxView",
            "_dom_classes": [],
            "_model_name": "HBoxModel",
            "_view_module": "@jupyter-widgets/controls",
            "_model_module_version": "1.5.0",
            "_view_count": null,
            "_view_module_version": "1.5.0",
            "box_style": "",
            "layout": "IPY_MODEL_ef79fcfe1ec34ae09ee0c7e01ac87467",
            "_model_module": "@jupyter-widgets/controls",
            "children": [
              "IPY_MODEL_ddf43314a9444ce3b72260cf9349d4fe",
              "IPY_MODEL_da5ebfcb67f34c1da638fb5d6bc28a1f",
              "IPY_MODEL_a4e09b2e17bd489b85d68cb5d57ccc92"
            ]
          }
        },
        "ef79fcfe1ec34ae09ee0c7e01ac87467": {
          "model_module": "@jupyter-widgets/base",
          "model_name": "LayoutModel",
          "model_module_version": "1.2.0",
          "state": {
            "_view_name": "LayoutView",
            "grid_template_rows": null,
            "right": null,
            "justify_content": null,
            "_view_module": "@jupyter-widgets/base",
            "overflow": null,
            "_model_module_version": "1.2.0",
            "_view_count": null,
            "flex_flow": null,
            "width": null,
            "min_width": null,
            "border": null,
            "align_items": null,
            "bottom": null,
            "_model_module": "@jupyter-widgets/base",
            "top": null,
            "grid_column": null,
            "overflow_y": null,
            "overflow_x": null,
            "grid_auto_flow": null,
            "grid_area": null,
            "grid_template_columns": null,
            "flex": null,
            "_model_name": "LayoutModel",
            "justify_items": null,
            "grid_row": null,
            "max_height": null,
            "align_content": null,
            "visibility": null,
            "align_self": null,
            "height": null,
            "min_height": null,
            "padding": null,
            "grid_auto_rows": null,
            "grid_gap": null,
            "max_width": null,
            "order": null,
            "_view_module_version": "1.2.0",
            "grid_template_areas": null,
            "object_position": null,
            "object_fit": null,
            "grid_auto_columns": null,
            "margin": null,
            "display": null,
            "left": null
          }
        },
        "ddf43314a9444ce3b72260cf9349d4fe": {
          "model_module": "@jupyter-widgets/controls",
          "model_name": "HTMLModel",
          "model_module_version": "1.5.0",
          "state": {
            "_view_name": "HTMLView",
            "style": "IPY_MODEL_c4f51e12760b4cffba6edaea8721f5a7",
            "_dom_classes": [],
            "description": "",
            "_model_name": "HTMLModel",
            "placeholder": "​",
            "_view_module": "@jupyter-widgets/controls",
            "_model_module_version": "1.5.0",
            "value": "Downloading: 100%",
            "_view_count": null,
            "_view_module_version": "1.5.0",
            "description_tooltip": null,
            "_model_module": "@jupyter-widgets/controls",
            "layout": "IPY_MODEL_f7c5f89719154fd7927fdb36c6c3066a"
          }
        },
        "da5ebfcb67f34c1da638fb5d6bc28a1f": {
          "model_module": "@jupyter-widgets/controls",
          "model_name": "FloatProgressModel",
          "model_module_version": "1.5.0",
          "state": {
            "_view_name": "ProgressView",
            "style": "IPY_MODEL_843ee0af71664c8384d6adce0ab37aa8",
            "_dom_classes": [],
            "description": "",
            "_model_name": "FloatProgressModel",
            "bar_style": "success",
            "max": 1568,
            "_view_module": "@jupyter-widgets/controls",
            "_model_module_version": "1.5.0",
            "value": 1568,
            "_view_count": null,
            "_view_module_version": "1.5.0",
            "orientation": "horizontal",
            "min": 0,
            "description_tooltip": null,
            "_model_module": "@jupyter-widgets/controls",
            "layout": "IPY_MODEL_791190984eac401aacf09b17f242c74f"
          }
        },
        "a4e09b2e17bd489b85d68cb5d57ccc92": {
          "model_module": "@jupyter-widgets/controls",
          "model_name": "HTMLModel",
          "model_module_version": "1.5.0",
          "state": {
            "_view_name": "HTMLView",
            "style": "IPY_MODEL_fe5a4ab03afa4085844dc64d32658e09",
            "_dom_classes": [],
            "description": "",
            "_model_name": "HTMLModel",
            "placeholder": "​",
            "_view_module": "@jupyter-widgets/controls",
            "_model_module_version": "1.5.0",
            "value": " 1.53k/1.53k [00:00&lt;00:00, 48.0kB/s]",
            "_view_count": null,
            "_view_module_version": "1.5.0",
            "description_tooltip": null,
            "_model_module": "@jupyter-widgets/controls",
            "layout": "IPY_MODEL_2a2a34198d3c47b0bbadd74f87d9e4cf"
          }
        },
        "c4f51e12760b4cffba6edaea8721f5a7": {
          "model_module": "@jupyter-widgets/controls",
          "model_name": "DescriptionStyleModel",
          "model_module_version": "1.5.0",
          "state": {
            "_view_name": "StyleView",
            "_model_name": "DescriptionStyleModel",
            "description_width": "",
            "_view_module": "@jupyter-widgets/base",
            "_model_module_version": "1.5.0",
            "_view_count": null,
            "_view_module_version": "1.2.0",
            "_model_module": "@jupyter-widgets/controls"
          }
        },
        "f7c5f89719154fd7927fdb36c6c3066a": {
          "model_module": "@jupyter-widgets/base",
          "model_name": "LayoutModel",
          "model_module_version": "1.2.0",
          "state": {
            "_view_name": "LayoutView",
            "grid_template_rows": null,
            "right": null,
            "justify_content": null,
            "_view_module": "@jupyter-widgets/base",
            "overflow": null,
            "_model_module_version": "1.2.0",
            "_view_count": null,
            "flex_flow": null,
            "width": null,
            "min_width": null,
            "border": null,
            "align_items": null,
            "bottom": null,
            "_model_module": "@jupyter-widgets/base",
            "top": null,
            "grid_column": null,
            "overflow_y": null,
            "overflow_x": null,
            "grid_auto_flow": null,
            "grid_area": null,
            "grid_template_columns": null,
            "flex": null,
            "_model_name": "LayoutModel",
            "justify_items": null,
            "grid_row": null,
            "max_height": null,
            "align_content": null,
            "visibility": null,
            "align_self": null,
            "height": null,
            "min_height": null,
            "padding": null,
            "grid_auto_rows": null,
            "grid_gap": null,
            "max_width": null,
            "order": null,
            "_view_module_version": "1.2.0",
            "grid_template_areas": null,
            "object_position": null,
            "object_fit": null,
            "grid_auto_columns": null,
            "margin": null,
            "display": null,
            "left": null
          }
        },
        "843ee0af71664c8384d6adce0ab37aa8": {
          "model_module": "@jupyter-widgets/controls",
          "model_name": "ProgressStyleModel",
          "model_module_version": "1.5.0",
          "state": {
            "_view_name": "StyleView",
            "_model_name": "ProgressStyleModel",
            "description_width": "",
            "_view_module": "@jupyter-widgets/base",
            "_model_module_version": "1.5.0",
            "_view_count": null,
            "_view_module_version": "1.2.0",
            "bar_color": null,
            "_model_module": "@jupyter-widgets/controls"
          }
        },
        "791190984eac401aacf09b17f242c74f": {
          "model_module": "@jupyter-widgets/base",
          "model_name": "LayoutModel",
          "model_module_version": "1.2.0",
          "state": {
            "_view_name": "LayoutView",
            "grid_template_rows": null,
            "right": null,
            "justify_content": null,
            "_view_module": "@jupyter-widgets/base",
            "overflow": null,
            "_model_module_version": "1.2.0",
            "_view_count": null,
            "flex_flow": null,
            "width": null,
            "min_width": null,
            "border": null,
            "align_items": null,
            "bottom": null,
            "_model_module": "@jupyter-widgets/base",
            "top": null,
            "grid_column": null,
            "overflow_y": null,
            "overflow_x": null,
            "grid_auto_flow": null,
            "grid_area": null,
            "grid_template_columns": null,
            "flex": null,
            "_model_name": "LayoutModel",
            "justify_items": null,
            "grid_row": null,
            "max_height": null,
            "align_content": null,
            "visibility": null,
            "align_self": null,
            "height": null,
            "min_height": null,
            "padding": null,
            "grid_auto_rows": null,
            "grid_gap": null,
            "max_width": null,
            "order": null,
            "_view_module_version": "1.2.0",
            "grid_template_areas": null,
            "object_position": null,
            "object_fit": null,
            "grid_auto_columns": null,
            "margin": null,
            "display": null,
            "left": null
          }
        },
        "fe5a4ab03afa4085844dc64d32658e09": {
          "model_module": "@jupyter-widgets/controls",
          "model_name": "DescriptionStyleModel",
          "model_module_version": "1.5.0",
          "state": {
            "_view_name": "StyleView",
            "_model_name": "DescriptionStyleModel",
            "description_width": "",
            "_view_module": "@jupyter-widgets/base",
            "_model_module_version": "1.5.0",
            "_view_count": null,
            "_view_module_version": "1.2.0",
            "_model_module": "@jupyter-widgets/controls"
          }
        },
        "2a2a34198d3c47b0bbadd74f87d9e4cf": {
          "model_module": "@jupyter-widgets/base",
          "model_name": "LayoutModel",
          "model_module_version": "1.2.0",
          "state": {
            "_view_name": "LayoutView",
            "grid_template_rows": null,
            "right": null,
            "justify_content": null,
            "_view_module": "@jupyter-widgets/base",
            "overflow": null,
            "_model_module_version": "1.2.0",
            "_view_count": null,
            "flex_flow": null,
            "width": null,
            "min_width": null,
            "border": null,
            "align_items": null,
            "bottom": null,
            "_model_module": "@jupyter-widgets/base",
            "top": null,
            "grid_column": null,
            "overflow_y": null,
            "overflow_x": null,
            "grid_auto_flow": null,
            "grid_area": null,
            "grid_template_columns": null,
            "flex": null,
            "_model_name": "LayoutModel",
            "justify_items": null,
            "grid_row": null,
            "max_height": null,
            "align_content": null,
            "visibility": null,
            "align_self": null,
            "height": null,
            "min_height": null,
            "padding": null,
            "grid_auto_rows": null,
            "grid_gap": null,
            "max_width": null,
            "order": null,
            "_view_module_version": "1.2.0",
            "grid_template_areas": null,
            "object_position": null,
            "object_fit": null,
            "grid_auto_columns": null,
            "margin": null,
            "display": null,
            "left": null
          }
        },
        "2f88f1a8407f49db81f39d20f6a69192": {
          "model_module": "@jupyter-widgets/controls",
          "model_name": "HBoxModel",
          "model_module_version": "1.5.0",
          "state": {
            "_view_name": "HBoxView",
            "_dom_classes": [],
            "_model_name": "HBoxModel",
            "_view_module": "@jupyter-widgets/controls",
            "_model_module_version": "1.5.0",
            "_view_count": null,
            "_view_module_version": "1.5.0",
            "box_style": "",
            "layout": "IPY_MODEL_6b260cc9de3f43628780db254103272a",
            "_model_module": "@jupyter-widgets/controls",
            "children": [
              "IPY_MODEL_6db2cfcc3d3043c0af2734c26e2ee991",
              "IPY_MODEL_63512bcab6ba4f1da8c176e7bea1a0f0",
              "IPY_MODEL_bada8d003a434e8bba742f7919256242"
            ]
          }
        },
        "6b260cc9de3f43628780db254103272a": {
          "model_module": "@jupyter-widgets/base",
          "model_name": "LayoutModel",
          "model_module_version": "1.2.0",
          "state": {
            "_view_name": "LayoutView",
            "grid_template_rows": null,
            "right": null,
            "justify_content": null,
            "_view_module": "@jupyter-widgets/base",
            "overflow": null,
            "_model_module_version": "1.2.0",
            "_view_count": null,
            "flex_flow": null,
            "width": null,
            "min_width": null,
            "border": null,
            "align_items": null,
            "bottom": null,
            "_model_module": "@jupyter-widgets/base",
            "top": null,
            "grid_column": null,
            "overflow_y": null,
            "overflow_x": null,
            "grid_auto_flow": null,
            "grid_area": null,
            "grid_template_columns": null,
            "flex": null,
            "_model_name": "LayoutModel",
            "justify_items": null,
            "grid_row": null,
            "max_height": null,
            "align_content": null,
            "visibility": null,
            "align_self": null,
            "height": null,
            "min_height": null,
            "padding": null,
            "grid_auto_rows": null,
            "grid_gap": null,
            "max_width": null,
            "order": null,
            "_view_module_version": "1.2.0",
            "grid_template_areas": null,
            "object_position": null,
            "object_fit": null,
            "grid_auto_columns": null,
            "margin": null,
            "display": null,
            "left": null
          }
        },
        "6db2cfcc3d3043c0af2734c26e2ee991": {
          "model_module": "@jupyter-widgets/controls",
          "model_name": "HTMLModel",
          "model_module_version": "1.5.0",
          "state": {
            "_view_name": "HTMLView",
            "style": "IPY_MODEL_0f65963827924a2c89fb6d6a3f03f1f2",
            "_dom_classes": [],
            "description": "",
            "_model_name": "HTMLModel",
            "placeholder": "​",
            "_view_module": "@jupyter-widgets/controls",
            "_model_module_version": "1.5.0",
            "value": "Downloading: 100%",
            "_view_count": null,
            "_view_module_version": "1.5.0",
            "description_tooltip": null,
            "_model_module": "@jupyter-widgets/controls",
            "layout": "IPY_MODEL_f4357811ab264c5886ac596173fd8323"
          }
        },
        "63512bcab6ba4f1da8c176e7bea1a0f0": {
          "model_module": "@jupyter-widgets/controls",
          "model_name": "FloatProgressModel",
          "model_module_version": "1.5.0",
          "state": {
            "_view_name": "ProgressView",
            "style": "IPY_MODEL_615ce435ab7443bf9c5b340f63185db4",
            "_dom_classes": [],
            "description": "",
            "_model_name": "FloatProgressModel",
            "bar_style": "success",
            "max": 1269737156,
            "_view_module": "@jupyter-widgets/controls",
            "_model_module_version": "1.5.0",
            "value": 1269737156,
            "_view_count": null,
            "_view_module_version": "1.5.0",
            "orientation": "horizontal",
            "min": 0,
            "description_tooltip": null,
            "_model_module": "@jupyter-widgets/controls",
            "layout": "IPY_MODEL_a1e7646e12164973836743425c0ed820"
          }
        },
        "bada8d003a434e8bba742f7919256242": {
          "model_module": "@jupyter-widgets/controls",
          "model_name": "HTMLModel",
          "model_module_version": "1.5.0",
          "state": {
            "_view_name": "HTMLView",
            "style": "IPY_MODEL_1009cc97b58b4ed493693d0676a5bf7b",
            "_dom_classes": [],
            "description": "",
            "_model_name": "HTMLModel",
            "placeholder": "​",
            "_view_module": "@jupyter-widgets/controls",
            "_model_module_version": "1.5.0",
            "value": " 1.18G/1.18G [00:59&lt;00:00, 37.8MB/s]",
            "_view_count": null,
            "_view_module_version": "1.5.0",
            "description_tooltip": null,
            "_model_module": "@jupyter-widgets/controls",
            "layout": "IPY_MODEL_f4c6091084e645db87c23449ea63ece7"
          }
        },
        "0f65963827924a2c89fb6d6a3f03f1f2": {
          "model_module": "@jupyter-widgets/controls",
          "model_name": "DescriptionStyleModel",
          "model_module_version": "1.5.0",
          "state": {
            "_view_name": "StyleView",
            "_model_name": "DescriptionStyleModel",
            "description_width": "",
            "_view_module": "@jupyter-widgets/base",
            "_model_module_version": "1.5.0",
            "_view_count": null,
            "_view_module_version": "1.2.0",
            "_model_module": "@jupyter-widgets/controls"
          }
        },
        "f4357811ab264c5886ac596173fd8323": {
          "model_module": "@jupyter-widgets/base",
          "model_name": "LayoutModel",
          "model_module_version": "1.2.0",
          "state": {
            "_view_name": "LayoutView",
            "grid_template_rows": null,
            "right": null,
            "justify_content": null,
            "_view_module": "@jupyter-widgets/base",
            "overflow": null,
            "_model_module_version": "1.2.0",
            "_view_count": null,
            "flex_flow": null,
            "width": null,
            "min_width": null,
            "border": null,
            "align_items": null,
            "bottom": null,
            "_model_module": "@jupyter-widgets/base",
            "top": null,
            "grid_column": null,
            "overflow_y": null,
            "overflow_x": null,
            "grid_auto_flow": null,
            "grid_area": null,
            "grid_template_columns": null,
            "flex": null,
            "_model_name": "LayoutModel",
            "justify_items": null,
            "grid_row": null,
            "max_height": null,
            "align_content": null,
            "visibility": null,
            "align_self": null,
            "height": null,
            "min_height": null,
            "padding": null,
            "grid_auto_rows": null,
            "grid_gap": null,
            "max_width": null,
            "order": null,
            "_view_module_version": "1.2.0",
            "grid_template_areas": null,
            "object_position": null,
            "object_fit": null,
            "grid_auto_columns": null,
            "margin": null,
            "display": null,
            "left": null
          }
        },
        "615ce435ab7443bf9c5b340f63185db4": {
          "model_module": "@jupyter-widgets/controls",
          "model_name": "ProgressStyleModel",
          "model_module_version": "1.5.0",
          "state": {
            "_view_name": "StyleView",
            "_model_name": "ProgressStyleModel",
            "description_width": "",
            "_view_module": "@jupyter-widgets/base",
            "_model_module_version": "1.5.0",
            "_view_count": null,
            "_view_module_version": "1.2.0",
            "bar_color": null,
            "_model_module": "@jupyter-widgets/controls"
          }
        },
        "a1e7646e12164973836743425c0ed820": {
          "model_module": "@jupyter-widgets/base",
          "model_name": "LayoutModel",
          "model_module_version": "1.2.0",
          "state": {
            "_view_name": "LayoutView",
            "grid_template_rows": null,
            "right": null,
            "justify_content": null,
            "_view_module": "@jupyter-widgets/base",
            "overflow": null,
            "_model_module_version": "1.2.0",
            "_view_count": null,
            "flex_flow": null,
            "width": null,
            "min_width": null,
            "border": null,
            "align_items": null,
            "bottom": null,
            "_model_module": "@jupyter-widgets/base",
            "top": null,
            "grid_column": null,
            "overflow_y": null,
            "overflow_x": null,
            "grid_auto_flow": null,
            "grid_area": null,
            "grid_template_columns": null,
            "flex": null,
            "_model_name": "LayoutModel",
            "justify_items": null,
            "grid_row": null,
            "max_height": null,
            "align_content": null,
            "visibility": null,
            "align_self": null,
            "height": null,
            "min_height": null,
            "padding": null,
            "grid_auto_rows": null,
            "grid_gap": null,
            "max_width": null,
            "order": null,
            "_view_module_version": "1.2.0",
            "grid_template_areas": null,
            "object_position": null,
            "object_fit": null,
            "grid_auto_columns": null,
            "margin": null,
            "display": null,
            "left": null
          }
        },
        "1009cc97b58b4ed493693d0676a5bf7b": {
          "model_module": "@jupyter-widgets/controls",
          "model_name": "DescriptionStyleModel",
          "model_module_version": "1.5.0",
          "state": {
            "_view_name": "StyleView",
            "_model_name": "DescriptionStyleModel",
            "description_width": "",
            "_view_module": "@jupyter-widgets/base",
            "_model_module_version": "1.5.0",
            "_view_count": null,
            "_view_module_version": "1.2.0",
            "_model_module": "@jupyter-widgets/controls"
          }
        },
        "f4c6091084e645db87c23449ea63ece7": {
          "model_module": "@jupyter-widgets/base",
          "model_name": "LayoutModel",
          "model_module_version": "1.2.0",
          "state": {
            "_view_name": "LayoutView",
            "grid_template_rows": null,
            "right": null,
            "justify_content": null,
            "_view_module": "@jupyter-widgets/base",
            "overflow": null,
            "_model_module_version": "1.2.0",
            "_view_count": null,
            "flex_flow": null,
            "width": null,
            "min_width": null,
            "border": null,
            "align_items": null,
            "bottom": null,
            "_model_module": "@jupyter-widgets/base",
            "top": null,
            "grid_column": null,
            "overflow_y": null,
            "overflow_x": null,
            "grid_auto_flow": null,
            "grid_area": null,
            "grid_template_columns": null,
            "flex": null,
            "_model_name": "LayoutModel",
            "justify_items": null,
            "grid_row": null,
            "max_height": null,
            "align_content": null,
            "visibility": null,
            "align_self": null,
            "height": null,
            "min_height": null,
            "padding": null,
            "grid_auto_rows": null,
            "grid_gap": null,
            "max_width": null,
            "order": null,
            "_view_module_version": "1.2.0",
            "grid_template_areas": null,
            "object_position": null,
            "object_fit": null,
            "grid_auto_columns": null,
            "margin": null,
            "display": null,
            "left": null
          }
        }
      }
    }
  },
  "cells": [
    {
      "cell_type": "markdown",
      "metadata": {
        "id": "view-in-github",
        "colab_type": "text"
      },
      "source": [
        "<a href=\"https://colab.research.google.com/github/chmanoj/XLS-R-experiments/blob/main/Fine_Tune_XLS_R_on_Common_Voice_Turkish.ipynb\" target=\"_parent\"><img src=\"https://colab.research.google.com/assets/colab-badge.svg\" alt=\"Open In Colab\"/></a>"
      ]
    },
    {
      "cell_type": "markdown",
      "metadata": {
        "id": "LBSYoWbi-45k"
      },
      "source": [
        "# **Fine-tuning XLS-R for Multi-Lingual ASR with 🤗 Transformers**\n",
        "\n",
        "***New (11/2021)***: *This blog post has been updated to feature XLSR's successor, called [XLS-R](https://huggingface.co/models?other=xls_r)*."
      ]
    },
    {
      "cell_type": "markdown",
      "metadata": {
        "id": "V7YOT2mnUiea"
      },
      "source": [
        "**Wav2Vec2** is a pretrained model for Automatic Speech Recognition (ASR) and was released in [September 2020](https://ai.facebook.com/blog/wav2vec-20-learning-the-structure-of-speech-from-raw-audio/) by *Alexei Baevski, Michael Auli, and Alex Conneau*.  Soon after the superior performance of Wav2Vec2 was demonstrated on one of the most popular English datasets for ASR, called [LibriSpeech](https://huggingface.co/datasets/librispeech_asr), *Facebook AI* presented a multi-lingual version of Wav2Vec2, called [XLSR](https://arxiv.org/abs/2006.13979). XLSR stands for *cross-lingual speech representations* and refers to model's ability to learn speech representations that are useful across multiple languages.\n",
        "\n",
        "XLSR's successor, simply called **XLS-R** (refering to the [*''XLM-R*](https://ai.facebook.com/blog/-xlm-r-state-of-the-art-cross-lingual-understanding-through-self-supervision/) *for Speech''*), was released in [November 2021](https://ai.facebook.com/blog/xls-r-self-supervised-speech-processing-for-128-languages) by *Arun Babu, Changhan Wang, Andros Tjandra, et al.* XLS-R used almost **half a million** hours of audio data in 128 languages for self-supervised pre-training and comes in sizes ranging from 300 milion up to **two billion** parameters. You can find the pretrained checkpoints on the 🤗 Hub:\n",
        "\n",
        "- [**Wav2Vec2-XLS-R-300M**](https://huggingface.co/facebook/wav2vec2-xls-r-300m)\n",
        "- [**Wav2Vec2-XLS-R-1B**](https://huggingface.co/facebook/wav2vec2-xls-r-1b)\n",
        "- [**Wav2Vec2-XLS-R-2B**](https://huggingface.co/facebook/wav2vec2-xls-r-2b)\n",
        "\n",
        "Similar to [BERT's masked language modeling objective](http://jalammar.github.io/illustrated-bert/), XLS-R learns contextualized speech representations by randomly masking feature vectors before passing them to a transformer network during self-supervised pre-training (*i.e.* diagram on the left below). \n",
        "\n",
        "For fine-tuning, a single linear layer is added on top of the pre-trained network to train the model on labeled data of audio downstream tasks such as speech recognition, speech translation and audio classification (*i.e.* diagram on the right below).\n",
        "\n",
        "![wav2vec2_structure](https://raw.githubusercontent.com/patrickvonplaten/scientific_images/master/xls_r.png)\n",
        "\n",
        "XLS-R shows impressive improvements over previous state-of-the-art results on both speech recognition, speech translation and speaker/language identification, *cf.* with Table 3-6, Table 7-10, and Table 11-12 respectively of the official [paper](https://ai.facebook.com/blog/xls-r-self-supervised-speech-processing-for-128-languages)."
      ]
    },
    {
      "cell_type": "markdown",
      "metadata": {
        "id": "nT_QrfWtsxIz"
      },
      "source": [
        "## Notebook Setup"
      ]
    },
    {
      "cell_type": "markdown",
      "metadata": {
        "id": "kruqixOYHaIo"
      },
      "source": [
        "\n",
        "In this notebook, we will give an in-detail explanation of how XLS-R - more specifically the pre-trained checkpoint [**Wav2Vec2-XLS-R-300M**](https://huggingface.co/facebook/wav2vec2-xls-r-300m) - can be fine-tuned for ASR.  \n",
        "\n",
        "For demonstration purposes, we fine-tune the model on the low resource ASR dataset of [Common Voice](https://huggingface.co/datasets/common_voice) that contains only *ca.* 4h of validated training data."
      ]
    },
    {
      "cell_type": "markdown",
      "metadata": {
        "id": "Gx9OdDYrCtQ1"
      },
      "source": [
        "XLS-R is fine-tuned using Connectionist Temporal Classification (CTC), which is an algorithm that is used to train neural networks for sequence-to-sequence problems, such as ASR and handwriting recognition. \n",
        "\n",
        "I highly recommend reading the well-written blog post [*Sequence Modeling with CTC (2017)*](https://distill.pub/2017/ctc/) by Awni Hannun."
      ]
    },
    {
      "cell_type": "markdown",
      "metadata": {
        "id": "wcHuXIaWyHZU"
      },
      "source": [
        "First, let's try to get a good GPU in our colab! With Google Colab's free version it's sadly becoming much harder to get access to a good GPU. With Google Colab Pro, however, one should easily get either a V100 or P100 GPU."
      ]
    },
    {
      "cell_type": "code",
      "metadata": {
        "colab": {
          "base_uri": "https://localhost:8080/"
        },
        "id": "YELVqGxMxnbG",
        "outputId": "ef9e198f-eb56-416d-a7d0-3ce72ef1b1fe"
      },
      "source": [
        "gpu_info = !nvidia-smi\n",
        "gpu_info = '\\n'.join(gpu_info)\n",
        "if gpu_info.find('failed') >= 0:\n",
        "  print('Not connected to a GPU')\n",
        "else:\n",
        "  print(gpu_info)"
      ],
      "execution_count": 2,
      "outputs": [
        {
          "output_type": "stream",
          "name": "stdout",
          "text": [
            "Mon Jan 24 22:48:42 2022       \n",
            "+-----------------------------------------------------------------------------+\n",
            "| NVIDIA-SMI 495.46       Driver Version: 460.32.03    CUDA Version: 11.2     |\n",
            "|-------------------------------+----------------------+----------------------+\n",
            "| GPU  Name        Persistence-M| Bus-Id        Disp.A | Volatile Uncorr. ECC |\n",
            "| Fan  Temp  Perf  Pwr:Usage/Cap|         Memory-Usage | GPU-Util  Compute M. |\n",
            "|                               |                      |               MIG M. |\n",
            "|===============================+======================+======================|\n",
            "|   0  Tesla T4            Off  | 00000000:00:04.0 Off |                    0 |\n",
            "| N/A   35C    P8     9W /  70W |      0MiB / 15109MiB |      0%      Default |\n",
            "|                               |                      |                  N/A |\n",
            "+-------------------------------+----------------------+----------------------+\n",
            "                                                                               \n",
            "+-----------------------------------------------------------------------------+\n",
            "| Processes:                                                                  |\n",
            "|  GPU   GI   CI        PID   Type   Process name                  GPU Memory |\n",
            "|        ID   ID                                                   Usage      |\n",
            "|=============================================================================|\n",
            "|  No running processes found                                                 |\n",
            "+-----------------------------------------------------------------------------+\n"
          ]
        }
      ]
    },
    {
      "cell_type": "markdown",
      "metadata": {
        "id": "e335hPmdtASZ"
      },
      "source": [
        "Before we start, let's install `datasets` and `transformers`. Also, we need the `torchaudio` to load audio files and `jiwer` to evaluate our fine-tuned model using the [word error rate (WER)](https://huggingface.co/metrics/wer) metric ${}^1$."
      ]
    },
    {
      "cell_type": "code",
      "metadata": {
        "id": "c8eh87Hoee5d"
      },
      "source": [
        "%%capture\n",
        "!pip install datasets==1.13.3\n",
        "!pip install transformers==4.11.3\n",
        "!pip install huggingface_hub==0.1\n",
        "!pip install torchaudio==0.10.0+cu113 -f https://download.pytorch.org/whl/cu113/torch_stable.html\n",
        "!pip install jiwer"
      ],
      "execution_count": 3,
      "outputs": []
    },
    {
      "cell_type": "markdown",
      "metadata": {
        "id": "0xxt_LwxDQlO"
      },
      "source": [
        "We strongly suggest to upload your training checkpoints directly to the [🤗 Hub](https://huggingface.co/) while training. The [🤗 Hub](https://huggingface.co/) has integrated version control so you can be sure that no model checkpoint is getting lost during training. \n",
        "\n",
        "To do so you have to store your authentication token from the Hugging Face website (sign up [here](https://huggingface.co/join) if you haven't already!)"
      ]
    },
    {
      "cell_type": "code",
      "metadata": {
        "colab": {
          "base_uri": "https://localhost:8080/",
          "height": 239,
          "referenced_widgets": [
            "d8b3d0b34e3c477c817f5b3fd8fe508e",
            "c52b68836ea44904a89e888960d00a56",
            "4231e176d7df44419b470be682ff042a",
            "cbb34a8828224d618b6e14e1c61b6352",
            "a6627a8ca05b4da2aaf5a600157531a1",
            "93c3f770f08a48729681541e28669df1",
            "949fac0088a0446d9398775a671bc33c",
            "4a4510ec252640898482cb5d4439056c",
            "ebbe7ee460c544b2b56d8f075b06d13c",
            "8e0d0791ee364bcc98cdd1ece5144733",
            "0a09708797dd4c6dbacbc422578a873c",
            "2fc6d5b6e37149b1bcda0d17a7c5b904",
            "bc17dc4fe95d4436b08547bff5b0c3ba",
            "108e77fded43463a98071987f50e9c08",
            "af04236e434e435b9e955d12fd0f9a62",
            "b0901effec424f4eba8a82213c0f157b"
          ]
        },
        "id": "mlMSH3T3EazV",
        "outputId": "69a42619-de83-4fcc-8607-7c04fdc8b9dd"
      },
      "source": [
        "from huggingface_hub import notebook_login\n",
        "\n",
        "notebook_login()"
      ],
      "execution_count": 1,
      "outputs": [
        {
          "output_type": "stream",
          "name": "stdout",
          "text": [
            "Login successful\n",
            "Your token has been saved to /root/.huggingface/token\n",
            "\u001b[1m\u001b[31mAuthenticated through git-crendential store but this isn't the helper defined on your machine.\n",
            "You will have to re-authenticate when pushing to the Hugging Face Hub. Run the following command in your terminal to set it as the default\n",
            "\n",
            "git config --global credential.helper store\u001b[0m\n"
          ]
        }
      ]
    },
    {
      "cell_type": "markdown",
      "metadata": {
        "id": "ujdZ2TxhElk6"
      },
      "source": [
        "\n",
        "Then you need to install Git-LFS to upload your model checkpoints:"
      ]
    },
    {
      "cell_type": "code",
      "metadata": {
        "id": "WcR-d83OEkqb"
      },
      "source": [
        "%%capture\n",
        "!apt install git-lfs"
      ],
      "execution_count": 5,
      "outputs": []
    },
    {
      "cell_type": "markdown",
      "metadata": {
        "id": "Mn9swf6EQ9Vd"
      },
      "source": [
        "\n",
        "\n",
        "\n",
        "---\n",
        "\n",
        "${}^1$ In the [paper](https://arxiv.org/pdf/2006.13979.pdf), the model was evaluated using the phoneme error rate (PER), but by far the most common metric in ASR is the word error rate (WER). To keep this notebook as general as possible we decided to evaluate the model using WER."
      ]
    },
    {
      "cell_type": "markdown",
      "metadata": {
        "id": "0mW-C1Nt-j7k"
      },
      "source": [
        "## Prepare Data, Tokenizer, Feature Extractor"
      ]
    },
    {
      "cell_type": "markdown",
      "metadata": {
        "id": "BeBosnY9BH3e"
      },
      "source": [
        "ASR models transcribe speech to text, which means that we both need a feature extractor that processes the speech signal to the model's input format, *e.g.* a feature vector, and a tokenizer that processes the model's output format to text. \n",
        "\n",
        "In 🤗 Transformers, the XLS-R model is thus accompanied by both a tokenizer, called [Wav2Vec2CTCTokenizer](https://huggingface.co/transformers/master/model_doc/wav2vec2.html#wav2vec2ctctokenizer), and a feature extractor, called [Wav2Vec2FeatureExtractor](https://huggingface.co/transformers/master/model_doc/wav2vec2.html#wav2vec2featureextractor).\n",
        "\n",
        "Let's start by creating the tokenizer to decode the predicted output classes to the output transcription."
      ]
    },
    {
      "cell_type": "markdown",
      "metadata": {
        "id": "sEXEWEJGQPqD"
      },
      "source": [
        "### Create `Wav2Vec2CTCTokenizer`"
      ]
    },
    {
      "cell_type": "markdown",
      "metadata": {
        "id": "tWmMikuNEKl_"
      },
      "source": [
        "A pre-trained XLS-R model maps the speech signal to a sequence of context representations as illustrated in the figure above. However, for speech recognition the model has to to map this sequence of context representations to its corresponding transcription which means that a linear layer has to be added on top of the transformer block (shown in yellow in the diagram above). This linear layer is used to classifies each context representation to a token class analogous how, *e.g.*, after pretraining a linear layer is added on top of BERT's embeddings for further classification - *cf.* with *'BERT'* section of this [blog post](https://huggingface.co/blog/warm-starting-encoder-decoder)."
      ]
    },
    {
      "cell_type": "markdown",
      "metadata": {
        "id": "v5oRE8XjIUH3"
      },
      "source": [
        "The output size of this layer corresponds to the number of tokens in the vocabulary, which does **not** depend onXLS-R's pretraining task, but only on the labeled dataset used for fine-tuning. So in the first step, we will take a look at the chosen dataset of Common Voice and define a vocabulary based on the transcriptions."
      ]
    },
    {
      "cell_type": "markdown",
      "metadata": {
        "id": "idBczw8mWzgt"
      },
      "source": [
        "First, let's go to Common Voice [official website](https://commonvoice.mozilla.org/en/datasets) and pick a language to fine-tune XLS-R on. For this notebook, we will use Turkish. \n",
        "\n",
        "For each language-specific dataset, you can find a language code corresponding to your chosen language. On [Common Voice](https://commonvoice.mozilla.org/en/datasets), look for the field \"Version\". The language code then corresponds to the prefix before the underscore. For Turkish, *e.g.* the language code is `\"tr\"`.\n",
        "\n",
        "Great, now we can use 🤗 Datasets' simple API to download the data. The dataset name is `\"common_voice\"`, the configuration name corresponds to the language code, which is `\"tr\"` in our case."
      ]
    },
    {
      "cell_type": "markdown",
      "metadata": {
        "id": "bee4g9rpLxll"
      },
      "source": [
        "Common Voice has many different splits including `invalidated`, which refers to data that was not rated as \"clean enough\" to be considered useful. In this notebook, we will only make use of the splits `\"train\"`, `\"validation\"` and `\"test\"`. \n",
        "\n",
        "Because the Turkish dataset is so small, we will merge both the validation and training data into a training dataset and only use the test data for validation."
      ]
    },
    {
      "cell_type": "code",
      "metadata": {
        "colab": {
          "base_uri": "https://localhost:8080/"
        },
        "id": "2MMXcWFFgCXU",
        "outputId": "41240ac1-5c00-4a37-8a30-ae532d41a263"
      },
      "source": [
        "from datasets import load_dataset, load_metric, Audio\n",
        "\n",
        "common_voice_train = load_dataset(\"common_voice\", \"tr\", split=\"train+validation\")\n",
        "common_voice_test = load_dataset(\"common_voice\", \"tr\", split=\"test\")"
      ],
      "execution_count": 9,
      "outputs": [
        {
          "output_type": "stream",
          "name": "stderr",
          "text": [
            "Reusing dataset common_voice (/root/.cache/huggingface/datasets/common_voice/tr/6.1.0/f7a9d973839b7706e9e281c19b7e512f31badf3c0fdbd21c671f3c4bf9acf3b9)\n",
            "Reusing dataset common_voice (/root/.cache/huggingface/datasets/common_voice/tr/6.1.0/f7a9d973839b7706e9e281c19b7e512f31badf3c0fdbd21c671f3c4bf9acf3b9)\n"
          ]
        }
      ]
    },
    {
      "cell_type": "markdown",
      "metadata": {
        "id": "ri5y5N_HMANq"
      },
      "source": [
        "Many ASR datasets only provide the target text, `'sentence'` for each audio array `'audio'` and file `'path'`. Common Voice actually provides much more information about each audio file, such as the `'accent'`, etc. Keeping the notebook as general as possible, we only consider the transcribed text for fine-tuning.\n",
        "\n"
      ]
    },
    {
      "cell_type": "code",
      "metadata": {
        "id": "kbyq6lDgQc2a"
      },
      "source": [
        "common_voice_train = common_voice_train.remove_columns([\"accent\", \"age\", \"client_id\", \"down_votes\", \"gender\", \"locale\", \"segment\", \"up_votes\"])\n",
        "common_voice_test = common_voice_test.remove_columns([\"accent\", \"age\", \"client_id\", \"down_votes\", \"gender\", \"locale\", \"segment\", \"up_votes\"])"
      ],
      "execution_count": 10,
      "outputs": []
    },
    {
      "cell_type": "markdown",
      "metadata": {
        "id": "Go9Hq4e4NDT9"
      },
      "source": [
        "Let's write a short function to display some random samples of the dataset and run it a couple of times to get a feeling for the transcriptions."
      ]
    },
    {
      "cell_type": "code",
      "metadata": {
        "id": "72737oog2F6U"
      },
      "source": [
        "from datasets import ClassLabel\n",
        "import random\n",
        "import pandas as pd\n",
        "from IPython.display import display, HTML\n",
        "\n",
        "def show_random_elements(dataset, num_examples=10):\n",
        "    assert num_examples <= len(dataset), \"Can't pick more elements than there are in the dataset.\"\n",
        "    picks = []\n",
        "    for _ in range(num_examples):\n",
        "        pick = random.randint(0, len(dataset)-1)\n",
        "        while pick in picks:\n",
        "            pick = random.randint(0, len(dataset)-1)\n",
        "        picks.append(pick)\n",
        "    \n",
        "    df = pd.DataFrame(dataset[picks])\n",
        "    display(HTML(df.to_html()))"
      ],
      "execution_count": 11,
      "outputs": []
    },
    {
      "cell_type": "code",
      "metadata": {
        "colab": {
          "base_uri": "https://localhost:8080/",
          "height": 363
        },
        "id": "K_JUmf3G3b9S",
        "outputId": "7ed2cd9e-3d0f-438b-e549-1c305fb13a92"
      },
      "source": [
        "show_random_elements(common_voice_train.remove_columns([\"path\", \"audio\"]), num_examples=10)"
      ],
      "execution_count": 12,
      "outputs": [
        {
          "output_type": "display_data",
          "data": {
            "text/html": [
              "<table border=\"1\" class=\"dataframe\">\n",
              "  <thead>\n",
              "    <tr style=\"text-align: right;\">\n",
              "      <th></th>\n",
              "      <th>sentence</th>\n",
              "    </tr>\n",
              "  </thead>\n",
              "  <tbody>\n",
              "    <tr>\n",
              "      <th>0</th>\n",
              "      <td>Bu yolda da Rusya var gibi görünüyor.</td>\n",
              "    </tr>\n",
              "    <tr>\n",
              "      <th>1</th>\n",
              "      <td>Her iki taktik de tartışmaya açık.</td>\n",
              "    </tr>\n",
              "    <tr>\n",
              "      <th>2</th>\n",
              "      <td>Bu çok tehlikeli bir şey.</td>\n",
              "    </tr>\n",
              "    <tr>\n",
              "      <th>3</th>\n",
              "      <td>Ayrıldıklarında, Meyrema sadece sekiz yaşındaydı.</td>\n",
              "    </tr>\n",
              "    <tr>\n",
              "      <th>4</th>\n",
              "      <td>Aile kilisedeki Noel ayinine de katılıyor.</td>\n",
              "    </tr>\n",
              "    <tr>\n",
              "      <th>5</th>\n",
              "      <td>Kıbrıs Rum takımı bu yıl turnuvaya katılmayacak.</td>\n",
              "    </tr>\n",
              "    <tr>\n",
              "      <th>6</th>\n",
              "      <td>\"Bu örgüt Makedonya'yı istikrarsızlığa sürükleyebilir mi?\"</td>\n",
              "    </tr>\n",
              "    <tr>\n",
              "      <th>7</th>\n",
              "      <td>Bu bir kalite meselesi.</td>\n",
              "    </tr>\n",
              "    <tr>\n",
              "      <th>8</th>\n",
              "      <td>Görev için on dokuz aday yarıştı.</td>\n",
              "    </tr>\n",
              "    <tr>\n",
              "      <th>9</th>\n",
              "      <td>\"Oktar'ın karara itiraz hakkı bulunuyor.\"</td>\n",
              "    </tr>\n",
              "  </tbody>\n",
              "</table>"
            ],
            "text/plain": [
              "<IPython.core.display.HTML object>"
            ]
          },
          "metadata": {}
        }
      ]
    },
    {
      "cell_type": "markdown",
      "metadata": {
        "id": "fowcOllGNNju"
      },
      "source": [
        "Alright! The transcriptions look fairly clean. Having translated the transcribed sentences, it seems that the language corresponds more to written-out text than noisy dialogue. This makes sense considering that [Common Voice](https://huggingface.co/datasets/common_voice) is a crowd-sourced read speech corpus."
      ]
    },
    {
      "cell_type": "markdown",
      "metadata": {
        "id": "vq7OR50LN49m"
      },
      "source": [
        "We can see that the transcriptions contain some special characters, such as `,.?!;:`. Without a language model, it is much harder to classify speech chunks to such special characters because they don't really correspond to a characteristic sound unit. *E.g.*, the letter `\"s\"` has a more or less clear sound, whereas the special character `\".\"` does not.\n",
        "Also in order to understand the meaning of a speech signal, it is usually not necessary to include special characters in the transcription.\n",
        "\n",
        "Let's simply remove all characters that don't contribute to the meaning of a word and cannot really be represented by an acoustic sound and normalize the text."
      ]
    },
    {
      "cell_type": "code",
      "metadata": {
        "id": "svKzVJ_hQGK6"
      },
      "source": [
        "import re\n",
        "chars_to_remove_regex = '[\\,\\?\\.\\!\\-\\;\\:\\\"\\“\\%\\‘\\”\\�\\']'\n",
        "\n",
        "def remove_special_characters(batch):\n",
        "    batch[\"sentence\"] = re.sub(chars_to_remove_regex, '', batch[\"sentence\"]).lower()\n",
        "    return batch"
      ],
      "execution_count": 13,
      "outputs": []
    },
    {
      "cell_type": "code",
      "metadata": {
        "colab": {
          "base_uri": "https://localhost:8080/",
          "height": 86,
          "referenced_widgets": [
            "d2ee1f51814249f786140a2f8f54295e",
            "95cf29f9e39b4e9abce48e47ab7b9e5e",
            "bcbeae8f8cdc4696bb52a4e663d17b78",
            "1d9aaa30624e4fa2b8a3b3eb3916fee7",
            "4b0ace1e3a98481891516774a464a94b",
            "b7a724e50acd4914b913b437747a0a9e",
            "b3647776e1dc4ddb87b356a6a32599ae",
            "981204fc4a5a4859b90a8ace59c76d1d",
            "94f998985403449084df717d7e7d77df",
            "dc1e632a00694333a937f395d25bb21b",
            "482688a1ebd1414e9c6c0049a8a1146e"
          ]
        },
        "id": "XIHocAuTQbBR",
        "outputId": "c0735acd-6354-430c-ae65-570670498d6e"
      },
      "source": [
        "common_voice_train = common_voice_train.map(remove_special_characters)\n",
        "common_voice_test = common_voice_test.map(remove_special_characters)"
      ],
      "execution_count": 14,
      "outputs": [
        {
          "output_type": "display_data",
          "data": {
            "application/vnd.jupyter.widget-view+json": {
              "model_id": "d2ee1f51814249f786140a2f8f54295e",
              "version_minor": 0,
              "version_major": 2
            },
            "text/plain": [
              "  0%|          | 0/3478 [00:00<?, ?ex/s]"
            ]
          },
          "metadata": {}
        },
        {
          "output_type": "stream",
          "name": "stderr",
          "text": [
            "Loading cached processed dataset at /root/.cache/huggingface/datasets/common_voice/tr/6.1.0/f7a9d973839b7706e9e281c19b7e512f31badf3c0fdbd21c671f3c4bf9acf3b9/cache-a3aa7587e4d2fd25.arrow\n"
          ]
        }
      ]
    },
    {
      "cell_type": "markdown",
      "metadata": {
        "id": "TxnVS9gIhIma"
      },
      "source": [
        "Let's look at the processed text labels again."
      ]
    },
    {
      "cell_type": "code",
      "metadata": {
        "colab": {
          "base_uri": "https://localhost:8080/",
          "height": 363
        },
        "id": "RBDRAAYxRE6n",
        "outputId": "4a5b569f-6d78-4816-f08f-bdeab5cf706e"
      },
      "source": [
        "show_random_elements(common_voice_train.remove_columns([\"path\",\"audio\"]))"
      ],
      "execution_count": 15,
      "outputs": [
        {
          "output_type": "display_data",
          "data": {
            "text/html": [
              "<table border=\"1\" class=\"dataframe\">\n",
              "  <thead>\n",
              "    <tr style=\"text-align: right;\">\n",
              "      <th></th>\n",
              "      <th>sentence</th>\n",
              "    </tr>\n",
              "  </thead>\n",
              "  <tbody>\n",
              "    <tr>\n",
              "      <th>0</th>\n",
              "      <td>gümrüksüz ithalata da son verildi</td>\n",
              "    </tr>\n",
              "    <tr>\n",
              "      <th>1</th>\n",
              "      <td>ziyaret yirmi aralığa değin sürecek</td>\n",
              "    </tr>\n",
              "    <tr>\n",
              "      <th>2</th>\n",
              "      <td>bu plan yakında hayata geçmeli</td>\n",
              "    </tr>\n",
              "    <tr>\n",
              "      <th>3</th>\n",
              "      <td>sizin bu çözümdeki rolünüz ne olur</td>\n",
              "    </tr>\n",
              "    <tr>\n",
              "      <th>4</th>\n",
              "      <td>yeni anlaşma mart iki bin on ikide imzalanacak</td>\n",
              "    </tr>\n",
              "    <tr>\n",
              "      <th>5</th>\n",
              "      <td>cazseverler de kendi paylarına düşeni aldılar</td>\n",
              "    </tr>\n",
              "    <tr>\n",
              "      <th>6</th>\n",
              "      <td>dış ticaret açığı dört kat arttı</td>\n",
              "    </tr>\n",
              "    <tr>\n",
              "      <th>7</th>\n",
              "      <td>güçlü patlama kentin büyük bölümünden işitildi</td>\n",
              "    </tr>\n",
              "    <tr>\n",
              "      <th>8</th>\n",
              "      <td>bulgaristan yüzde yetmiş üç ile ortalarda bir yerde yer aldı</td>\n",
              "    </tr>\n",
              "    <tr>\n",
              "      <th>9</th>\n",
              "      <td>yaklaşık ise kararsız</td>\n",
              "    </tr>\n",
              "  </tbody>\n",
              "</table>"
            ],
            "text/plain": [
              "<IPython.core.display.HTML object>"
            ]
          },
          "metadata": {}
        }
      ]
    },
    {
      "cell_type": "markdown",
      "metadata": {
        "id": "jwfaptH5RJwA"
      },
      "source": [
        "Good! This looks better. We have removed most special characters from transcriptions and normalized them to lower-case only.\n",
        "\n",
        "Before finalizing the pre-processing, it is always advantageous to consult a native speaker of the target language to see whether the text can be further simplified. \n",
        "For this blog post, [Merve](https://twitter.com/mervenoyann) was kind enough to take a quick look and noted that \"hatted\" characters - like `â` - aren't really used anymore in Turkish and can be replaced by their \"un-hatted\" equivalent, *e.g.* `a`. \n",
        "\n",
        "This means that we should replace a sentence like `\"yargı sistemi hâlâ sağlıksız\"` to `\"yargı sistemi hala sağlıksız\"`.\n",
        "\n",
        "Let's write another short mapping function to further simplify the text labels. Remember - the simler the text labels, the easier it is for the model to learn to predict those labels.\n",
        "\n"
      ]
    },
    {
      "cell_type": "code",
      "metadata": {
        "id": "aZcrz6z7lgGm"
      },
      "source": [
        "def replace_hatted_characters(batch):\n",
        "    batch[\"sentence\"] = re.sub('[â]', 'a', batch[\"sentence\"])\n",
        "    batch[\"sentence\"] = re.sub('[î]', 'i', batch[\"sentence\"])\n",
        "    batch[\"sentence\"] = re.sub('[ô]', 'o', batch[\"sentence\"])\n",
        "    batch[\"sentence\"] = re.sub('[û]', 'u', batch[\"sentence\"])\n",
        "    return batch"
      ],
      "execution_count": 16,
      "outputs": []
    },
    {
      "cell_type": "code",
      "metadata": {
        "colab": {
          "base_uri": "https://localhost:8080/",
          "height": 86,
          "referenced_widgets": [
            "50f4ef70ec2d41749d886d617b80c3b3",
            "3647ffc117e74a0baeb4ebf18bda1f2d",
            "aa1eaea3ac9d416c98b9925799130660",
            "ad5ae156430c4b6a98aabef510a06d5e",
            "32379c1ad9fc41f29b3b9d46187bbab3",
            "e6bfc622ea78473a91e06c737950097b",
            "278553fb6ba94efb8eb02ebd991a3df4",
            "7e2378fd077345af83e1db2995060524",
            "3838569521d24256a3fbe4c4909d031d",
            "41b85d93880b48aa9161e2f79fca6e86",
            "fc8fda17c3b847988b9f4fcf370389cb"
          ]
        },
        "id": "ieGhhND5mSwI",
        "outputId": "544e5169-cbf7-46d2-e801-38f725ade77b"
      },
      "source": [
        "common_voice_train = common_voice_train.map(replace_hatted_characters)\n",
        "common_voice_test = common_voice_test.map(replace_hatted_characters)"
      ],
      "execution_count": 17,
      "outputs": [
        {
          "output_type": "display_data",
          "data": {
            "application/vnd.jupyter.widget-view+json": {
              "model_id": "50f4ef70ec2d41749d886d617b80c3b3",
              "version_minor": 0,
              "version_major": 2
            },
            "text/plain": [
              "  0%|          | 0/3478 [00:00<?, ?ex/s]"
            ]
          },
          "metadata": {}
        },
        {
          "output_type": "stream",
          "name": "stderr",
          "text": [
            "Loading cached processed dataset at /root/.cache/huggingface/datasets/common_voice/tr/6.1.0/f7a9d973839b7706e9e281c19b7e512f31badf3c0fdbd21c671f3c4bf9acf3b9/cache-7feed192f520d0a3.arrow\n"
          ]
        }
      ]
    },
    {
      "cell_type": "markdown",
      "metadata": {
        "id": "3ORHDb2Th2TW"
      },
      "source": [
        "In CTC, it is common to classify speech chunks into letters, so we will do the same here. \n",
        "Let's extract all distinct letters of the training and test data and build our vocabulary from this set of letters.\n",
        "\n",
        "We write a mapping function that concatenates all transcriptions into one long transcription and then transforms the string into a set of chars. \n",
        "It is important to pass the argument `batched=True` to the `map(...)` function so that the mapping function has access to all transcriptions at once."
      ]
    },
    {
      "cell_type": "code",
      "metadata": {
        "id": "LwCshNbbeRZR"
      },
      "source": [
        "def extract_all_chars(batch):\n",
        "  all_text = \" \".join(batch[\"sentence\"])\n",
        "  vocab = list(set(all_text))\n",
        "  return {\"vocab\": [vocab], \"all_text\": [all_text]}"
      ],
      "execution_count": 18,
      "outputs": []
    },
    {
      "cell_type": "code",
      "metadata": {
        "colab": {
          "base_uri": "https://localhost:8080/",
          "height": 81,
          "referenced_widgets": [
            "e8fb1c18ddd941f3a88f8b01021e0154",
            "256c59e06bc24ce6b7a01bb05cff6f27",
            "6aa16f66645b4e528bdff5dbe9c63a3b",
            "11458226c1434b8b98bdc30bb09620cb",
            "7c95528f82c044539266fc35652ed7fe",
            "de096d14db244bae812cdb40da713e87",
            "d4889353e9ca44918e6b2f04072055c2",
            "af09ef9bf4a941ccb27eaa89ff1f9a56",
            "3cf8833181f24b0f92aaaa1e048319e0",
            "3810aba016da41ef8b6da72bd09fb60b",
            "d664d77a7b0a412dbaa838c1ff85b1fb",
            "dc1d6a656a434da2bb3d80f639e20589",
            "3b0ed274c6ea4bbd98f4d745cd17d42c",
            "c27bd7bc376e4c998d31f82d8660b2a4",
            "f11eccfef9a144d6bbbadfd84dd5cbd9",
            "1fc573a8eb5443a9b4ba57f39877f356",
            "0dbb51bdd7be4bda99d2c2b23f54c974",
            "56f6b1cc4b6341a39ab3c77623afdb43",
            "3d77ff0a156d4f0c858dfe3a34a6d594",
            "5fc7ef9c26354e378d42a5f61c6b1327",
            "6cd8606fc2e24b96b4ead69b070a9993",
            "b284727fd8a642fc87bdc33902ba80c9"
          ]
        },
        "id": "_m6uUjjcfbjH",
        "outputId": "41cc5575-e1ba-4b26-b256-f21fd55d3bd4"
      },
      "source": [
        "vocab_train = common_voice_train.map(extract_all_chars, batched=True, batch_size=-1, keep_in_memory=True, remove_columns=common_voice_train.column_names)\n",
        "vocab_test = common_voice_test.map(extract_all_chars, batched=True, batch_size=-1, keep_in_memory=True, remove_columns=common_voice_test.column_names)"
      ],
      "execution_count": 19,
      "outputs": [
        {
          "output_type": "display_data",
          "data": {
            "application/vnd.jupyter.widget-view+json": {
              "model_id": "e8fb1c18ddd941f3a88f8b01021e0154",
              "version_minor": 0,
              "version_major": 2
            },
            "text/plain": [
              "  0%|          | 0/1 [00:00<?, ?ba/s]"
            ]
          },
          "metadata": {}
        },
        {
          "output_type": "display_data",
          "data": {
            "application/vnd.jupyter.widget-view+json": {
              "model_id": "dc1d6a656a434da2bb3d80f639e20589",
              "version_minor": 0,
              "version_major": 2
            },
            "text/plain": [
              "  0%|          | 0/1 [00:00<?, ?ba/s]"
            ]
          },
          "metadata": {}
        }
      ]
    },
    {
      "cell_type": "markdown",
      "metadata": {
        "id": "7oVgE8RZSJNP"
      },
      "source": [
        "Now, we create the union of all distinct letters in the training dataset and test dataset and convert the resulting list into an enumerated dictionary."
      ]
    },
    {
      "cell_type": "code",
      "metadata": {
        "id": "aQfneNsmlJI0"
      },
      "source": [
        "vocab_list = list(set(vocab_train[\"vocab\"][0]) | set(vocab_test[\"vocab\"][0]))"
      ],
      "execution_count": 20,
      "outputs": []
    },
    {
      "cell_type": "code",
      "metadata": {
        "colab": {
          "base_uri": "https://localhost:8080/"
        },
        "id": "_0kRndSvqaKk",
        "outputId": "9f26a649-3721-450d-d33d-9ba6d1f01a1d"
      },
      "source": [
        "vocab_dict = {v: k for k, v in enumerate(sorted(vocab_list))}\n",
        "vocab_dict"
      ],
      "execution_count": 21,
      "outputs": [
        {
          "output_type": "execute_result",
          "data": {
            "text/plain": [
              "{' ': 0,\n",
              " 'a': 1,\n",
              " 'b': 2,\n",
              " 'c': 3,\n",
              " 'd': 4,\n",
              " 'e': 5,\n",
              " 'f': 6,\n",
              " 'g': 7,\n",
              " 'h': 8,\n",
              " 'i': 9,\n",
              " 'j': 10,\n",
              " 'k': 11,\n",
              " 'l': 12,\n",
              " 'm': 13,\n",
              " 'n': 14,\n",
              " 'o': 15,\n",
              " 'p': 16,\n",
              " 'q': 17,\n",
              " 'r': 18,\n",
              " 's': 19,\n",
              " 't': 20,\n",
              " 'u': 21,\n",
              " 'v': 22,\n",
              " 'w': 23,\n",
              " 'x': 24,\n",
              " 'y': 25,\n",
              " 'z': 26,\n",
              " 'ç': 27,\n",
              " 'ë': 28,\n",
              " 'ö': 29,\n",
              " 'ü': 30,\n",
              " 'ğ': 31,\n",
              " 'ı': 32,\n",
              " 'ş': 33,\n",
              " '̇': 34}"
            ]
          },
          "metadata": {},
          "execution_count": 21
        }
      ]
    },
    {
      "cell_type": "markdown",
      "metadata": {
        "id": "JOSzbvs9SXT1"
      },
      "source": [
        "Cool, we see that all letters of the alphabet occur in the dataset (which is not really surprising) and we also extracted the special characters `\"\"` and `'`. Note that we did not exclude those special characters because: \n",
        "\n",
        "The model has to learn to predict when a word is finished or else the model prediction would always be a sequence of chars which would make it impossible to separate words from each other.\n",
        "\n",
        "One should always keep in mind that pre-processing is a very important step before training your model. E.g., we don't want our model to differentiate between `a` and `A` just because we forgot to normalize the data. The difference between `a` and `A` does not depend on the \"sound\" of the letter at all, but more on grammatical rules - *e.g.* use a capitalized letter at the beginning of the sentence. So it is sensible to remove the difference between capitalized and non-capitalized letters so that the model has an easier time learning to transcribe speech. "
      ]
    },
    {
      "cell_type": "markdown",
      "metadata": {
        "id": "b1fBRCn-TRaO"
      },
      "source": [
        "To make it clearer that `\" \"` has its own token class, we give it a more visible character `|`. In addition, we also add an \"unknown\" token so that the model can later deal with characters not encountered in Common Voice's training set. "
      ]
    },
    {
      "cell_type": "code",
      "metadata": {
        "id": "npbIbBoLgaFX"
      },
      "source": [
        "vocab_dict[\"|\"] = vocab_dict[\" \"]\n",
        "del vocab_dict[\" \"]"
      ],
      "execution_count": 22,
      "outputs": []
    },
    {
      "cell_type": "markdown",
      "metadata": {
        "id": "_9yCWg4Sd0cb"
      },
      "source": [
        "Finally, we also add a padding token that corresponds to CTC's \"*blank token*\". The \"blank token\" is a core component of the CTC algorithm. For more information, please take a look at the \"Alignment\" section [here](https://distill.pub/2017/ctc/)."
      ]
    },
    {
      "cell_type": "code",
      "metadata": {
        "colab": {
          "base_uri": "https://localhost:8080/"
        },
        "id": "znF0bNunsjbl",
        "outputId": "d0749ab8-a89a-4d6d-88c7-c826d91d2015"
      },
      "source": [
        "vocab_dict[\"[UNK]\"] = len(vocab_dict)\n",
        "vocab_dict[\"[PAD]\"] = len(vocab_dict)\n",
        "len(vocab_dict)"
      ],
      "execution_count": 23,
      "outputs": [
        {
          "output_type": "execute_result",
          "data": {
            "text/plain": [
              "37"
            ]
          },
          "metadata": {},
          "execution_count": 23
        }
      ]
    },
    {
      "cell_type": "markdown",
      "metadata": {
        "id": "SFPGfet8U5sL"
      },
      "source": [
        "Cool, now our vocabulary is complete and consists of 39 tokens, which means that the linear layer that we will add on top of the pretrained XLS-R checkpoint will have an output dimension of 39."
      ]
    },
    {
      "cell_type": "markdown",
      "metadata": {
        "id": "1CujRgBNVRaD"
      },
      "source": [
        "Let's now save the vocabulary as a json file."
      ]
    },
    {
      "cell_type": "code",
      "metadata": {
        "id": "ehyUoh9vk191"
      },
      "source": [
        "import json\n",
        "with open('vocab.json', 'w') as vocab_file:\n",
        "    json.dump(vocab_dict, vocab_file)"
      ],
      "execution_count": 24,
      "outputs": []
    },
    {
      "cell_type": "markdown",
      "metadata": {
        "id": "SHJDaKlIVVim"
      },
      "source": [
        "In a final step, we use the json file to load the vocabulary into an instance of the `Wav2Vec2CTCTokenizer` class."
      ]
    },
    {
      "cell_type": "code",
      "metadata": {
        "colab": {
          "base_uri": "https://localhost:8080/"
        },
        "id": "xriFGEWQkO4M",
        "outputId": "8e986c29-60ff-4fc1-e635-d5989d5e1db1"
      },
      "source": [
        "from transformers import Wav2Vec2CTCTokenizer\n",
        "\n",
        "tokenizer = Wav2Vec2CTCTokenizer.from_pretrained(\"./\", unk_token=\"[UNK]\", pad_token=\"[PAD]\", word_delimiter_token=\"|\")"
      ],
      "execution_count": 25,
      "outputs": [
        {
          "output_type": "stream",
          "name": "stderr",
          "text": [
            "file ./config.json not found\n",
            "Special tokens have been added in the vocabulary, make sure the associated word embeddings are fine-tuned or trained.\n"
          ]
        }
      ]
    },
    {
      "cell_type": "markdown",
      "metadata": {
        "id": "KvL12DrNV4cx"
      },
      "source": [
        "If one wants to re-use the just created tokenizer with the fine-tuned model of this notebook, it is strongly advised to upload the `tokenizer` to the [🤗 Hub](https://huggingface.co/). Let's call the repo to which we will upload the files\n",
        "`\"wav2vec2-large-xlsr-turkish-demo-colab\"`:"
      ]
    },
    {
      "cell_type": "code",
      "metadata": {
        "id": "A1XApZBAF2zr"
      },
      "source": [
        "repo_name = \"wav2vec2-large-xls-r-300m-turkish-demo-colab\""
      ],
      "execution_count": 26,
      "outputs": []
    },
    {
      "cell_type": "markdown",
      "metadata": {
        "id": "B1BiezWZF16d"
      },
      "source": [
        "and upload the tokenizer to the [🤗 Hub](https://huggingface.co/)."
      ]
    },
    {
      "cell_type": "code",
      "metadata": {
        "colab": {
          "base_uri": "https://localhost:8080/",
          "height": 484
        },
        "id": "zytE1175GAKM",
        "outputId": "60e74cfe-098b-4fcc-e362-9480d049ce46"
      },
      "source": [
        "tokenizer.push_to_hub(repo_name)"
      ],
      "execution_count": 27,
      "outputs": [
        {
          "output_type": "error",
          "ename": "OSError",
          "evalue": "ignored",
          "traceback": [
            "\u001b[0;31m---------------------------------------------------------------------------\u001b[0m",
            "\u001b[0;31mCalledProcessError\u001b[0m                        Traceback (most recent call last)",
            "\u001b[0;32m/usr/local/lib/python3.7/dist-packages/huggingface_hub/repository.py\u001b[0m in \u001b[0;36mgit_commit\u001b[0;34m(self, commit_message)\u001b[0m\n\u001b[1;32m    931\u001b[0m                 \u001b[0mencoding\u001b[0m\u001b[0;34m=\u001b[0m\u001b[0;34m\"utf-8\"\u001b[0m\u001b[0;34m,\u001b[0m\u001b[0;34m\u001b[0m\u001b[0;34m\u001b[0m\u001b[0m\n\u001b[0;32m--> 932\u001b[0;31m                 \u001b[0mcwd\u001b[0m\u001b[0;34m=\u001b[0m\u001b[0mself\u001b[0m\u001b[0;34m.\u001b[0m\u001b[0mlocal_dir\u001b[0m\u001b[0;34m,\u001b[0m\u001b[0;34m\u001b[0m\u001b[0;34m\u001b[0m\u001b[0m\n\u001b[0m\u001b[1;32m    933\u001b[0m             )\n",
            "\u001b[0;32m/usr/lib/python3.7/subprocess.py\u001b[0m in \u001b[0;36mrun\u001b[0;34m(input, capture_output, timeout, check, *popenargs, **kwargs)\u001b[0m\n\u001b[1;32m    511\u001b[0m             raise CalledProcessError(retcode, process.args,\n\u001b[0;32m--> 512\u001b[0;31m                                      output=stdout, stderr=stderr)\n\u001b[0m\u001b[1;32m    513\u001b[0m     \u001b[0;32mreturn\u001b[0m \u001b[0mCompletedProcess\u001b[0m\u001b[0;34m(\u001b[0m\u001b[0mprocess\u001b[0m\u001b[0;34m.\u001b[0m\u001b[0margs\u001b[0m\u001b[0;34m,\u001b[0m \u001b[0mretcode\u001b[0m\u001b[0;34m,\u001b[0m \u001b[0mstdout\u001b[0m\u001b[0;34m,\u001b[0m \u001b[0mstderr\u001b[0m\u001b[0;34m)\u001b[0m\u001b[0;34m\u001b[0m\u001b[0;34m\u001b[0m\u001b[0m\n",
            "\u001b[0;31mCalledProcessError\u001b[0m: Command '['git', 'commit', '-m', 'add tokenizer', '-v']' returned non-zero exit status 1.",
            "\nDuring handling of the above exception, another exception occurred:\n",
            "\u001b[0;31mOSError\u001b[0m                                   Traceback (most recent call last)",
            "\u001b[0;32m<ipython-input-27-e531bb070692>\u001b[0m in \u001b[0;36m<module>\u001b[0;34m()\u001b[0m\n\u001b[0;32m----> 1\u001b[0;31m \u001b[0mtokenizer\u001b[0m\u001b[0;34m.\u001b[0m\u001b[0mpush_to_hub\u001b[0m\u001b[0;34m(\u001b[0m\u001b[0mrepo_name\u001b[0m\u001b[0;34m)\u001b[0m\u001b[0;34m\u001b[0m\u001b[0;34m\u001b[0m\u001b[0m\n\u001b[0m",
            "\u001b[0;32m/usr/local/lib/python3.7/dist-packages/transformers/file_utils.py\u001b[0m in \u001b[0;36mpush_to_hub\u001b[0;34m(self, repo_path_or_name, repo_url, use_temp_dir, commit_message, organization, private, use_auth_token)\u001b[0m\n\u001b[1;32m   2180\u001b[0m         \u001b[0mself\u001b[0m\u001b[0;34m.\u001b[0m\u001b[0msave_pretrained\u001b[0m\u001b[0;34m(\u001b[0m\u001b[0mrepo_path_or_name\u001b[0m\u001b[0;34m)\u001b[0m\u001b[0;34m\u001b[0m\u001b[0;34m\u001b[0m\u001b[0m\n\u001b[1;32m   2181\u001b[0m         \u001b[0;31m# Commit and push!\u001b[0m\u001b[0;34m\u001b[0m\u001b[0;34m\u001b[0m\u001b[0;34m\u001b[0m\u001b[0m\n\u001b[0;32m-> 2182\u001b[0;31m         \u001b[0murl\u001b[0m \u001b[0;34m=\u001b[0m \u001b[0mself\u001b[0m\u001b[0;34m.\u001b[0m\u001b[0m_push_to_hub\u001b[0m\u001b[0;34m(\u001b[0m\u001b[0mrepo\u001b[0m\u001b[0;34m,\u001b[0m \u001b[0mcommit_message\u001b[0m\u001b[0;34m=\u001b[0m\u001b[0mcommit_message\u001b[0m\u001b[0;34m)\u001b[0m\u001b[0;34m\u001b[0m\u001b[0;34m\u001b[0m\u001b[0m\n\u001b[0m\u001b[1;32m   2183\u001b[0m \u001b[0;34m\u001b[0m\u001b[0m\n\u001b[1;32m   2184\u001b[0m         \u001b[0;31m# Clean up! Clean up! Everybody everywhere!\u001b[0m\u001b[0;34m\u001b[0m\u001b[0;34m\u001b[0m\u001b[0;34m\u001b[0m\u001b[0m\n",
            "\u001b[0;32m/usr/local/lib/python3.7/dist-packages/transformers/file_utils.py\u001b[0m in \u001b[0;36m_push_to_hub\u001b[0;34m(cls, repo, commit_message)\u001b[0m\n\u001b[1;32m   2260\u001b[0m                 \u001b[0mcommit_message\u001b[0m \u001b[0;34m=\u001b[0m \u001b[0;34m\"add model\"\u001b[0m\u001b[0;34m\u001b[0m\u001b[0;34m\u001b[0m\u001b[0m\n\u001b[1;32m   2261\u001b[0m \u001b[0;34m\u001b[0m\u001b[0m\n\u001b[0;32m-> 2262\u001b[0;31m         \u001b[0;32mreturn\u001b[0m \u001b[0mrepo\u001b[0m\u001b[0;34m.\u001b[0m\u001b[0mpush_to_hub\u001b[0m\u001b[0;34m(\u001b[0m\u001b[0mcommit_message\u001b[0m\u001b[0;34m=\u001b[0m\u001b[0mcommit_message\u001b[0m\u001b[0;34m)\u001b[0m\u001b[0;34m\u001b[0m\u001b[0;34m\u001b[0m\u001b[0m\n\u001b[0m\u001b[1;32m   2263\u001b[0m \u001b[0;34m\u001b[0m\u001b[0m\n\u001b[1;32m   2264\u001b[0m \u001b[0;34m\u001b[0m\u001b[0m\n",
            "\u001b[0;32m/usr/local/lib/python3.7/dist-packages/huggingface_hub/repository.py\u001b[0m in \u001b[0;36mpush_to_hub\u001b[0;34m(self, commit_message, blocking, clean_ok, auto_lfs_prune)\u001b[0m\n\u001b[1;32m   1229\u001b[0m             \u001b[0;32mreturn\u001b[0m \u001b[0;32mNone\u001b[0m\u001b[0;34m\u001b[0m\u001b[0;34m\u001b[0m\u001b[0m\n\u001b[1;32m   1230\u001b[0m         \u001b[0mself\u001b[0m\u001b[0;34m.\u001b[0m\u001b[0mgit_add\u001b[0m\u001b[0;34m(\u001b[0m\u001b[0mauto_lfs_track\u001b[0m\u001b[0;34m=\u001b[0m\u001b[0;32mTrue\u001b[0m\u001b[0;34m)\u001b[0m\u001b[0;34m\u001b[0m\u001b[0;34m\u001b[0m\u001b[0m\n\u001b[0;32m-> 1231\u001b[0;31m         \u001b[0mself\u001b[0m\u001b[0;34m.\u001b[0m\u001b[0mgit_commit\u001b[0m\u001b[0;34m(\u001b[0m\u001b[0mcommit_message\u001b[0m\u001b[0;34m)\u001b[0m\u001b[0;34m\u001b[0m\u001b[0;34m\u001b[0m\u001b[0m\n\u001b[0m\u001b[1;32m   1232\u001b[0m         return self.git_push(\n\u001b[1;32m   1233\u001b[0m             \u001b[0mupstream\u001b[0m\u001b[0;34m=\u001b[0m\u001b[0;34mf\"origin {self.current_branch}\"\u001b[0m\u001b[0;34m,\u001b[0m\u001b[0;34m\u001b[0m\u001b[0;34m\u001b[0m\u001b[0m\n",
            "\u001b[0;32m/usr/local/lib/python3.7/dist-packages/huggingface_hub/repository.py\u001b[0m in \u001b[0;36mgit_commit\u001b[0;34m(self, commit_message)\u001b[0m\n\u001b[1;32m    937\u001b[0m                 \u001b[0;32mraise\u001b[0m \u001b[0mEnvironmentError\u001b[0m\u001b[0;34m(\u001b[0m\u001b[0mexc\u001b[0m\u001b[0;34m.\u001b[0m\u001b[0mstderr\u001b[0m\u001b[0;34m)\u001b[0m\u001b[0;34m\u001b[0m\u001b[0;34m\u001b[0m\u001b[0m\n\u001b[1;32m    938\u001b[0m             \u001b[0;32melse\u001b[0m\u001b[0;34m:\u001b[0m\u001b[0;34m\u001b[0m\u001b[0;34m\u001b[0m\u001b[0m\n\u001b[0;32m--> 939\u001b[0;31m                 \u001b[0;32mraise\u001b[0m \u001b[0mEnvironmentError\u001b[0m\u001b[0;34m(\u001b[0m\u001b[0mexc\u001b[0m\u001b[0;34m.\u001b[0m\u001b[0mstdout\u001b[0m\u001b[0;34m)\u001b[0m\u001b[0;34m\u001b[0m\u001b[0;34m\u001b[0m\u001b[0m\n\u001b[0m\u001b[1;32m    940\u001b[0m \u001b[0;34m\u001b[0m\u001b[0m\n\u001b[1;32m    941\u001b[0m     def git_push(\n",
            "\u001b[0;31mOSError\u001b[0m: On branch main\nYour branch is up to date with 'origin/main'.\n\nnothing to commit, working tree clean\n"
          ]
        }
      ]
    },
    {
      "cell_type": "markdown",
      "metadata": {
        "id": "SwQM8lH_GGuP"
      },
      "source": [
        "Great, you can see the just created repository under `https://huggingface.co/<your-username>/wav2vec2-large-xls-r-300m-tr-colab`"
      ]
    },
    {
      "cell_type": "markdown",
      "metadata": {
        "id": "mYcIiR2FQ96i"
      },
      "source": [
        "### Create `Wav2Vec2FeatureExtractor`"
      ]
    },
    {
      "cell_type": "markdown",
      "metadata": {
        "id": "Y6mDEyW719rx"
      },
      "source": [
        "Speech is a continuous signal and to be treated by computers, it first has to be discretized, which is usually called **sampling**. The sampling rate hereby plays an important role in that it defines how many data points of the speech signal are measured per second. Therefore, sampling with a higher sampling rate results in a better approximation of the *real* speech signal but also necessitates more values per second.\n",
        "\n",
        "A pretrained checkpoint expects its input data to have been sampled more or less from the same distribution as the data it was trained on. The same speech signals sampled at two different rates have a very different distribution, *e.g.*, doubling the sampling rate results in data points being twice as long. Thus, \n",
        "before fine-tuning a pretrained checkpoint of an ASR model, it is crucial to verify that the sampling rate of the data that was used to pretrain the model matches the sampling rate of the dataset used to fine-tune the model.\n",
        "\n",
        "XLS-R was pretrained on audio data of [Babel](http://www.reading.ac.uk/AcaDepts/ll/speechlab/babel/r), \n",
        "[Multilingual LibriSpeech (MLS)](https://huggingface.co/datasets/multilingual_librispeech), [Common Voice](https://huggingface.co/datasets/common_voice), [VoxPopuli](https://arxiv.org/abs/2101.00390), and [VoxLingua107](https://arxiv.org/abs/2011.12998) at a sampling rate of 16kHz. Common Voice, in its original form, has a sampling rate of 48kHz, thus we will have to downsample the fine-tuning data to 16kHz in the following.\n",
        "\n"
      ]
    },
    {
      "cell_type": "markdown",
      "metadata": {
        "id": "KuUbPW7oV-B5"
      },
      "source": [
        "A `Wav2Vec2FeatureExtractor` object requires the following parameters to be instantiated:\n",
        "\n",
        "- `feature_size`: Speech models take a sequence of feature vectors as an input. While the length of this sequence obviously varies, the feature size should not. In the case of Wav2Vec2, the feature size is 1 because the model was trained on the raw speech signal ${}^2$.\n",
        "- `sampling_rate`: The sampling rate at which the model is trained on.\n",
        "- `padding_value`: For batched inference, shorter inputs need to be padded with a specific value\n",
        "- `do_normalize`: Whether the input should be *zero-mean-unit-variance* normalized or not. Usually, speech models perform better when normalizing the input\n",
        "- `return_attention_mask`: Whether the model should make use of an `attention_mask` for batched inference. In general, XLS-R models checkpoints should **always** use the `attention_mask`."
      ]
    },
    {
      "cell_type": "code",
      "metadata": {
        "id": "kAR0-2KLkopp"
      },
      "source": [
        "from transformers import Wav2Vec2FeatureExtractor\n",
        "\n",
        "feature_extractor = Wav2Vec2FeatureExtractor(feature_size=1, sampling_rate=16000, padding_value=0.0, do_normalize=True, return_attention_mask=True)"
      ],
      "execution_count": 28,
      "outputs": []
    },
    {
      "cell_type": "markdown",
      "metadata": {
        "id": "qUETetgqYC3W"
      },
      "source": [
        "Great, XLS-R's feature extraction pipeline is thereby fully defined!\n",
        "\n",
        "For improved user-friendliness, the feature extractor and tokenizer are *wrapped* into a single `Wav2Vec2Processor` class so that one only needs a `model` and `processor` object."
      ]
    },
    {
      "cell_type": "code",
      "metadata": {
        "id": "KYZtoW-tlZgl"
      },
      "source": [
        "from transformers import Wav2Vec2Processor\n",
        "\n",
        "processor = Wav2Vec2Processor(feature_extractor=feature_extractor, tokenizer=tokenizer)"
      ],
      "execution_count": 29,
      "outputs": []
    },
    {
      "cell_type": "markdown",
      "metadata": {
        "id": "DrKnYuvDIoOO"
      },
      "source": [
        "Next, we can prepare the dataset."
      ]
    },
    {
      "cell_type": "markdown",
      "metadata": {
        "id": "YFmShnl7RE35"
      },
      "source": [
        "### Preprocess Data\n",
        "\n",
        "So far, we have not looked at the actual values of the speech signal but just the transcription. In addition to `sentence`, our datasets include two more column names `path` and `audio`. `path` states the absolute path of the audio file. Let's take a look.\n"
      ]
    },
    {
      "cell_type": "code",
      "metadata": {
        "colab": {
          "base_uri": "https://localhost:8080/",
          "height": 53
        },
        "id": "TTCS7W6XJ9BG",
        "outputId": "de8e78f8-0b76-4226-ed81-71365c86fc12"
      },
      "source": [
        "common_voice_train[0][\"path\"]"
      ],
      "execution_count": 30,
      "outputs": [
        {
          "output_type": "execute_result",
          "data": {
            "application/vnd.google.colaboratory.intrinsic+json": {
              "type": "string"
            },
            "text/plain": [
              "'/root/.cache/huggingface/datasets/downloads/extracted/05be0c29807a73c9b099873d2f5975dae6d05e9f7d577458a2466ecb9a2b0c6b/cv-corpus-6.1-2020-12-11/tr/clips/common_voice_tr_21921195.mp3'"
            ]
          },
          "metadata": {},
          "execution_count": 30
        }
      ]
    },
    {
      "cell_type": "markdown",
      "metadata": {
        "id": "T6ndIjHGFp0W"
      },
      "source": [
        "XLS-R expects the input in the format of a 1-dimensional array of 16 kHz. This means that the audio file has to be loaded and resampled.\n",
        "\n",
        " Thankfully, `datasets` does this automatically by calling the other column `audio`. Let try it out. "
      ]
    },
    {
      "cell_type": "code",
      "metadata": {
        "colab": {
          "base_uri": "https://localhost:8080/"
        },
        "id": "qj_z5Zc3GAs9",
        "outputId": "2064d4d5-c787-4632-90d6-33503d47ecfe"
      },
      "source": [
        "common_voice_train[0][\"audio\"]"
      ],
      "execution_count": 31,
      "outputs": [
        {
          "output_type": "execute_result",
          "data": {
            "text/plain": [
              "{'array': array([ 0.0000000e+00,  0.0000000e+00,  0.0000000e+00, ...,\n",
              "        -8.8930130e-05, -3.8027763e-05, -2.9146671e-05], dtype=float32),\n",
              " 'path': '/root/.cache/huggingface/datasets/downloads/extracted/05be0c29807a73c9b099873d2f5975dae6d05e9f7d577458a2466ecb9a2b0c6b/cv-corpus-6.1-2020-12-11/tr/clips/common_voice_tr_21921195.mp3',\n",
              " 'sampling_rate': 48000}"
            ]
          },
          "metadata": {},
          "execution_count": 31
        }
      ]
    },
    {
      "cell_type": "markdown",
      "metadata": {
        "id": "WUUTgI1bGHW-"
      },
      "source": [
        "Great, we can see that the audio file has automatically been loaded. This is thanks to the new [`\"Audio\"` feature](https://huggingface.co/docs/datasets/package_reference/main_classes.html?highlight=audio#datasets.Audio) introduced in `datasets == 4.13.3`, which loads and resamples audio files on-the-fly upon calling.\n",
        "\n",
        "In the example above we can see that the audio data is loaded with a sampling rate of 48kHz whereas 16kHz are expected by the model. We can set the audio feature to the correct sampling rate by making use of [`cast_column`](https://huggingface.co/docs/datasets/package_reference/main_classes.html?highlight=cast_column#datasets.DatasetDict.cast_column):"
      ]
    },
    {
      "cell_type": "code",
      "metadata": {
        "id": "rrv65aj7G95i"
      },
      "source": [
        "common_voice_train = common_voice_train.cast_column(\"audio\", Audio(sampling_rate=16_000))\n",
        "common_voice_test = common_voice_test.cast_column(\"audio\", Audio(sampling_rate=16_000))"
      ],
      "execution_count": 32,
      "outputs": []
    },
    {
      "cell_type": "markdown",
      "metadata": {
        "id": "PcnO4x-NGBEi"
      },
      "source": [
        "Let's take a look at `\"audio\"` again."
      ]
    },
    {
      "cell_type": "code",
      "metadata": {
        "colab": {
          "base_uri": "https://localhost:8080/"
        },
        "id": "aKtkc1o_HWHC",
        "outputId": "058835d3-b059-41a5-e9e1-cdddd41f0b23"
      },
      "source": [
        "common_voice_train[0][\"audio\"]"
      ],
      "execution_count": 33,
      "outputs": [
        {
          "output_type": "execute_result",
          "data": {
            "text/plain": [
              "{'array': array([ 0.0000000e+00,  0.0000000e+00,  0.0000000e+00, ...,\n",
              "        -7.4556941e-05, -1.4621433e-05, -5.7861507e-05], dtype=float32),\n",
              " 'path': '/root/.cache/huggingface/datasets/downloads/extracted/05be0c29807a73c9b099873d2f5975dae6d05e9f7d577458a2466ecb9a2b0c6b/cv-corpus-6.1-2020-12-11/tr/clips/common_voice_tr_21921195.mp3',\n",
              " 'sampling_rate': 16000}"
            ]
          },
          "metadata": {},
          "execution_count": 33
        }
      ]
    },
    {
      "cell_type": "markdown",
      "metadata": {
        "id": "SOckzFd4Mbzq"
      },
      "source": [
        "This seemed to have worked! Let's listen to a couple of audio files to better understand the dataset and verify that the audio was correctly loaded. \n",
        "\n",
        "**Note**: *You can click the following cell a couple of times to listen to different speech samples.*"
      ]
    },
    {
      "cell_type": "code",
      "metadata": {
        "colab": {
          "base_uri": "https://localhost:8080/",
          "height": 93
        },
        "id": "dueM6U7Ev0OA",
        "outputId": "7c803bdf-20ed-4b7d-fec5-fc9dfabb6029"
      },
      "source": [
        "import IPython.display as ipd\n",
        "import numpy as np\n",
        "import random\n",
        "\n",
        "rand_int = random.randint(0, len(common_voice_train)-1)\n",
        "\n",
        "print(common_voice_train[rand_int][\"sentence\"])\n",
        "ipd.Audio(data=common_voice_train[rand_int][\"audio\"][\"array\"], autoplay=True, rate=16000)"
      ],
      "execution_count": 34,
      "outputs": [
        {
          "output_type": "stream",
          "name": "stdout",
          "text": [
            "şirket haftada dört sefer yapacak\n"
          ]
        },
        {
          "output_type": "execute_result",
          "data": {
            "text/html": [
              "\n",
              "                <audio controls=\"controls\" autoplay=\"autoplay\">\n",
              "                    <source src=\"data:audio/wav;base64,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\" type=\"audio/wav\" />\n",
              "                    Your browser does not support the audio element.\n",
              "                </audio>\n",
              "              "
            ],
            "text/plain": [
              "<IPython.lib.display.Audio object>"
            ]
          },
          "metadata": {},
          "execution_count": 34
        }
      ]
    },
    {
      "cell_type": "markdown",
      "metadata": {
        "id": "gY8m3vARHYTa"
      },
      "source": [
        "It seems like the data is now correctly loaded and resampled. "
      ]
    },
    {
      "cell_type": "markdown",
      "metadata": {
        "id": "1MaL9J2dNVtG"
      },
      "source": [
        "It can be heard, that the speakers change along with their speaking rate, accent, and background environment, etc. Overall, the recordings sound acceptably clear though, which is to be expected from a crowd-sourced read speech corpus.\n",
        "\n",
        "Let's do a final check that the data is correctly prepared, by printing the shape of the speech input, its transcription, and the corresponding sampling rate.\n",
        "\n",
        "**Note**: *You can click the following cell a couple of times to verify multiple samples.*"
      ]
    },
    {
      "cell_type": "code",
      "metadata": {
        "colab": {
          "base_uri": "https://localhost:8080/"
        },
        "id": "1Po2g7YPuRTx",
        "outputId": "1c913d77-1a17-4d95-e166-473f9f22fe6c"
      },
      "source": [
        "rand_int = random.randint(0, len(common_voice_train)-1)\n",
        "\n",
        "print(\"Target text:\", common_voice_train[rand_int][\"sentence\"])\n",
        "print(\"Input array shape:\", common_voice_train[rand_int][\"audio\"][\"array\"].shape)\n",
        "print(\"Sampling rate:\", common_voice_train[rand_int][\"audio\"][\"sampling_rate\"])"
      ],
      "execution_count": 35,
      "outputs": [
        {
          "output_type": "stream",
          "name": "stdout",
          "text": [
            "Target text: sizce bu görüşmeler bir sonuca bağlanacak mı\n",
            "Input array shape: (67584,)\n",
            "Sampling rate: 16000\n"
          ]
        }
      ]
    },
    {
      "cell_type": "markdown",
      "metadata": {
        "id": "M9teZcSwOBJ4"
      },
      "source": [
        "Good! Everything looks fine - the data is a 1-dimensional array, the sampling rate always corresponds to 16kHz, and the target text is normalized."
      ]
    },
    {
      "cell_type": "markdown",
      "metadata": {
        "id": "k3Pbn5WvOYZF"
      },
      "source": [
        "Finally, we can leverage `Wav2Vec2Processor` to process the data to the format expected by `Wav2Vec2ForCTC` for training. To do so let's make use of Dataset's [`map(...)`](https://huggingface.co/docs/datasets/package_reference/main_classes.html?highlight=map#datasets.DatasetDict.map) function.\n",
        "\n",
        "First, we load and resample the audio data, simply by calling `batch[\"audio\"]`.\n",
        "Second, we extract the `input_values` from the loaded audio file. In our case, the `Wav2Vec2Processor` only normalizes the data. For other speech models, however, this step can include more complex feature extraction, such as [Log-Mel feature extraction](https://en.wikipedia.org/wiki/Mel-frequency_cepstrum). \n",
        "Third, we encode the transcriptions to label ids.\n",
        "\n",
        "**Note**: This mapping function is a good example of how the `Wav2Vec2Processor` class should be used. In \"normal\" context, calling `processor(...)` is redirected to `Wav2Vec2FeatureExtractor`'s call method. When wrapping the processor into the `as_target_processor` context, however, the same method is redirected to `Wav2Vec2CTCTokenizer`'s call method.\n",
        "For more information please check the [docs](https://huggingface.co/transformers/master/model_doc/wav2vec2.html#transformers.Wav2Vec2Processor.__call__)."
      ]
    },
    {
      "cell_type": "code",
      "metadata": {
        "id": "eJY7I0XAwe9p"
      },
      "source": [
        "def prepare_dataset(batch):\n",
        "    audio = batch[\"audio\"]\n",
        "\n",
        "    # batched output is \"un-batched\"\n",
        "    batch[\"input_values\"] = processor(audio[\"array\"], sampling_rate=audio[\"sampling_rate\"]).input_values[0]\n",
        "    batch[\"input_length\"] = len(batch[\"input_values\"])\n",
        "    \n",
        "    with processor.as_target_processor():\n",
        "        batch[\"labels\"] = processor(batch[\"sentence\"]).input_ids\n",
        "    return batch"
      ],
      "execution_count": 36,
      "outputs": []
    },
    {
      "cell_type": "markdown",
      "metadata": {
        "id": "q6Pg_WR3OGAP"
      },
      "source": [
        "Let's apply the data preparation function to all examples."
      ]
    },
    {
      "cell_type": "code",
      "metadata": {
        "colab": {
          "base_uri": "https://localhost:8080/",
          "height": 81,
          "referenced_widgets": [
            "b3c28e644f7642598e809d76bfd82de5",
            "e0bcf7be4efc41e590d1b93b997324e4",
            "a56a6d542d0d4cc0926b27735ceb65fd",
            "9ca0711f06154b78aabf72e759808eb2",
            "d6d9b0c3896d4f50b9a56057a5c9dd3e",
            "6e2f0a929bac40b7a8181c2ec50b5a12",
            "7067959dad384d24be0fc32a00174ff3",
            "74825f297b784b4e86733afc05eae40b",
            "83958bd8b68a43c694416ee3e9c1fb22",
            "8c74fbfb9ef64360a1cfa5670b5dafaa",
            "a872e4b0bcc34025b393b208600e47bd",
            "20ed994e18e440debda2836becd66b6e",
            "0da7c44bc2c242788b2656bdd34164bc",
            "507ac925a9734161ab04bbe0b0a6b525",
            "2219072df6e043228bf30033a402a4c5",
            "fc709fe5649b43c1a84df7094136e98b",
            "7f88182294814d0ea9407e812063b9f6",
            "490c3bd81556447b986efee5d1849d04",
            "ecd6a29f3b674a70b7808a4fc21325a4",
            "2baafebca2244290800b1bd915a383f0",
            "301d50b8d7ac437b9a5836d881952125",
            "aa3443b4103f4d54b17e9c70e6e20f81"
          ]
        },
        "id": "-np9xYK-wl8q",
        "outputId": "4921cdc0-81da-4955-bfd6-bd36e8368654"
      },
      "source": [
        "common_voice_train = common_voice_train.map(prepare_dataset, remove_columns=common_voice_train.column_names)\n",
        "common_voice_test = common_voice_test.map(prepare_dataset, remove_columns=common_voice_test.column_names)"
      ],
      "execution_count": 37,
      "outputs": [
        {
          "output_type": "display_data",
          "data": {
            "application/vnd.jupyter.widget-view+json": {
              "model_id": "b3c28e644f7642598e809d76bfd82de5",
              "version_minor": 0,
              "version_major": 2
            },
            "text/plain": [
              "  0%|          | 0/3478 [00:00<?, ?ex/s]"
            ]
          },
          "metadata": {}
        },
        {
          "output_type": "display_data",
          "data": {
            "application/vnd.jupyter.widget-view+json": {
              "model_id": "20ed994e18e440debda2836becd66b6e",
              "version_minor": 0,
              "version_major": 2
            },
            "text/plain": [
              "  0%|          | 0/1647 [00:00<?, ?ex/s]"
            ]
          },
          "metadata": {}
        }
      ]
    },
    {
      "cell_type": "markdown",
      "metadata": {
        "id": "nKcEWHvKI1by"
      },
      "source": [
        "**Note**: Currently `datasets` make use of [`torchaudio`](https://pytorch.org/audio/stable/index.html) and [`librosa`](https://librosa.org/doc/latest/index.html) for audio loading and resampling. If you wish to implement your own costumized data loading/sampling, feel free to just make use of the `\"path\"` column instead and disregard the `\"audio\"` column."
      ]
    },
    {
      "cell_type": "markdown",
      "metadata": {
        "id": "24CxHd5ewI4T"
      },
      "source": [
        "Long input sequences require a lot of memory. XLS-R is based on `self-attention` the memory requirement scales quadratically with the input length for long input sequences (*cf.* with [this](https://www.reddit.com/r/MachineLearning/comments/genjvb/d_why_is_the_maximum_input_sequence_length_of/) reddit post). In case this demo crashes with an \"Out-of-memory\" error for you, you might want to uncomment the following lines to filter all sequences that are longer than 5 seconds for training."
      ]
    },
    {
      "cell_type": "code",
      "metadata": {
        "id": "tdHfbUJ_09iA",
        "colab": {
          "base_uri": "https://localhost:8080/",
          "height": 49,
          "referenced_widgets": [
            "e687a3ae505f49a88fb56dbd369379ef",
            "92c8aacde8be4d509b6c657db41bfbd5",
            "6bf57f0f7008477181db6cb8433da3e9",
            "c632b8244a3a4cf7a8def3817ae52a8a",
            "e5927507e05c4223939f891ca2f87788",
            "640a39b0eec64a7e9e28c3073d050a8c",
            "374d81d022754225afc5725e555ce460",
            "b3dfa24045c644e88ec26b437e75ea7b",
            "9f8d87c4f6244632979b4a7f7c65c367",
            "bb87f7aaa55e4512954b4b31d75b36c9",
            "661b47d24e794ec892a84fb2474009a1"
          ]
        },
        "outputId": "e9a6d5f1-3ecb-4531-cd9c-04523b8d2f93"
      },
      "source": [
        "max_input_length_in_sec = 5.0\n",
        "common_voice_train = common_voice_train.filter(lambda x: x < max_input_length_in_sec * processor.feature_extractor.sampling_rate, input_columns=[\"input_length\"])"
      ],
      "execution_count": 38,
      "outputs": [
        {
          "output_type": "display_data",
          "data": {
            "application/vnd.jupyter.widget-view+json": {
              "model_id": "e687a3ae505f49a88fb56dbd369379ef",
              "version_minor": 0,
              "version_major": 2
            },
            "text/plain": [
              "  0%|          | 0/4 [00:00<?, ?ba/s]"
            ]
          },
          "metadata": {}
        }
      ]
    },
    {
      "cell_type": "markdown",
      "metadata": {
        "id": "1ZWDCCKqwcfS"
      },
      "source": [
        "Awesome, now we are ready to start training!"
      ]
    },
    {
      "cell_type": "markdown",
      "metadata": {
        "id": "gYlQkKVoRUos"
      },
      "source": [
        "## Training\n",
        "\n",
        "The data is processed so that we are ready to start setting up the training pipeline. We will make use of 🤗's [Trainer](https://huggingface.co/transformers/master/main_classes/trainer.html?highlight=trainer) for which we essentially need to do the following:\n",
        "\n",
        "- Define a data collator. In contrast to most NLP models, XLS-R has a much larger input length than output length. *E.g.*, a sample of input length 50000 has an output length of no more than 100. Given the large input sizes, it is much more efficient to pad the training batches dynamically meaning that all training samples should only be padded to the longest sample in their batch and not the overall longest sample. Therefore, fine-tuning XLS-R requires a special padding data collator, which we will define below\n",
        "\n",
        "- Evaluation metric. During training, the model should be evaluated on the word error rate. We should define a `compute_metrics` function accordingly\n",
        "\n",
        "- Load a pretrained checkpoint. We need to load a pretrained checkpoint and configure it correctly for training.\n",
        "\n",
        "- Define the training configuration.\n",
        "\n",
        "After having fine-tuned the model, we will correctly evaluate it on the test data and verify that it has indeed learned to correctly transcribe speech."
      ]
    },
    {
      "cell_type": "markdown",
      "metadata": {
        "id": "Slk403unUS91"
      },
      "source": [
        "### Set-up Trainer\n",
        "\n",
        "Let's start by defining the data collator. The code for the data collator was copied from [this example](https://github.com/huggingface/transformers/blob/7e61d56a45c19284cfda0cee8995fb552f6b1f4e/examples/pytorch/speech-recognition/run_speech_recognition_ctc.py#L219).\n",
        "\n",
        "Without going into too many details, in contrast to the common data collators, this data collator treats the `input_values` and `labels` differently and thus applies to separate padding functions on them (again making use of XLS-R processor's context manager). This is necessary because in speech input and output are of different modalities meaning that they should not be treated by the same padding function.\n",
        "Analogous to the common data collators, the padding tokens in the labels with `-100` so that those tokens are **not** taken into account when computing the loss."
      ]
    },
    {
      "cell_type": "code",
      "metadata": {
        "id": "tborvC9hx88e"
      },
      "source": [
        "import torch\n",
        "\n",
        "from dataclasses import dataclass, field\n",
        "from typing import Any, Dict, List, Optional, Union\n",
        "\n",
        "@dataclass\n",
        "class DataCollatorCTCWithPadding:\n",
        "    \"\"\"\n",
        "    Data collator that will dynamically pad the inputs received.\n",
        "    Args:\n",
        "        processor (:class:`~transformers.Wav2Vec2Processor`)\n",
        "            The processor used for proccessing the data.\n",
        "        padding (:obj:`bool`, :obj:`str` or :class:`~transformers.tokenization_utils_base.PaddingStrategy`, `optional`, defaults to :obj:`True`):\n",
        "            Select a strategy to pad the returned sequences (according to the model's padding side and padding index)\n",
        "            among:\n",
        "            * :obj:`True` or :obj:`'longest'`: Pad to the longest sequence in the batch (or no padding if only a single\n",
        "              sequence if provided).\n",
        "            * :obj:`'max_length'`: Pad to a maximum length specified with the argument :obj:`max_length` or to the\n",
        "              maximum acceptable input length for the model if that argument is not provided.\n",
        "            * :obj:`False` or :obj:`'do_not_pad'` (default): No padding (i.e., can output a batch with sequences of\n",
        "              different lengths).\n",
        "    \"\"\"\n",
        "\n",
        "    processor: Wav2Vec2Processor\n",
        "    padding: Union[bool, str] = True\n",
        "\n",
        "    def __call__(self, features: List[Dict[str, Union[List[int], torch.Tensor]]]) -> Dict[str, torch.Tensor]:\n",
        "        # split inputs and labels since they have to be of different lenghts and need\n",
        "        # different padding methods\n",
        "        input_features = [{\"input_values\": feature[\"input_values\"]} for feature in features]\n",
        "        label_features = [{\"input_ids\": feature[\"labels\"]} for feature in features]\n",
        "\n",
        "        batch = self.processor.pad(\n",
        "            input_features,\n",
        "            padding=self.padding,\n",
        "            return_tensors=\"pt\",\n",
        "        )\n",
        "        with self.processor.as_target_processor():\n",
        "            labels_batch = self.processor.pad(\n",
        "                label_features,\n",
        "                padding=self.padding,\n",
        "                return_tensors=\"pt\",\n",
        "            )\n",
        "\n",
        "        # replace padding with -100 to ignore loss correctly\n",
        "        labels = labels_batch[\"input_ids\"].masked_fill(labels_batch.attention_mask.ne(1), -100)\n",
        "\n",
        "        batch[\"labels\"] = labels\n",
        "\n",
        "        return batch"
      ],
      "execution_count": 39,
      "outputs": []
    },
    {
      "cell_type": "code",
      "metadata": {
        "id": "lbQf5GuZyQ4_"
      },
      "source": [
        "data_collator = DataCollatorCTCWithPadding(processor=processor, padding=True)"
      ],
      "execution_count": 40,
      "outputs": []
    },
    {
      "cell_type": "markdown",
      "metadata": {
        "id": "xO-Zdj-5cxXp"
      },
      "source": [
        "Next, the evaluation metric is defined. As mentioned earlier, the \n",
        "predominant metric in ASR is the word error rate (WER), hence we will use it in this notebook as well."
      ]
    },
    {
      "cell_type": "code",
      "metadata": {
        "colab": {
          "base_uri": "https://localhost:8080/",
          "height": 49,
          "referenced_widgets": [
            "0bc5ac9f8b264a6f8b56d53f33c3aab5",
            "d8b7507f1fac43e6877329d742c8e125",
            "595a283d5e9a4747bb715bf96b20ba88",
            "3c772bfda327413593f2d71fa03f5066",
            "6bfa4126fa924568a2f067dbfc76ecee",
            "993a38aef74649b1995e0bdc898a2469",
            "453b26f998f94e71ad4e4d3397887840",
            "224ba68b09dc4b4eafd28c2a4cacc9d3",
            "44cda0c463e542eaa538612458c7e1bc",
            "e0293772c2754cda8347ec8a20c08026",
            "414766b9b12540b190c69fd1c9d896ec"
          ]
        },
        "id": "9Xsux2gmyXso",
        "outputId": "8d4e02f9-aa98-4da3-a649-50732d572de8"
      },
      "source": [
        "wer_metric = load_metric(\"wer\")"
      ],
      "execution_count": 41,
      "outputs": [
        {
          "output_type": "display_data",
          "data": {
            "application/vnd.jupyter.widget-view+json": {
              "model_id": "0bc5ac9f8b264a6f8b56d53f33c3aab5",
              "version_minor": 0,
              "version_major": 2
            },
            "text/plain": [
              "Downloading:   0%|          | 0.00/1.95k [00:00<?, ?B/s]"
            ]
          },
          "metadata": {}
        }
      ]
    },
    {
      "cell_type": "markdown",
      "metadata": {
        "id": "E1qZU5p-deqB"
      },
      "source": [
        "The model will return a sequence of logit vectors:\n",
        "$\\mathbf{y}_1, \\ldots, \\mathbf{y}_m$ with $\\mathbf{y}_1 = f_{\\theta}(x_1, \\ldots, x_n)[0]$ and $n >> m$.\n",
        "\n",
        "A logit vector $\\mathbf{y}_1$ contains the log-odds for each word in the vocabulary we defined earlier, thus $\\text{len}(\\mathbf{y}_i) =$ `config.vocab_size`. We are interested in the most likely prediction of the model and thus take the `argmax(...)` of the logits. Also, we transform the encoded labels back to the original string by replacing `-100` with the `pad_token_id` and decoding the ids while making sure that consecutive tokens are **not** grouped to the same token in CTC style ${}^1$."
      ]
    },
    {
      "cell_type": "code",
      "metadata": {
        "id": "1XZ-kjweyTy_"
      },
      "source": [
        "def compute_metrics(pred):\n",
        "    pred_logits = pred.predictions\n",
        "    pred_ids = np.argmax(pred_logits, axis=-1)\n",
        "\n",
        "    pred.label_ids[pred.label_ids == -100] = processor.tokenizer.pad_token_id\n",
        "\n",
        "    pred_str = processor.batch_decode(pred_ids)\n",
        "    # we do not want to group tokens when computing the metrics\n",
        "    label_str = processor.batch_decode(pred.label_ids, group_tokens=False)\n",
        "\n",
        "    wer = wer_metric.compute(predictions=pred_str, references=label_str)\n",
        "\n",
        "    return {\"wer\": wer}"
      ],
      "execution_count": 42,
      "outputs": []
    },
    {
      "cell_type": "markdown",
      "metadata": {
        "id": "Xmgrx4bRwLIH"
      },
      "source": [
        "Now, we can load the pretrained checkpoint of [Wav2Vec2-XLS-R-300M](https://huggingface.co/facebook/wav2vec2-xls-r-300m). The tokenizer's `pad_token_id` must be to define the model's `pad_token_id` or in the case of `Wav2Vec2ForCTC` also CTC's *blank token* ${}^2$. To save GPU memory, we enable PyTorch's [gradient checkpointing](https://pytorch.org/docs/stable/checkpoint.html) and also set the loss reduction to \"*mean*\".\n",
        "\n",
        "Because the dataset is quite small (~6h of training data) and because Common Voice is quite noisy, fine-tuning Facebook's [wav2vec2-xls-r-300m checkpoint](https://huggingface.co/facebook/wav2vec2-xls-r-300m) seems to require some hyper-parameter tuning. Therefore, I had to play around a bit with different values for dropout, [SpecAugment](https://arxiv.org/abs/1904.08779)'s masking dropout rate, layer dropout, and the learning rate until training seemed to be stable enough. \n",
        "\n",
        "**Note**: When using this notebook to train XLS-R on another language of Common Voice those hyper-parameter settings might not work very well. Feel free to adapt those depending on your use case. "
      ]
    },
    {
      "cell_type": "code",
      "metadata": {
        "colab": {
          "base_uri": "https://localhost:8080/",
          "height": 188,
          "referenced_widgets": [
            "04a8a44c8adf48219507912479f75cd4",
            "ef79fcfe1ec34ae09ee0c7e01ac87467",
            "ddf43314a9444ce3b72260cf9349d4fe",
            "da5ebfcb67f34c1da638fb5d6bc28a1f",
            "a4e09b2e17bd489b85d68cb5d57ccc92",
            "c4f51e12760b4cffba6edaea8721f5a7",
            "f7c5f89719154fd7927fdb36c6c3066a",
            "843ee0af71664c8384d6adce0ab37aa8",
            "791190984eac401aacf09b17f242c74f",
            "fe5a4ab03afa4085844dc64d32658e09",
            "2a2a34198d3c47b0bbadd74f87d9e4cf",
            "2f88f1a8407f49db81f39d20f6a69192",
            "6b260cc9de3f43628780db254103272a",
            "6db2cfcc3d3043c0af2734c26e2ee991",
            "63512bcab6ba4f1da8c176e7bea1a0f0",
            "bada8d003a434e8bba742f7919256242",
            "0f65963827924a2c89fb6d6a3f03f1f2",
            "f4357811ab264c5886ac596173fd8323",
            "615ce435ab7443bf9c5b340f63185db4",
            "a1e7646e12164973836743425c0ed820",
            "1009cc97b58b4ed493693d0676a5bf7b",
            "f4c6091084e645db87c23449ea63ece7"
          ]
        },
        "id": "e7cqAWIayn6w",
        "outputId": "e7d1f290-d5ba-45a5-a512-f33365c30afd"
      },
      "source": [
        "from transformers import Wav2Vec2ForCTC\n",
        "\n",
        "model = Wav2Vec2ForCTC.from_pretrained(\n",
        "    \"facebook/wav2vec2-xls-r-300m\", \n",
        "    attention_dropout=0.0,\n",
        "    hidden_dropout=0.0,\n",
        "    feat_proj_dropout=0.0,\n",
        "    mask_time_prob=0.05,\n",
        "    layerdrop=0.0,\n",
        "    ctc_loss_reduction=\"mean\", \n",
        "    pad_token_id=processor.tokenizer.pad_token_id,\n",
        "    vocab_size=len(processor.tokenizer),\n",
        ")"
      ],
      "execution_count": 43,
      "outputs": [
        {
          "output_type": "display_data",
          "data": {
            "application/vnd.jupyter.widget-view+json": {
              "model_id": "04a8a44c8adf48219507912479f75cd4",
              "version_minor": 0,
              "version_major": 2
            },
            "text/plain": [
              "Downloading:   0%|          | 0.00/1.53k [00:00<?, ?B/s]"
            ]
          },
          "metadata": {}
        },
        {
          "output_type": "display_data",
          "data": {
            "application/vnd.jupyter.widget-view+json": {
              "model_id": "2f88f1a8407f49db81f39d20f6a69192",
              "version_minor": 0,
              "version_major": 2
            },
            "text/plain": [
              "Downloading:   0%|          | 0.00/1.18G [00:00<?, ?B/s]"
            ]
          },
          "metadata": {}
        },
        {
          "output_type": "stream",
          "name": "stderr",
          "text": [
            "Some weights of the model checkpoint at facebook/wav2vec2-xls-r-300m were not used when initializing Wav2Vec2ForCTC: ['project_hid.weight', 'quantizer.weight_proj.weight', 'project_hid.bias', 'project_q.bias', 'quantizer.codevectors', 'project_q.weight', 'quantizer.weight_proj.bias']\n",
            "- This IS expected if you are initializing Wav2Vec2ForCTC from the checkpoint of a model trained on another task or with another architecture (e.g. initializing a BertForSequenceClassification model from a BertForPreTraining model).\n",
            "- This IS NOT expected if you are initializing Wav2Vec2ForCTC from the checkpoint of a model that you expect to be exactly identical (initializing a BertForSequenceClassification model from a BertForSequenceClassification model).\n",
            "Some weights of Wav2Vec2ForCTC were not initialized from the model checkpoint at facebook/wav2vec2-xls-r-300m and are newly initialized: ['lm_head.bias', 'lm_head.weight']\n",
            "You should probably TRAIN this model on a down-stream task to be able to use it for predictions and inference.\n"
          ]
        }
      ]
    },
    {
      "cell_type": "markdown",
      "metadata": {
        "id": "1DwR3XLSzGDD"
      },
      "source": [
        "The first component of XLS-R consists of a stack of CNN layers that are used to extract acoustically meaningful - but contextually independent - features from the raw speech signal. This part of the model has already been sufficiently trained during pretraining and as stated in the [paper](https://arxiv.org/pdf/2006.13979.pdf) does not need to be fine-tuned anymore. \n",
        "Thus, we can set the `requires_grad` to `False` for all parameters of the *feature extraction* part."
      ]
    },
    {
      "cell_type": "code",
      "metadata": {
        "id": "oGI8zObtZ3V0"
      },
      "source": [
        "model.freeze_feature_extractor()"
      ],
      "execution_count": 44,
      "outputs": []
    },
    {
      "cell_type": "markdown",
      "metadata": {
        "id": "lD4aGhQM0K-D"
      },
      "source": [
        "In a final step, we define all parameters related to training. \n",
        "To give more explanation on some of the parameters:\n",
        "- `group_by_length` makes training more efficient by grouping training samples of similar input length into one batch. This can significantly speed up training time by heavily reducing the overall number of useless padding tokens that are passed through the model\n",
        "- `learning_rate` and `weight_decay` were heuristically tuned until fine-tuning has become stable. Note that those parameters strongly depend on the Common Voice dataset and might be suboptimal for other speech datasets.\n",
        "\n",
        "For more explanations on other parameters, one can take a look at the [docs](https://huggingface.co/transformers/master/main_classes/trainer.html?highlight=trainer#trainingarguments).\n",
        "\n",
        "During training, a checkpoint will be uploaded asynchronously to the hub every 400 training steps. It allows you to also play around with the demo widget even while your model is still training.\n",
        "\n",
        "**Note**: If one does not want to upload the model checkpoints to the hub, simply set `push_to_hub=False`."
      ]
    },
    {
      "cell_type": "code",
      "metadata": {
        "id": "KbeKSV7uzGPP",
        "colab": {
          "base_uri": "https://localhost:8080/"
        },
        "outputId": "16bce4b0-227c-4006-dea2-d7d93d9d85a6"
      },
      "source": [
        "from transformers import TrainingArguments\n",
        "\n",
        "training_args = TrainingArguments(\n",
        "  output_dir=repo_name,\n",
        "  group_by_length=True,\n",
        "  per_device_train_batch_size=8,\n",
        "  gradient_accumulation_steps=3,\n",
        "  evaluation_strategy=\"steps\",\n",
        "  num_train_epochs=30,\n",
        "  gradient_checkpointing=True,\n",
        "  fp16=True,\n",
        "  save_steps=400,\n",
        "  eval_steps=400,\n",
        "  logging_steps=400,\n",
        "  learning_rate=3e-4,\n",
        "  warmup_steps=500,\n",
        "  save_total_limit=2,\n",
        "  push_to_hub=True,\n",
        ")"
      ],
      "execution_count": 47,
      "outputs": [
        {
          "output_type": "stream",
          "name": "stderr",
          "text": [
            "PyTorch: setting up devices\n",
            "The default value for the training argument `--report_to` will change in v5 (from all installed integrations to none). In v5, you will need to use `--report_to all` to get the same behavior as now. You should start updating your code and make this info disappear :-).\n"
          ]
        }
      ]
    },
    {
      "cell_type": "markdown",
      "metadata": {
        "id": "OsW-WZcL1ZtN"
      },
      "source": [
        "Now, all instances can be passed to Trainer and we are ready to start training!"
      ]
    },
    {
      "cell_type": "code",
      "metadata": {
        "colab": {
          "base_uri": "https://localhost:8080/"
        },
        "id": "rY7vBmFCPFgC",
        "outputId": "f8eea305-aa9d-44c4-cb62-d3b3b6104153"
      },
      "source": [
        "from transformers import Trainer\n",
        "\n",
        "trainer = Trainer(\n",
        "    model=model,\n",
        "    data_collator=data_collator,\n",
        "    args=training_args,\n",
        "    compute_metrics=compute_metrics,\n",
        "    train_dataset=common_voice_train,\n",
        "    eval_dataset=common_voice_test,\n",
        "    tokenizer=processor.feature_extractor,\n",
        ")"
      ],
      "execution_count": 48,
      "outputs": [
        {
          "output_type": "stream",
          "name": "stderr",
          "text": [
            "/usr/local/lib/python3.7/dist-packages/huggingface_hub/hf_api.py:718: FutureWarning: `create_repo` now takes `token` as an optional positional argument. Be sure to adapt your code!\n",
            "  FutureWarning,\n",
            "/content/wav2vec2-large-xls-r-300m-turkish-demo-colab is already a clone of https://huggingface.co/chmanoj/wav2vec2-large-xls-r-300m-turkish-demo-colab. Make sure you pull the latest changes with `repo.git_pull()`.\n",
            "Using amp fp16 backend\n"
          ]
        }
      ]
    },
    {
      "cell_type": "markdown",
      "metadata": {
        "id": "UoXBx1JAA0DX"
      },
      "source": [
        "\n",
        "\n",
        "---\n",
        "\n",
        "${}^1$ To allow models to become independent of the speaker rate, in CTC, consecutive tokens that are identical are simply grouped as a single token. However, the encoded labels should not be grouped when decoding since they don't correspond to the predicted tokens of the model, which is why the `group_tokens=False` parameter has to be passed. If we wouldn't pass this parameter a word like `\"hello\"` would incorrectly be encoded, and decoded as `\"helo\"`.\n",
        "\n",
        "${}^2$ The blank token allows the model to predict a word, such as `\"hello\"` by forcing it to insert the blank token between the two l's. A CTC-conform prediction of `\"hello\"` of our model would be `[PAD] [PAD] \"h\" \"e\" \"e\" \"l\" \"l\" [PAD] \"l\" \"o\" \"o\" [PAD]`."
      ]
    },
    {
      "cell_type": "markdown",
      "metadata": {
        "id": "rpvZHM1xReIW"
      },
      "source": [
        "### Training"
      ]
    },
    {
      "cell_type": "markdown",
      "metadata": {
        "id": "j-3oKSzZ1hGq"
      },
      "source": [
        "Training will take multiple hours depending on the GPU allocated to this notebook. While the trained model yields somewhat satisfying results on *Common Voice*'s test data of Turkish, it is by no means an optimally fine-tuned model. The purpose of this notebook is just to demonstrate how to fine-tune XLS-R on an ASR dataset.\n",
        "\n",
        "In case you want to use this google colab to fine-tune your model, you should make sure that your training doesn't stop due to inactivity. A simple hack to prevent this is to paste the following code into the console of this tab (*right mouse click -> inspect -> Console tab and insert code*)."
      ]
    },
    {
      "cell_type": "markdown",
      "metadata": {
        "id": "VYYAvgkW4P0m"
      },
      "source": [
        "```javascript\n",
        "function ConnectButton(){\n",
        "    console.log(\"Connect pushed\"); \n",
        "    document.querySelector(\"#top-toolbar > colab-connect-button\").shadowRoot.querySelector(\"#connect\").click() \n",
        "}\n",
        "setInterval(ConnectButton,60000);\n",
        "```"
      ]
    },
    {
      "cell_type": "markdown",
      "metadata": {
        "id": "7bGgLV2r0yvZ"
      },
      "source": [
        "Depending on what GPU was allocated to your google colab it might be possible that you are seeing an `\"out-of-memory\"` error here. In this case, it's probably best to reduce `per_device_train_batch_size` to 8 or even less and increase [`gradient_accumulation`](https://huggingface.co/transformers/master/main_classes/trainer.html#trainingarguments)."
      ]
    },
    {
      "cell_type": "code",
      "metadata": {
        "colab": {
          "base_uri": "https://localhost:8080/",
          "height": 714
        },
        "id": "9fRr9TG5pGBl",
        "outputId": "1e86f495-3e45-4bea-d685-e09c7c97eda2"
      },
      "source": [
        "trainer.train()"
      ],
      "execution_count": null,
      "outputs": [
        {
          "output_type": "stream",
          "name": "stderr",
          "text": [
            "***** Running training *****\n",
            "  Num examples = 3027\n",
            "  Num Epochs = 30\n",
            "  Instantaneous batch size per device = 8\n",
            "  Total train batch size (w. parallel, distributed & accumulation) = 24\n",
            "  Gradient Accumulation steps = 3\n",
            "  Total optimization steps = 3780\n",
            "/usr/local/lib/python3.7/dist-packages/transformers/feature_extraction_utils.py:158: UserWarning: Creating a tensor from a list of numpy.ndarrays is extremely slow. Please consider converting the list to a single numpy.ndarray with numpy.array() before converting to a tensor. (Triggered internally at  ../torch/csrc/utils/tensor_new.cpp:201.)\n",
            "  tensor = as_tensor(value)\n",
            "/usr/local/lib/python3.7/dist-packages/transformers/models/wav2vec2/modeling_wav2vec2.py:882: UserWarning: __floordiv__ is deprecated, and its behavior will change in a future version of pytorch. It currently rounds toward 0 (like the 'trunc' function NOT 'floor'). This results in incorrect rounding for negative values. To keep the current behavior, use torch.div(a, b, rounding_mode='trunc'), or for actual floor division, use torch.div(a, b, rounding_mode='floor').\n",
            "  return (input_length - kernel_size) // stride + 1\n"
          ]
        },
        {
          "output_type": "display_data",
          "data": {
            "text/html": [
              "\n",
              "    <div>\n",
              "      \n",
              "      <progress value='1071' max='3780' style='width:300px; height:20px; vertical-align: middle;'></progress>\n",
              "      [1071/3780 57:36 < 2:25:59, 0.31 it/s, Epoch 8.49/30]\n",
              "    </div>\n",
              "    <table border=\"1\" class=\"dataframe\">\n",
              "  <thead>\n",
              "    <tr style=\"text-align: left;\">\n",
              "      <th>Step</th>\n",
              "      <th>Training Loss</th>\n",
              "      <th>Validation Loss</th>\n",
              "      <th>Wer</th>\n",
              "    </tr>\n",
              "  </thead>\n",
              "  <tbody>\n",
              "    <tr>\n",
              "      <td>400</td>\n",
              "      <td>3.907700</td>\n",
              "      <td>0.727158</td>\n",
              "      <td>0.702788</td>\n",
              "    </tr>\n",
              "    <tr>\n",
              "      <td>800</td>\n",
              "      <td>0.470700</td>\n",
              "      <td>0.473068</td>\n",
              "      <td>0.528853</td>\n",
              "    </tr>\n",
              "  </tbody>\n",
              "</table><p>"
            ],
            "text/plain": [
              "<IPython.core.display.HTML object>"
            ]
          },
          "metadata": {}
        },
        {
          "output_type": "stream",
          "name": "stderr",
          "text": [
            "The following columns in the evaluation set  don't have a corresponding argument in `Wav2Vec2ForCTC.forward` and have been ignored: input_length.\n",
            "***** Running Evaluation *****\n",
            "  Num examples = 1647\n",
            "  Batch size = 8\n",
            "Saving model checkpoint to wav2vec2-large-xls-r-300m-turkish-demo-colab/checkpoint-400\n",
            "Configuration saved in wav2vec2-large-xls-r-300m-turkish-demo-colab/checkpoint-400/config.json\n",
            "Model weights saved in wav2vec2-large-xls-r-300m-turkish-demo-colab/checkpoint-400/pytorch_model.bin\n",
            "Configuration saved in wav2vec2-large-xls-r-300m-turkish-demo-colab/checkpoint-400/preprocessor_config.json\n",
            "Configuration saved in wav2vec2-large-xls-r-300m-turkish-demo-colab/preprocessor_config.json\n",
            "/usr/local/lib/python3.7/dist-packages/transformers/models/wav2vec2/modeling_wav2vec2.py:882: UserWarning: __floordiv__ is deprecated, and its behavior will change in a future version of pytorch. It currently rounds toward 0 (like the 'trunc' function NOT 'floor'). This results in incorrect rounding for negative values. To keep the current behavior, use torch.div(a, b, rounding_mode='trunc'), or for actual floor division, use torch.div(a, b, rounding_mode='floor').\n",
            "  return (input_length - kernel_size) // stride + 1\n",
            "The following columns in the evaluation set  don't have a corresponding argument in `Wav2Vec2ForCTC.forward` and have been ignored: input_length.\n",
            "***** Running Evaluation *****\n",
            "  Num examples = 1647\n",
            "  Batch size = 8\n",
            "Saving model checkpoint to wav2vec2-large-xls-r-300m-turkish-demo-colab/checkpoint-800\n",
            "Configuration saved in wav2vec2-large-xls-r-300m-turkish-demo-colab/checkpoint-800/config.json\n",
            "Model weights saved in wav2vec2-large-xls-r-300m-turkish-demo-colab/checkpoint-800/pytorch_model.bin\n",
            "Configuration saved in wav2vec2-large-xls-r-300m-turkish-demo-colab/checkpoint-800/preprocessor_config.json\n",
            "/usr/local/lib/python3.7/dist-packages/transformers/models/wav2vec2/modeling_wav2vec2.py:882: UserWarning: __floordiv__ is deprecated, and its behavior will change in a future version of pytorch. It currently rounds toward 0 (like the 'trunc' function NOT 'floor'). This results in incorrect rounding for negative values. To keep the current behavior, use torch.div(a, b, rounding_mode='trunc'), or for actual floor division, use torch.div(a, b, rounding_mode='floor').\n",
            "  return (input_length - kernel_size) // stride + 1\n"
          ]
        }
      ]
    },
    {
      "cell_type": "markdown",
      "metadata": {
        "id": "a9q4mgMZplr_"
      },
      "source": [
        "The training loss and validation WER go down nicely."
      ]
    },
    {
      "cell_type": "markdown",
      "metadata": {
        "id": "4Ya7WEy0pd13"
      },
      "source": [
        "You can now upload the result of the training to the 🤗 Hub, just execute this instruction:"
      ]
    },
    {
      "cell_type": "code",
      "metadata": {
        "id": "ArG1Thf6NBWm"
      },
      "source": [
        "trainer.push_to_hub()"
      ],
      "execution_count": null,
      "outputs": []
    },
    {
      "cell_type": "markdown",
      "metadata": {
        "id": "RHIVc44_fY2N"
      },
      "source": [
        "You can now share this model with all your friends, family, favorite pets: they can all load it with the identifier \"your-username/the-name-you-picked\" so for instance:"
      ]
    },
    {
      "cell_type": "markdown",
      "metadata": {
        "id": "5lWWIKyBpx1h"
      },
      "source": [
        "```python\n",
        "from transformers import AutoModelForCTC, Wav2Vec2Processor\n",
        "\n",
        "model = AutoModelForCTC.from_pretrained(\"patrickvonplaten/wav2vec2-large-xls-r-300m-tr-colab\")\n",
        "processor = Wav2Vec2Processor.from_pretrained(\"patrickvonplaten/wav2vec2-large-xls-r-300m-tr-colab\")\n",
        "```"
      ]
    },
    {
      "cell_type": "markdown",
      "metadata": {
        "id": "pmi1cX0fRBit"
      },
      "source": [
        "For more examples of how XLS-R can be fine-tuned, please take a look at the [official speech recognition examples](https://github.com/huggingface/transformers/tree/master/examples/pytorch/speech-recognition#examples)."
      ]
    },
    {
      "cell_type": "markdown",
      "metadata": {
        "id": "L8b8Qkoy3KyS"
      },
      "source": [
        "### Evaluation\n",
        "\n",
        "As a final check, let's load the model and verify that it indeed has learned to transcribe Turkish speech.\n",
        "\n",
        "Let's first load the pretrained checkpoint."
      ]
    },
    {
      "cell_type": "code",
      "metadata": {
        "id": "R351I9IQp_9D"
      },
      "source": [
        "model = Wav2Vec2ForCTC.from_pretrained(repo_name).to(\"cuda\")\n",
        "processor = Wav2Vec2Processor.from_pretrained(repo_name)"
      ],
      "execution_count": null,
      "outputs": []
    },
    {
      "cell_type": "markdown",
      "metadata": {
        "id": "jD7TZ1YS3S_K"
      },
      "source": [
        "\n",
        "Now, we will just take the first example of the test set, run it through the model and take the `argmax(...)` of the logits to retrieve the predicted token ids."
      ]
    },
    {
      "cell_type": "code",
      "metadata": {
        "colab": {
          "background_save": true
        },
        "id": "pax07TnL3WZn",
        "outputId": "867787ff-0cb7-41e9-f926-96f7b53e7134"
      },
      "source": [
        "input_dict = processor(common_voice_test[0][\"input_values\"], return_tensors=\"pt\", padding=True)\n",
        "\n",
        "logits = model(input_dict.input_values.to(\"cuda\")).logits\n",
        "\n",
        "pred_ids = torch.argmax(logits, dim=-1)[0]"
      ],
      "execution_count": null,
      "outputs": [
        {
          "name": "stderr",
          "output_type": "stream",
          "text": [
            "It is strongly recommended to pass the ``sampling_rate`` argument to this function.Failing to do so can result in silent errors that might be hard to debug.\n"
          ]
        }
      ]
    },
    {
      "cell_type": "markdown",
      "metadata": {
        "id": "7nkzSQu53Zs2"
      },
      "source": [
        "We adapted `common_voice_test` quite a bit so that the dataset instance does not contain the original sentence label anymore. Thus, we re-use the original dataset to get the label of the first example."
      ]
    },
    {
      "cell_type": "code",
      "metadata": {
        "colab": {
          "background_save": true,
          "referenced_widgets": [
            "54097a6c744849128d7cc3da8aad6609",
            "b8827ecbec9e44f09216f62c1ee12840",
            "8728bb32478240b7abe576375b01e640",
            "19b8a530352a423794395979e6415bea",
            "5fc8ec04870e4bb7b63b20844c355ab6"
          ]
        },
        "id": "fe2AE-2xqKHx",
        "outputId": "1d8321b3-4f41-4d71-e74e-f33f32a7b261"
      },
      "source": [
        "common_voice_test_transcription = load_dataset(\"common_voice\", \"tr\", data_dir=\"./cv-corpus-6.1-2020-12-11\", split=\"test\")"
      ],
      "execution_count": null,
      "outputs": [
        {
          "name": "stderr",
          "output_type": "stream",
          "text": [
            "Using custom data configuration tr-ad9f7b76efa9f3a0\n"
          ]
        },
        {
          "name": "stdout",
          "output_type": "stream",
          "text": [
            "Downloading and preparing dataset common_voice/tr (download: 592.09 MiB, generated: 2.89 MiB, post-processed: Unknown size, total: 594.98 MiB) to /root/.cache/huggingface/datasets/common_voice/tr-ad9f7b76efa9f3a0/6.1.0/f7a9d973839b7706e9e281c19b7e512f31badf3c0fdbd21c671f3c4bf9acf3b9...\n"
          ]
        },
        {
          "data": {
            "application/vnd.jupyter.widget-view+json": {
              "model_id": "54097a6c744849128d7cc3da8aad6609",
              "version_major": 2,
              "version_minor": 0
            },
            "text/plain": [
              "0 examples [00:00, ? examples/s]"
            ]
          },
          "metadata": {},
          "output_type": "display_data"
        },
        {
          "data": {
            "application/vnd.jupyter.widget-view+json": {
              "model_id": "b8827ecbec9e44f09216f62c1ee12840",
              "version_major": 2,
              "version_minor": 0
            },
            "text/plain": [
              "0 examples [00:00, ? examples/s]"
            ]
          },
          "metadata": {},
          "output_type": "display_data"
        },
        {
          "data": {
            "application/vnd.jupyter.widget-view+json": {
              "model_id": "8728bb32478240b7abe576375b01e640",
              "version_major": 2,
              "version_minor": 0
            },
            "text/plain": [
              "0 examples [00:00, ? examples/s]"
            ]
          },
          "metadata": {},
          "output_type": "display_data"
        },
        {
          "data": {
            "application/vnd.jupyter.widget-view+json": {
              "model_id": "19b8a530352a423794395979e6415bea",
              "version_major": 2,
              "version_minor": 0
            },
            "text/plain": [
              "0 examples [00:00, ? examples/s]"
            ]
          },
          "metadata": {},
          "output_type": "display_data"
        },
        {
          "data": {
            "application/vnd.jupyter.widget-view+json": {
              "model_id": "5fc8ec04870e4bb7b63b20844c355ab6",
              "version_major": 2,
              "version_minor": 0
            },
            "text/plain": [
              "0 examples [00:00, ? examples/s]"
            ]
          },
          "metadata": {},
          "output_type": "display_data"
        },
        {
          "name": "stdout",
          "output_type": "stream",
          "text": [
            "Dataset common_voice downloaded and prepared to /root/.cache/huggingface/datasets/common_voice/tr-ad9f7b76efa9f3a0/6.1.0/f7a9d973839b7706e9e281c19b7e512f31badf3c0fdbd21c671f3c4bf9acf3b9. Subsequent calls will reuse this data.\n"
          ]
        }
      ]
    },
    {
      "cell_type": "markdown",
      "metadata": {
        "id": "epu8kCQZ3h70"
      },
      "source": [
        "\n",
        "Finally, we can decode the example."
      ]
    },
    {
      "cell_type": "code",
      "metadata": {
        "colab": {
          "background_save": true
        },
        "id": "K4xWqmk_qMn0",
        "outputId": "d9e40b3c-f02a-48a1-d081-6d7e8b37dcaf"
      },
      "source": [
        "print(\"Prediction:\")\n",
        "print(processor.decode(pred_ids))\n",
        "\n",
        "print(\"\\nReference:\")\n",
        "print(common_voice_test_transcription[0][\"sentence\"].lower())"
      ],
      "execution_count": null,
      "outputs": [
        {
          "name": "stdout",
          "output_type": "stream",
          "text": [
            "Prediction:\n",
            "ha ta küçük şeyleri için bir büyük biş şeylir koğoluyor ve yeneküçük şeyler için bir birmizi incilkiyoruz\n",
            "\n",
            "Reference:\n",
            "hayatta küçük şeyleri kovalıyor ve yine küçük şeyler için birbirimizi incitiyoruz.\n"
          ]
        }
      ]
    },
    {
      "cell_type": "markdown",
      "metadata": {
        "id": "HwhyoMml3oOT"
      },
      "source": [
        "Alright! The transcription can definitely be recognized from our prediction, but it is not perfect yet. Training the model a bit longer, spending more time on the data preprocessing, and especially using a language model for decoding would certainly improve the model's overall performance.\n",
        "\n",
        "For a demonstration model on a low-resource language, the results are quite acceptable however 🤗."
      ]
    }
  ]
}